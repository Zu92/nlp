{
  "nbformat": 4,
  "nbformat_minor": 0,
  "metadata": {
    "colab": {
      "provenance": [],
      "authorship_tag": "ABX9TyOGcutO/v/z1sDTn41bmTEL",
      "include_colab_link": true
    },
    "kernelspec": {
      "name": "python3",
      "display_name": "Python 3"
    },
    "language_info": {
      "name": "python"
    }
  },
  "cells": [
    {
      "cell_type": "markdown",
      "metadata": {
        "id": "view-in-github",
        "colab_type": "text"
      },
      "source": [
        "<a href=\"https://colab.research.google.com/github/Zu92/nlp/blob/main/Zubieta_3erdesafio.ipynb\" target=\"_parent\"><img src=\"https://colab.research.google.com/assets/colab-badge.svg\" alt=\"Open In Colab\"/></a>"
      ]
    },
    {
      "cell_type": "code",
      "execution_count": 1,
      "metadata": {
        "id": "LHxRiInhpb5v"
      },
      "outputs": [],
      "source": [
        "import pandas as pd\n",
        "import matplotlib.pyplot as plt\n",
        "import seaborn as sns\n",
        "\n",
        "import multiprocessing\n",
        "from gensim.models import Word2Vec"
      ]
    },
    {
      "cell_type": "code",
      "source": [
        "# Descargar la carpeta de dataset\n",
        "import os\n",
        "import platform\n",
        "if os.access('./songs_dataset', os.F_OK) is False:\n",
        "    if os.access('songs_dataset.zip', os.F_OK) is False:\n",
        "        if platform.system() == 'Windows':\n",
        "            !curl https://raw.githubusercontent.com/FIUBA-Posgrado-Inteligencia-Artificial/procesamiento_lenguaje_natural/main/datasets/songs_dataset.zip -o songs_dataset.zip\n",
        "        else:\n",
        "            !wget songs_dataset.zip https://github.com/FIUBA-Posgrado-Inteligencia-Artificial/procesamiento_lenguaje_natural/raw/main/datasets/songs_dataset.zip\n",
        "    !unzip -q songs_dataset.zip   \n",
        "else:\n",
        "    print(\"El dataset ya se encuentra descargado\")"
      ],
      "metadata": {
        "colab": {
          "base_uri": "https://localhost:8080/"
        },
        "id": "GBQxtdLZue-P",
        "outputId": "1dd8addf-7e51-4058-d54a-6f2b87c32458"
      },
      "execution_count": 2,
      "outputs": [
        {
          "output_type": "stream",
          "name": "stdout",
          "text": [
            "--2023-05-26 15:43:31--  http://songs_dataset.zip/\n",
            "Resolving songs_dataset.zip (songs_dataset.zip)... failed: Name or service not known.\n",
            "wget: unable to resolve host address ‘songs_dataset.zip’\n",
            "--2023-05-26 15:43:32--  https://github.com/FIUBA-Posgrado-Inteligencia-Artificial/procesamiento_lenguaje_natural/raw/main/datasets/songs_dataset.zip\n",
            "Resolving github.com (github.com)... 140.82.112.4\n",
            "Connecting to github.com (github.com)|140.82.112.4|:443... connected.\n",
            "HTTP request sent, awaiting response... 302 Found\n",
            "Location: https://raw.githubusercontent.com/FIUBA-Posgrado-Inteligencia-Artificial/procesamiento_lenguaje_natural/main/datasets/songs_dataset.zip [following]\n",
            "--2023-05-26 15:43:32--  https://raw.githubusercontent.com/FIUBA-Posgrado-Inteligencia-Artificial/procesamiento_lenguaje_natural/main/datasets/songs_dataset.zip\n",
            "Resolving raw.githubusercontent.com (raw.githubusercontent.com)... 185.199.111.133, 185.199.109.133, 185.199.108.133, ...\n",
            "Connecting to raw.githubusercontent.com (raw.githubusercontent.com)|185.199.111.133|:443... connected.\n",
            "HTTP request sent, awaiting response... 200 OK\n",
            "Length: 2075036 (2.0M) [application/zip]\n",
            "Saving to: ‘songs_dataset.zip’\n",
            "\n",
            "songs_dataset.zip   100%[===================>]   1.98M  --.-KB/s    in 0.01s   \n",
            "\n",
            "2023-05-26 15:43:32 (142 MB/s) - ‘songs_dataset.zip’ saved [2075036/2075036]\n",
            "\n",
            "FINISHED --2023-05-26 15:43:32--\n",
            "Total wall clock time: 0.6s\n",
            "Downloaded: 1 files, 2.0M in 0.01s (142 MB/s)\n"
          ]
        }
      ]
    },
    {
      "cell_type": "code",
      "source": [
        "# Posibles bandas\n",
        "os.listdir(\"./songs_dataset/\")"
      ],
      "metadata": {
        "colab": {
          "base_uri": "https://localhost:8080/"
        },
        "id": "MQ9vZGJ4wxfv",
        "outputId": "69614060-dffe-4b96-fc9d-a6e0f42dbd84"
      },
      "execution_count": 3,
      "outputs": [
        {
          "output_type": "execute_result",
          "data": {
            "text/plain": [
              "['ludacris.txt',\n",
              " 'bruce-springsteen.txt',\n",
              " 'michael-jackson.txt',\n",
              " 'notorious-big.txt',\n",
              " 'britney-spears.txt',\n",
              " 'Kanye_West.txt',\n",
              " 'radiohead.txt',\n",
              " 'nicki-minaj.txt',\n",
              " 'kanye.txt',\n",
              " 'nirvana.txt',\n",
              " 'rihanna.txt',\n",
              " 'lin-manuel-miranda.txt',\n",
              " 'janisjoplin.txt',\n",
              " 'bieber.txt',\n",
              " 'nickelback.txt',\n",
              " 'johnny-cash.txt',\n",
              " 'blink-182.txt',\n",
              " 'patti-smith.txt',\n",
              " 'eminem.txt',\n",
              " 'lorde.txt',\n",
              " 'dickinson.txt',\n",
              " 'adele.txt',\n",
              " 'bob-dylan.txt',\n",
              " 'paul-simon.txt',\n",
              " 'drake.txt',\n",
              " 'joni-mitchell.txt',\n",
              " 'r-kelly.txt',\n",
              " 'jimi-hendrix.txt',\n",
              " 'missy-elliott.txt',\n",
              " 'Lil_Wayne.txt',\n",
              " 'dolly-parton.txt',\n",
              " 'al-green.txt',\n",
              " 'bjork.txt',\n",
              " 'prince.txt',\n",
              " 'amy-winehouse.txt',\n",
              " 'disney.txt',\n",
              " 'lil-wayne.txt',\n",
              " 'alicia-keys.txt',\n",
              " 'notorious_big.txt',\n",
              " 'leonard-cohen.txt',\n",
              " 'dr-seuss.txt',\n",
              " 'cake.txt',\n",
              " 'bob-marley.txt',\n",
              " 'bruno-mars.txt',\n",
              " 'dj-khaled.txt',\n",
              " 'beatles.txt',\n",
              " 'nursery_rhymes.txt',\n",
              " 'lady-gaga.txt',\n",
              " 'kanye-west.txt']"
            ]
          },
          "metadata": {},
          "execution_count": 3
        }
      ]
    },
    {
      "cell_type": "code",
      "source": [
        "# Armar el dataset utilizando salto de línea para separar las oraciones/docs\n",
        "df = pd.read_csv('songs_dataset/disney.txt', sep='/n', header=None)\n",
        "df.head()"
      ],
      "metadata": {
        "colab": {
          "base_uri": "https://localhost:8080/",
          "height": 261
        },
        "id": "CsS2xMLhw6p-",
        "outputId": "3edf2041-d4c4-49a2-b1ed-a623ea94b1b4"
      },
      "execution_count": 6,
      "outputs": [
        {
          "output_type": "stream",
          "name": "stderr",
          "text": [
            "<ipython-input-6-802f6c0af91f>:2: ParserWarning: Falling back to the 'python' engine because the 'c' engine does not support regex separators (separators > 1 char and different from '\\s+' are interpreted as regex); you can avoid this warning by specifying engine='python'.\n",
            "  df = pd.read_csv('songs_dataset/disney.txt', sep='/n', header=None)\n"
          ]
        },
        {
          "output_type": "execute_result",
          "data": {
            "text/plain": [
              "                                            0\n",
              "0                      When somebody loved me\n",
              "1                    Everything was beautiful\n",
              "2                Every hour we spent together\n",
              "3  Lives within my heart And when she was sad\n",
              "4                I was there to dry her tears"
            ],
            "text/html": [
              "\n",
              "  <div id=\"df-5b5da385-750b-4212-8a13-73f1158c597c\">\n",
              "    <div class=\"colab-df-container\">\n",
              "      <div>\n",
              "<style scoped>\n",
              "    .dataframe tbody tr th:only-of-type {\n",
              "        vertical-align: middle;\n",
              "    }\n",
              "\n",
              "    .dataframe tbody tr th {\n",
              "        vertical-align: top;\n",
              "    }\n",
              "\n",
              "    .dataframe thead th {\n",
              "        text-align: right;\n",
              "    }\n",
              "</style>\n",
              "<table border=\"1\" class=\"dataframe\">\n",
              "  <thead>\n",
              "    <tr style=\"text-align: right;\">\n",
              "      <th></th>\n",
              "      <th>0</th>\n",
              "    </tr>\n",
              "  </thead>\n",
              "  <tbody>\n",
              "    <tr>\n",
              "      <th>0</th>\n",
              "      <td>When somebody loved me</td>\n",
              "    </tr>\n",
              "    <tr>\n",
              "      <th>1</th>\n",
              "      <td>Everything was beautiful</td>\n",
              "    </tr>\n",
              "    <tr>\n",
              "      <th>2</th>\n",
              "      <td>Every hour we spent together</td>\n",
              "    </tr>\n",
              "    <tr>\n",
              "      <th>3</th>\n",
              "      <td>Lives within my heart And when she was sad</td>\n",
              "    </tr>\n",
              "    <tr>\n",
              "      <th>4</th>\n",
              "      <td>I was there to dry her tears</td>\n",
              "    </tr>\n",
              "  </tbody>\n",
              "</table>\n",
              "</div>\n",
              "      <button class=\"colab-df-convert\" onclick=\"convertToInteractive('df-5b5da385-750b-4212-8a13-73f1158c597c')\"\n",
              "              title=\"Convert this dataframe to an interactive table.\"\n",
              "              style=\"display:none;\">\n",
              "        \n",
              "  <svg xmlns=\"http://www.w3.org/2000/svg\" height=\"24px\"viewBox=\"0 0 24 24\"\n",
              "       width=\"24px\">\n",
              "    <path d=\"M0 0h24v24H0V0z\" fill=\"none\"/>\n",
              "    <path d=\"M18.56 5.44l.94 2.06.94-2.06 2.06-.94-2.06-.94-.94-2.06-.94 2.06-2.06.94zm-11 1L8.5 8.5l.94-2.06 2.06-.94-2.06-.94L8.5 2.5l-.94 2.06-2.06.94zm10 10l.94 2.06.94-2.06 2.06-.94-2.06-.94-.94-2.06-.94 2.06-2.06.94z\"/><path d=\"M17.41 7.96l-1.37-1.37c-.4-.4-.92-.59-1.43-.59-.52 0-1.04.2-1.43.59L10.3 9.45l-7.72 7.72c-.78.78-.78 2.05 0 2.83L4 21.41c.39.39.9.59 1.41.59.51 0 1.02-.2 1.41-.59l7.78-7.78 2.81-2.81c.8-.78.8-2.07 0-2.86zM5.41 20L4 18.59l7.72-7.72 1.47 1.35L5.41 20z\"/>\n",
              "  </svg>\n",
              "      </button>\n",
              "      \n",
              "  <style>\n",
              "    .colab-df-container {\n",
              "      display:flex;\n",
              "      flex-wrap:wrap;\n",
              "      gap: 12px;\n",
              "    }\n",
              "\n",
              "    .colab-df-convert {\n",
              "      background-color: #E8F0FE;\n",
              "      border: none;\n",
              "      border-radius: 50%;\n",
              "      cursor: pointer;\n",
              "      display: none;\n",
              "      fill: #1967D2;\n",
              "      height: 32px;\n",
              "      padding: 0 0 0 0;\n",
              "      width: 32px;\n",
              "    }\n",
              "\n",
              "    .colab-df-convert:hover {\n",
              "      background-color: #E2EBFA;\n",
              "      box-shadow: 0px 1px 2px rgba(60, 64, 67, 0.3), 0px 1px 3px 1px rgba(60, 64, 67, 0.15);\n",
              "      fill: #174EA6;\n",
              "    }\n",
              "\n",
              "    [theme=dark] .colab-df-convert {\n",
              "      background-color: #3B4455;\n",
              "      fill: #D2E3FC;\n",
              "    }\n",
              "\n",
              "    [theme=dark] .colab-df-convert:hover {\n",
              "      background-color: #434B5C;\n",
              "      box-shadow: 0px 1px 3px 1px rgba(0, 0, 0, 0.15);\n",
              "      filter: drop-shadow(0px 1px 2px rgba(0, 0, 0, 0.3));\n",
              "      fill: #FFFFFF;\n",
              "    }\n",
              "  </style>\n",
              "\n",
              "      <script>\n",
              "        const buttonEl =\n",
              "          document.querySelector('#df-5b5da385-750b-4212-8a13-73f1158c597c button.colab-df-convert');\n",
              "        buttonEl.style.display =\n",
              "          google.colab.kernel.accessAllowed ? 'block' : 'none';\n",
              "\n",
              "        async function convertToInteractive(key) {\n",
              "          const element = document.querySelector('#df-5b5da385-750b-4212-8a13-73f1158c597c');\n",
              "          const dataTable =\n",
              "            await google.colab.kernel.invokeFunction('convertToInteractive',\n",
              "                                                     [key], {});\n",
              "          if (!dataTable) return;\n",
              "\n",
              "          const docLinkHtml = 'Like what you see? Visit the ' +\n",
              "            '<a target=\"_blank\" href=https://colab.research.google.com/notebooks/data_table.ipynb>data table notebook</a>'\n",
              "            + ' to learn more about interactive tables.';\n",
              "          element.innerHTML = '';\n",
              "          dataTable['output_type'] = 'display_data';\n",
              "          await google.colab.output.renderOutput(dataTable, element);\n",
              "          const docLink = document.createElement('div');\n",
              "          docLink.innerHTML = docLinkHtml;\n",
              "          element.appendChild(docLink);\n",
              "        }\n",
              "      </script>\n",
              "    </div>\n",
              "  </div>\n",
              "  "
            ]
          },
          "metadata": {},
          "execution_count": 6
        }
      ]
    },
    {
      "cell_type": "code",
      "source": [
        "\n",
        "print(\"Cantidad de documentos:\", df.shape[0])"
      ],
      "metadata": {
        "colab": {
          "base_uri": "https://localhost:8080/"
        },
        "id": "aQWXn7-axA0a",
        "outputId": "dd4c4038-c863-4d49-c65c-035b04ccecd2"
      },
      "execution_count": 7,
      "outputs": [
        {
          "output_type": "stream",
          "name": "stdout",
          "text": [
            "Cantidad de documentos: 2499\n"
          ]
        }
      ]
    },
    {
      "cell_type": "code",
      "source": [
        "# Cantidad de words encontradas en el corpus\n",
        "print(\"Cantidad de words distintas en el corpus:\",  len(w2v_model.wv.key_to_index))"
      ],
      "metadata": {
        "colab": {
          "base_uri": "https://localhost:8080/"
        },
        "id": "kFpy9GyTzJdQ",
        "outputId": "233fd6e3-1a74-4869-f2d3-659f6c5866a9"
      },
      "execution_count": 35,
      "outputs": [
        {
          "output_type": "stream",
          "name": "stdout",
          "text": [
            "Cantidad de words distintas en el corpus: 535\n"
          ]
        }
      ]
    },
    {
      "cell_type": "code",
      "source": [
        "from keras.preprocessing.text import text_to_word_sequence\n",
        "\n",
        "sentence_tokens = []\n",
        "# Recorrer todas las filas y transformar las oraciones\n",
        "# en una secuencia de palabras (esto podría realizarse con NLTK o spaCy también)\n",
        "for _, row in df[:None].iterrows():\n",
        "    sentence_tokens.append(text_to_word_sequence(row[0]))"
      ],
      "metadata": {
        "id": "PSCQqzBRxR4n"
      },
      "execution_count": 8,
      "outputs": []
    },
    {
      "cell_type": "code",
      "source": [
        "# Demos un vistazo\n",
        "sentence_tokens[:2]"
      ],
      "metadata": {
        "colab": {
          "base_uri": "https://localhost:8080/"
        },
        "id": "kKHYsv-5xctm",
        "outputId": "a00af761-2e38-4fc0-add7-2fe997471558"
      },
      "execution_count": 9,
      "outputs": [
        {
          "output_type": "execute_result",
          "data": {
            "text/plain": [
              "[['when', 'somebody', 'loved', 'me'], ['everything', 'was', 'beautiful']]"
            ]
          },
          "metadata": {},
          "execution_count": 9
        }
      ]
    },
    {
      "cell_type": "code",
      "source": [
        "from gensim.models.callbacks import CallbackAny2Vec\n",
        "# Durante el entrenamiento gensim por defecto no informa el \"loss\" en cada época\n",
        "# Sobrecargamos el callback para poder tener esta información\n",
        "class callback(CallbackAny2Vec):\n",
        "    \"\"\"\n",
        "    Callback to print loss after each epoch\n",
        "    \"\"\"\n",
        "    def __init__(self):\n",
        "        self.epoch = 0\n",
        "\n",
        "    def on_epoch_end(self, model):\n",
        "        loss = model.get_latest_training_loss()\n",
        "        if self.epoch == 0:\n",
        "            print('Loss after epoch {}: {}'.format(self.epoch, loss))\n",
        "        else:\n",
        "            print('Loss after epoch {}: {}'.format(self.epoch, loss- self.loss_previous_step))\n",
        "        self.epoch += 1\n",
        "        self.loss_previous_step = loss"
      ],
      "metadata": {
        "id": "l3hBCyqzxfoG"
      },
      "execution_count": 10,
      "outputs": []
    },
    {
      "cell_type": "code",
      "source": [
        "# Crearmos el modelo generador de vectores\n",
        "# En este caso utilizaremos la estructura modelo Skipgram\n",
        "w2v_model = Word2Vec(min_count=5,    # frecuencia mínima de palabra para incluirla en el vocabulario\n",
        "                     window=2,       # cant de palabras antes y desp de la predicha\n",
        "                     vector_size=300,       # dimensionalidad de los vectores \n",
        "                     negative=20,    # cantidad de negative samples... 0 es no se usa\n",
        "                     workers=1,      # si tienen más cores pueden cambiar este valor\n",
        "                     sg=1)           # modelo 0:CBOW  1:skipgram"
      ],
      "metadata": {
        "id": "ygI8KomUxjAA"
      },
      "execution_count": 11,
      "outputs": []
    },
    {
      "cell_type": "code",
      "source": [
        "# Obtener el vocabulario con los tokens\n",
        "w2v_model.build_vocab(sentence_tokens)"
      ],
      "metadata": {
        "id": "xcwlchIuxlKB"
      },
      "execution_count": 12,
      "outputs": []
    },
    {
      "cell_type": "code",
      "source": [
        "\n",
        "print(\"Cantidad de docs en el corpus:\", w2v_model.corpus_count)"
      ],
      "metadata": {
        "colab": {
          "base_uri": "https://localhost:8080/"
        },
        "id": "owyFAx5RxnDu",
        "outputId": "a26751c7-5604-40e4-e156-a680a41f74bf"
      },
      "execution_count": 15,
      "outputs": [
        {
          "output_type": "stream",
          "name": "stdout",
          "text": [
            "Cantidad de docs en el corpus: 2499\n"
          ]
        }
      ]
    },
    {
      "cell_type": "code",
      "source": [
        "# Entrenamos el modelo generador de vectores\n",
        "# Utilizamos nuestro callback\n",
        "w2v_model.train(sentence_tokens,\n",
        "                 total_examples=w2v_model.corpus_count,\n",
        "                 epochs=20,\n",
        "                 compute_loss = True,\n",
        "                 callbacks=[callback()]\n",
        "                 )"
      ],
      "metadata": {
        "colab": {
          "base_uri": "https://localhost:8080/"
        },
        "id": "SfN5SLcQxs4_",
        "outputId": "594d4783-f0e5-4076-dc4a-1a23927aa38a"
      },
      "execution_count": 19,
      "outputs": [
        {
          "output_type": "stream",
          "name": "stdout",
          "text": [
            "Loss after epoch 0: 139809.6875\n",
            "Loss after epoch 1: 76958.71875\n",
            "Loss after epoch 2: 75630.75\n",
            "Loss after epoch 3: 74938.4375\n",
            "Loss after epoch 4: 73700.8125\n",
            "Loss after epoch 5: 74565.34375\n",
            "Loss after epoch 6: 75929.875\n",
            "Loss after epoch 7: 73588.5\n",
            "Loss after epoch 8: 74122.5\n",
            "Loss after epoch 9: 72796.125\n",
            "Loss after epoch 10: 72552.8125\n",
            "Loss after epoch 11: 70682.75\n",
            "Loss after epoch 12: 70042.5\n",
            "Loss after epoch 13: 63759.8125\n",
            "Loss after epoch 14: 60933.625\n",
            "Loss after epoch 15: 60333.75\n",
            "Loss after epoch 16: 60269.25\n",
            "Loss after epoch 17: 60107.125\n",
            "Loss after epoch 18: 59576.375\n",
            "Loss after epoch 19: 58719.0\n"
          ]
        },
        {
          "output_type": "execute_result",
          "data": {
            "text/plain": [
              "(187145, 350840)"
            ]
          },
          "metadata": {},
          "execution_count": 19
        }
      ]
    },
    {
      "cell_type": "code",
      "source": [
        "# Palabras que MÁS se relacionan con...:\n",
        "w2v_model.wv.most_similar(positive=[\"love\"], topn=10)"
      ],
      "metadata": {
        "colab": {
          "base_uri": "https://localhost:8080/"
        },
        "id": "oh8YtkYfyHGR",
        "outputId": "30367be8-d144-4746-9def-88698db3af30"
      },
      "execution_count": 22,
      "outputs": [
        {
          "output_type": "execute_result",
          "data": {
            "text/plain": [
              "[('more', 0.922218382358551),\n",
              " ('than', 0.9067693948745728),\n",
              " (\"you'll\", 0.9046448469161987),\n",
              " ('last', 0.892278790473938),\n",
              " ('find', 0.8921127319335938),\n",
              " ('learn', 0.8874883651733398),\n",
              " ('tonight', 0.8834723234176636),\n",
              " ('feel', 0.8777900338172913),\n",
              " ('thought', 0.8757887482643127),\n",
              " ('way', 0.8735491633415222)]"
            ]
          },
          "metadata": {},
          "execution_count": 22
        }
      ]
    },
    {
      "cell_type": "code",
      "source": [
        "# Palabras que MÁS se relacionan con...:\n",
        "w2v_model.wv.most_similar(positive=[\"heart\"], topn=10)"
      ],
      "metadata": {
        "colab": {
          "base_uri": "https://localhost:8080/"
        },
        "id": "BfFWE5OUxu5x",
        "outputId": "42661b23-63b5-4377-c3e1-698b13402453"
      },
      "execution_count": 23,
      "outputs": [
        {
          "output_type": "execute_result",
          "data": {
            "text/plain": [
              "[('my', 0.9368848204612732),\n",
              " ('in', 0.8880547285079956),\n",
              " ('here', 0.8880146145820618),\n",
              " ('would', 0.8816394805908203),\n",
              " ('within', 0.878869354724884),\n",
              " ('by', 0.8735052943229675),\n",
              " (\"you'll\", 0.8722706437110901),\n",
              " ('thought', 0.8594571948051453),\n",
              " ('each', 0.8579911589622498),\n",
              " ('lives', 0.8574801087379456)]"
            ]
          },
          "metadata": {},
          "execution_count": 23
        }
      ]
    },
    {
      "cell_type": "code",
      "source": [
        "# Palabras que MÁS se relacionan con...:\n",
        "w2v_model.wv.most_similar(positive=[\"friend\"], topn=10)"
      ],
      "metadata": {
        "colab": {
          "base_uri": "https://localhost:8080/"
        },
        "id": "jsZGdGF3yfPZ",
        "outputId": "319ff809-f2b6-4bab-845a-1d2ae4540b39"
      },
      "execution_count": 24,
      "outputs": [
        {
          "output_type": "execute_result",
          "data": {
            "text/plain": [
              "[('had', 0.9413434267044067),\n",
              " (\"you've\", 0.9403451681137085),\n",
              " (\"i've\", 0.92673659324646),\n",
              " ('got', 0.9204878807067871),\n",
              " ('been', 0.9031662940979004),\n",
              " ('strings', 0.8586952686309814),\n",
              " (\"ain't\", 0.8551014065742493),\n",
              " ('everything', 0.8145700097084045),\n",
              " (\"we've\", 0.8022918105125427),\n",
              " ('girls', 0.7950414419174194)]"
            ]
          },
          "metadata": {},
          "execution_count": 24
        }
      ]
    },
    {
      "cell_type": "code",
      "source": [
        "# Palabras que MÁS se relacionan con...:\n",
        "w2v_model.wv.most_similar(positive=[\"life\"], topn=10)"
      ],
      "metadata": {
        "colab": {
          "base_uri": "https://localhost:8080/"
        },
        "id": "e2H2Vjh_ykOq",
        "outputId": "f5a3e207-cbc4-49d8-b1c9-28a076a20553"
      },
      "execution_count": 25,
      "outputs": [
        {
          "output_type": "execute_result",
          "data": {
            "text/plain": [
              "[('circle', 0.9153592586517334),\n",
              " ('necessities', 0.8947654366493225),\n",
              " ('bare', 0.8929601907730103),\n",
              " ('green', 0.8892955183982849),\n",
              " ('die', 0.8804923892021179),\n",
              " ('heave', 0.8612946271896362),\n",
              " ('thieves', 0.8480879068374634),\n",
              " ('hey', 0.8381467461585999),\n",
              " ('yo', 0.8322283029556274),\n",
              " ('beggars', 0.8307238221168518)]"
            ]
          },
          "metadata": {},
          "execution_count": 25
        }
      ]
    },
    {
      "cell_type": "code",
      "source": [
        "from sklearn.decomposition import IncrementalPCA    \n",
        "from sklearn.manifold import TSNE                   \n",
        "import numpy as np                                  \n",
        "\n",
        "def reduce_dimensions(model):\n",
        "    num_dimensions = 2  \n",
        "\n",
        "    vectors = np.asarray(model.wv.vectors)\n",
        "    labels = np.asarray(model.wv.index_to_key)  \n",
        "\n",
        "    tsne = TSNE(n_components=num_dimensions, random_state=0)\n",
        "    vectors = tsne.fit_transform(vectors)\n",
        "\n",
        "    x_vals = [v[0] for v in vectors]\n",
        "    y_vals = [v[1] for v in vectors]\n",
        "    return x_vals, y_vals, labels"
      ],
      "metadata": {
        "id": "XkrBR72kyri2"
      },
      "execution_count": 38,
      "outputs": []
    },
    {
      "cell_type": "code",
      "source": [
        "# Graficar los embedddings en 2D\n",
        "import plotly.graph_objects as go\n",
        "import plotly.express as px\n",
        "\n",
        "x_vals, y_vals, labels =  reduce_dimensions(w2v_model)\n",
        "\n",
        "\n",
        "MAX_WORDS=200\n",
        "fig = px.scatter(x=x_vals[:MAX_WORDS], y=y_vals[:MAX_WORDS], text=labels[:MAX_WORDS])\n",
        "fig.show(renderer=\"colab\") # esto para plotly en colab"
      ],
      "metadata": {
        "colab": {
          "base_uri": "https://localhost:8080/",
          "height": 542
        },
        "id": "ofP6KHDDyu5_",
        "outputId": "58a4b7d0-4204-4035-a56b-e4548362b4cf"
      },
      "execution_count": 40,
      "outputs": [
        {
          "output_type": "display_data",
          "data": {
            "text/html": [
              "<html>\n",
              "<head><meta charset=\"utf-8\" /></head>\n",
              "<body>\n",
              "    <div>            <script src=\"https://cdnjs.cloudflare.com/ajax/libs/mathjax/2.7.5/MathJax.js?config=TeX-AMS-MML_SVG\"></script><script type=\"text/javascript\">if (window.MathJax && window.MathJax.Hub && window.MathJax.Hub.Config) {window.MathJax.Hub.Config({SVG: {font: \"STIX-Web\"}});}</script>                <script type=\"text/javascript\">window.PlotlyConfig = {MathJaxConfig: 'local'};</script>\n",
              "        <script src=\"https://cdn.plot.ly/plotly-2.18.2.min.js\"></script>                <div id=\"4a74d62a-5845-48db-8255-255262ab243d\" class=\"plotly-graph-div\" style=\"height:525px; width:100%;\"></div>            <script type=\"text/javascript\">                                    window.PLOTLYENV=window.PLOTLYENV || {};                                    if (document.getElementById(\"4a74d62a-5845-48db-8255-255262ab243d\")) {                    Plotly.newPlot(                        \"4a74d62a-5845-48db-8255-255262ab243d\",                        [{\"hovertemplate\":\"x=%{x}<br>y=%{y}<br>text=%{text}<extra></extra>\",\"legendgroup\":\"\",\"marker\":{\"color\":\"#636efa\",\"symbol\":\"circle\"},\"mode\":\"markers+text\",\"name\":\"\",\"orientation\":\"v\",\"showlegend\":false,\"text\":[\"the\",\"a\",\"you\",\"and\",\"i\",\"to\",\"of\",\"me\",\"it\",\"be\",\"on\",\"it's\",\"in\",\"that\",\"is\",\"my\",\"your\",\"we\",\"can\",\"all\",\"just\",\"for\",\"know\",\"as\",\"with\",\"but\",\"no\",\"so\",\"what\",\"when\",\"this\",\"world\",\"like\",\"one\",\"got\",\"i'm\",\"there\",\"are\",\"come\",\"if\",\"never\",\"love\",\"la\",\"now\",\"will\",\"small\",\"do\",\"have\",\"you're\",\"they\",\"don't\",\"see\",\"go\",\"at\",\"up\",\"where\",\"time\",\"our\",\"she\",\"oh\",\"was\",\"her\",\"who\",\"heart\",\"from\",\"here\",\"look\",\"how\",\"way\",\"let\",\"make\",\"out\",\"i'll\",\"sea\",\"you'll\",\"i've\",\"little\",\"eye\",\"man\",\"day\",\"girl\",\"say\",\"john\",\"he\",\"true\",\"well\",\"through\",\"ever\",\"down\",\"you've\",\"think\",\"once\",\"find\",\"we're\",\"ho\",\"around\",\"every\",\"or\",\"there's\",\"life\",\"not\",\"too\",\"after\",\"right\",\"us\",\"old\",\"why\",\"snow\",\"had\",\"far\",\"wish\",\"tale\",\"welcome\",\"dream\",\"we'll\",\"fly\",\"henry\",\"by\",\"guest\",\"e\",\"yo\",\"want\",\"inside\",\"under\",\"that's\",\"has\",\"song\",\"would\",\"light\",\"fire\",\"his\",\"high\",\"loved\",\"take\",\"some\",\"bells\",\"get\",\"been\",\"everything\",\"friend\",\"keep\",\"could\",\"she's\",\"hand\",\"need\",\"more\",\"upon\",\"can't\",\"let's\",\"sun\",\"always\",\"send\",\"knew\",\"eyes\",\"part\",\"people\",\"river\",\"gonna\",\"ain't\",\"seein'\",\"am\",\"wanna\",\"were\",\"whole\",\"won't\",\"hammer\",\"new\",\"yes\",\"an\",\"together\",\"still\",\"bare\",\"did\",\"necessities\",\"sky\",\"much\",\"play\",\"kiss\",\"then\",\"friends\",\"stop\",\"its\",\"free\",\"tell\",\"try\",\"feel\",\"sing\",\"each\",\"wonderful\",\"really\",\"soul\",\"he's\",\"mary\",\"zip\",\"o\",\"everybody\",\"sweet\",\"those\",\"thought\",\"night\"],\"x\":[-0.7858989238739014,20.351764678955078,-17.057897567749023,-6.19079065322876,-16.904752731323242,-10.990352630615234,-21.82127571105957,-15.310847282409668,-9.979207992553711,8.934385299682617,-7.279827117919922,-29.306055068969727,3.6796798706054688,14.068611145019531,11.91950511932373,5.248291015625,-0.10184876620769501,2.483553409576416,2.805288314819336,-29.534015655517578,13.095755577087402,0.9027026295661926,-18.12555694580078,-25.332801818847656,21.237655639648438,-7.591966152191162,-17.257532119750977,16.955352783203125,-17.27939224243164,-12.671409606933594,13.237287521362305,-30.767986297607422,13.564603805541992,-16.995290756225586,-5.628174304962158,-12.09561824798584,-11.929463386535645,-13.511812210083008,-4.949211597442627,-0.7230058312416077,-2.0978665351867676,13.223971366882324,-10.665867805480957,-27.43505096435547,-17.655759811401367,-31.64512825012207,-17.12009048461914,-2.7547171115875244,17.588302612304688,-14.958970069885254,-16.276432037353516,0.7104660868644714,-16.69338035583496,19.273101806640625,2.131235122680664,-12.351644515991211,-23.74526596069336,9.458785057067871,-15.234694480895996,11.926677703857422,9.758493423461914,-10.20995044708252,-13.70311450958252,5.294846534729004,-10.073798179626465,6.416569709777832,-1.9864503145217896,-18.880590438842773,19.313453674316406,-10.962007522583008,4.983335018157959,-0.8011824488639832,-12.162432670593262,-3.69748854637146,12.765454292297363,-5.645934581756592,14.045315742492676,-13.167830467224121,15.482751846313477,0.5203478336334229,-12.332293510437012,-17.046167373657227,15.471283912658691,9.753768920898438,14.784653663635254,-8.652243614196777,-7.668575286865234,-22.710756301879883,-15.991565704345703,-5.584737777709961,-3.253117799758911,19.699230194091797,11.484582901000977,-11.8917236328125,3.0470802783966064,9.434202194213867,-2.206751823425293,-16.749895095825195,7.4158034324646,4.812610149383545,10.267430305480957,-18.63558006286621,-31.44013786315918,15.158961296081543,-4.33275842666626,-25.590150833129883,-10.154465675354004,-11.029889106750488,-4.779378414154053,-19.600101470947266,15.324115753173828,-25.37206268310547,17.588668823242188,19.575517654418945,2.950702428817749,-5.871294975280762,15.543716430664062,3.9462950229644775,9.481932640075684,-5.0891547203063965,3.4061760902404785,-6.392910003662109,-11.667661666870117,-3.6826698780059814,11.976186752319336,18.151752471923828,-24.456623077392578,10.391657829284668,8.136178970336914,12.803281784057617,14.545429229736328,4.030403137207031,-15.162374496459961,-5.5394439697265625,-4.663102626800537,-23.221729278564453,-13.78374195098877,-6.20308780670166,15.71374797821045,-4.868314266204834,-7.618513584136963,10.895387649536133,8.709894180297852,14.456559181213379,1.7555642127990723,12.72255802154541,19.628517150878906,-6.091606616973877,-5.395938873291016,-22.144868850708008,-5.328319549560547,-8.879910469055176,-1.0785269737243652,-9.553462028503418,17.608417510986328,-12.773451805114746,9.435044288635254,-6.970675945281982,-2.768643617630005,-13.057733535766602,-13.0009183883667,-5.233849048614502,-19.505126953125,-29.48599624633789,-16.757780075073242,21.216373443603516,-29.612058639526367,2.3870837688446045,-0.5834897756576538,3.127556800842285,-7.93264102935791,4.65700626373291,19.59491729736328,4.659229755401611,0.055207379162311554,6.362217903137207,-9.934711456298828,-12.329915046691895,8.435997009277344,-7.880398750305176,-2.208235502243042,13.62277889251709,7.064773082733154,-16.96792221069336,-2.830207347869873,-1.9950021505355835,-20.792936325073242,-0.3778647184371948,11.174309730529785,-3.953193426132202,0.9511153101921082,14.114945411682129,17.167997360229492,23.092763900756836,-5.922555446624756,-28.500263214111328,1.222744345664978,-19.210115432739258,10.102326393127441,7.169630527496338],\"xaxis\":\"x\",\"y\":[-13.855076789855957,-7.492362976074219,15.210658073425293,-1.335834264755249,16.038049697875977,-3.7754061222076416,-6.643068790435791,-1.2967402935028076,-6.467604160308838,20.528507232666016,-8.475481033325195,11.113656997680664,21.85895347595215,6.151259422302246,-16.809284210205078,23.0386905670166,-0.7636516690254211,17.673200607299805,14.87161636352539,11.698225021362305,-17.89134979248047,-4.782303333282471,14.315923690795898,-13.253103256225586,-9.29434585571289,16.012069702148438,8.266620635986328,1.5712051391601562,14.391193389892578,0.35361939668655396,-9.370946884155273,11.287541389465332,-19.039276123046875,7.3969407081604,26.380067825317383,-10.90993595123291,-11.826319694519043,12.028486251831055,-8.87193775177002,22.74795913696289,22.872447967529297,17.262405395507812,-24.589927673339844,11.546148300170898,-15.996338844299316,11.462895393371582,13.540384292602539,19.422330856323242,17.006261825561523,13.718527793884277,12.5753755569458,13.387940406799316,20.047733306884766,10.117354393005371,-25.886640548706055,12.743589401245117,-13.89600944519043,22.236255645751953,0.04427583888173103,-10.177446365356445,-18.743513107299805,2.8571412563323975,10.422140121459961,23.03277587890625,15.802694320678711,19.582191467285156,15.06695556640625,8.557831764221191,9.923675537109375,-7.276941776275635,16.64189910888672,-10.800824165344238,16.04449462890625,-13.686904907226562,18.737712860107422,25.261920928955078,-12.19371509552002,-5.132253646850586,-18.562480926513672,15.728662490844727,18.835250854492188,3.860659122467041,-20.139299392700195,-18.718584060668945,3.2659969329833984,20.751489639282227,-0.3401280641555786,-14.754449844360352,20.313060760498047,26.052265167236328,13.458649635314941,8.25867748260498,18.443368911743164,-4.355207920074463,-27.837400436401367,29.886146545410156,-0.1435818076133728,-12.623907089233398,8.925873756408691,-20.04983901977539,-7.02811336517334,8.621492385864258,11.43016242980957,-16.671886444091797,-4.443343639373779,-12.554101943969727,-2.060532569885254,-7.325203895568848,25.39554786682129,8.208780288696289,4.679965496063232,-11.250506401062012,17.005836486816406,7.037141799926758,17.86018943786621,-6.255107402801514,-20.19973373413086,20.870887756347656,22.314483642578125,-23.62575912475586,-27.695472717285156,13.970531463623047,10.956990242004395,-13.682289123535156,-5.909389495849609,-9.317632675170898,-12.875301361083984,19.24087905883789,-10.724706649780273,-11.130773544311523,-15.823351860046387,-14.712496757507324,-0.2532920241355896,-2.9611501693725586,19.276357650756836,-8.04216194152832,14.649215698242188,24.379009246826172,-0.7066555619239807,26.15571403503418,-9.752301216125488,20.026023864746094,19.86931610107422,-16.005788803100586,13.410774230957031,16.329099655151367,7.279886722564697,8.713517189025879,-7.470416069030762,-10.756082534790039,10.431596755981445,-7.387547969818115,22.75425148010254,-20.352872848510742,-4.914548397064209,12.506752967834473,29.884029388427734,12.85194206237793,21.040414810180664,-5.140933990478516,10.731222152709961,14.643245697021484,-14.486538887023926,10.045586585998535,3.90543794631958,-9.140629768371582,10.258427619934082,8.455097198486328,-5.321268558502197,-24.956201553344727,6.101350784301758,-19.122285842895508,8.419689178466797,-19.10232162475586,-12.416306495666504,9.568954467773438,14.925640106201172,18.82228660583496,17.26435661315918,19.525392532348633,19.989545822143555,-1.5249402523040771,17.42584800720215,-13.57629108428955,6.387997627258301,11.770752906799316,-10.103126525878906,19.073352813720703,4.5363616943359375,7.89267110824585,2.6142654418945312,-6.7311201095581055,-6.534562587738037,-3.0663962364196777,-22.679975509643555,11.468339920043945,-6.905280113220215,-11.866028785705566,19.06708526611328,-12.978255271911621],\"yaxis\":\"y\",\"type\":\"scatter\"}],                        {\"template\":{\"data\":{\"histogram2dcontour\":[{\"type\":\"histogram2dcontour\",\"colorbar\":{\"outlinewidth\":0,\"ticks\":\"\"},\"colorscale\":[[0.0,\"#0d0887\"],[0.1111111111111111,\"#46039f\"],[0.2222222222222222,\"#7201a8\"],[0.3333333333333333,\"#9c179e\"],[0.4444444444444444,\"#bd3786\"],[0.5555555555555556,\"#d8576b\"],[0.6666666666666666,\"#ed7953\"],[0.7777777777777778,\"#fb9f3a\"],[0.8888888888888888,\"#fdca26\"],[1.0,\"#f0f921\"]]}],\"choropleth\":[{\"type\":\"choropleth\",\"colorbar\":{\"outlinewidth\":0,\"ticks\":\"\"}}],\"histogram2d\":[{\"type\":\"histogram2d\",\"colorbar\":{\"outlinewidth\":0,\"ticks\":\"\"},\"colorscale\":[[0.0,\"#0d0887\"],[0.1111111111111111,\"#46039f\"],[0.2222222222222222,\"#7201a8\"],[0.3333333333333333,\"#9c179e\"],[0.4444444444444444,\"#bd3786\"],[0.5555555555555556,\"#d8576b\"],[0.6666666666666666,\"#ed7953\"],[0.7777777777777778,\"#fb9f3a\"],[0.8888888888888888,\"#fdca26\"],[1.0,\"#f0f921\"]]}],\"heatmap\":[{\"type\":\"heatmap\",\"colorbar\":{\"outlinewidth\":0,\"ticks\":\"\"},\"colorscale\":[[0.0,\"#0d0887\"],[0.1111111111111111,\"#46039f\"],[0.2222222222222222,\"#7201a8\"],[0.3333333333333333,\"#9c179e\"],[0.4444444444444444,\"#bd3786\"],[0.5555555555555556,\"#d8576b\"],[0.6666666666666666,\"#ed7953\"],[0.7777777777777778,\"#fb9f3a\"],[0.8888888888888888,\"#fdca26\"],[1.0,\"#f0f921\"]]}],\"heatmapgl\":[{\"type\":\"heatmapgl\",\"colorbar\":{\"outlinewidth\":0,\"ticks\":\"\"},\"colorscale\":[[0.0,\"#0d0887\"],[0.1111111111111111,\"#46039f\"],[0.2222222222222222,\"#7201a8\"],[0.3333333333333333,\"#9c179e\"],[0.4444444444444444,\"#bd3786\"],[0.5555555555555556,\"#d8576b\"],[0.6666666666666666,\"#ed7953\"],[0.7777777777777778,\"#fb9f3a\"],[0.8888888888888888,\"#fdca26\"],[1.0,\"#f0f921\"]]}],\"contourcarpet\":[{\"type\":\"contourcarpet\",\"colorbar\":{\"outlinewidth\":0,\"ticks\":\"\"}}],\"contour\":[{\"type\":\"contour\",\"colorbar\":{\"outlinewidth\":0,\"ticks\":\"\"},\"colorscale\":[[0.0,\"#0d0887\"],[0.1111111111111111,\"#46039f\"],[0.2222222222222222,\"#7201a8\"],[0.3333333333333333,\"#9c179e\"],[0.4444444444444444,\"#bd3786\"],[0.5555555555555556,\"#d8576b\"],[0.6666666666666666,\"#ed7953\"],[0.7777777777777778,\"#fb9f3a\"],[0.8888888888888888,\"#fdca26\"],[1.0,\"#f0f921\"]]}],\"surface\":[{\"type\":\"surface\",\"colorbar\":{\"outlinewidth\":0,\"ticks\":\"\"},\"colorscale\":[[0.0,\"#0d0887\"],[0.1111111111111111,\"#46039f\"],[0.2222222222222222,\"#7201a8\"],[0.3333333333333333,\"#9c179e\"],[0.4444444444444444,\"#bd3786\"],[0.5555555555555556,\"#d8576b\"],[0.6666666666666666,\"#ed7953\"],[0.7777777777777778,\"#fb9f3a\"],[0.8888888888888888,\"#fdca26\"],[1.0,\"#f0f921\"]]}],\"mesh3d\":[{\"type\":\"mesh3d\",\"colorbar\":{\"outlinewidth\":0,\"ticks\":\"\"}}],\"scatter\":[{\"fillpattern\":{\"fillmode\":\"overlay\",\"size\":10,\"solidity\":0.2},\"type\":\"scatter\"}],\"parcoords\":[{\"type\":\"parcoords\",\"line\":{\"colorbar\":{\"outlinewidth\":0,\"ticks\":\"\"}}}],\"scatterpolargl\":[{\"type\":\"scatterpolargl\",\"marker\":{\"colorbar\":{\"outlinewidth\":0,\"ticks\":\"\"}}}],\"bar\":[{\"error_x\":{\"color\":\"#2a3f5f\"},\"error_y\":{\"color\":\"#2a3f5f\"},\"marker\":{\"line\":{\"color\":\"#E5ECF6\",\"width\":0.5},\"pattern\":{\"fillmode\":\"overlay\",\"size\":10,\"solidity\":0.2}},\"type\":\"bar\"}],\"scattergeo\":[{\"type\":\"scattergeo\",\"marker\":{\"colorbar\":{\"outlinewidth\":0,\"ticks\":\"\"}}}],\"scatterpolar\":[{\"type\":\"scatterpolar\",\"marker\":{\"colorbar\":{\"outlinewidth\":0,\"ticks\":\"\"}}}],\"histogram\":[{\"marker\":{\"pattern\":{\"fillmode\":\"overlay\",\"size\":10,\"solidity\":0.2}},\"type\":\"histogram\"}],\"scattergl\":[{\"type\":\"scattergl\",\"marker\":{\"colorbar\":{\"outlinewidth\":0,\"ticks\":\"\"}}}],\"scatter3d\":[{\"type\":\"scatter3d\",\"line\":{\"colorbar\":{\"outlinewidth\":0,\"ticks\":\"\"}},\"marker\":{\"colorbar\":{\"outlinewidth\":0,\"ticks\":\"\"}}}],\"scattermapbox\":[{\"type\":\"scattermapbox\",\"marker\":{\"colorbar\":{\"outlinewidth\":0,\"ticks\":\"\"}}}],\"scatterternary\":[{\"type\":\"scatterternary\",\"marker\":{\"colorbar\":{\"outlinewidth\":0,\"ticks\":\"\"}}}],\"scattercarpet\":[{\"type\":\"scattercarpet\",\"marker\":{\"colorbar\":{\"outlinewidth\":0,\"ticks\":\"\"}}}],\"carpet\":[{\"aaxis\":{\"endlinecolor\":\"#2a3f5f\",\"gridcolor\":\"white\",\"linecolor\":\"white\",\"minorgridcolor\":\"white\",\"startlinecolor\":\"#2a3f5f\"},\"baxis\":{\"endlinecolor\":\"#2a3f5f\",\"gridcolor\":\"white\",\"linecolor\":\"white\",\"minorgridcolor\":\"white\",\"startlinecolor\":\"#2a3f5f\"},\"type\":\"carpet\"}],\"table\":[{\"cells\":{\"fill\":{\"color\":\"#EBF0F8\"},\"line\":{\"color\":\"white\"}},\"header\":{\"fill\":{\"color\":\"#C8D4E3\"},\"line\":{\"color\":\"white\"}},\"type\":\"table\"}],\"barpolar\":[{\"marker\":{\"line\":{\"color\":\"#E5ECF6\",\"width\":0.5},\"pattern\":{\"fillmode\":\"overlay\",\"size\":10,\"solidity\":0.2}},\"type\":\"barpolar\"}],\"pie\":[{\"automargin\":true,\"type\":\"pie\"}]},\"layout\":{\"autotypenumbers\":\"strict\",\"colorway\":[\"#636efa\",\"#EF553B\",\"#00cc96\",\"#ab63fa\",\"#FFA15A\",\"#19d3f3\",\"#FF6692\",\"#B6E880\",\"#FF97FF\",\"#FECB52\"],\"font\":{\"color\":\"#2a3f5f\"},\"hovermode\":\"closest\",\"hoverlabel\":{\"align\":\"left\"},\"paper_bgcolor\":\"white\",\"plot_bgcolor\":\"#E5ECF6\",\"polar\":{\"bgcolor\":\"#E5ECF6\",\"angularaxis\":{\"gridcolor\":\"white\",\"linecolor\":\"white\",\"ticks\":\"\"},\"radialaxis\":{\"gridcolor\":\"white\",\"linecolor\":\"white\",\"ticks\":\"\"}},\"ternary\":{\"bgcolor\":\"#E5ECF6\",\"aaxis\":{\"gridcolor\":\"white\",\"linecolor\":\"white\",\"ticks\":\"\"},\"baxis\":{\"gridcolor\":\"white\",\"linecolor\":\"white\",\"ticks\":\"\"},\"caxis\":{\"gridcolor\":\"white\",\"linecolor\":\"white\",\"ticks\":\"\"}},\"coloraxis\":{\"colorbar\":{\"outlinewidth\":0,\"ticks\":\"\"}},\"colorscale\":{\"sequential\":[[0.0,\"#0d0887\"],[0.1111111111111111,\"#46039f\"],[0.2222222222222222,\"#7201a8\"],[0.3333333333333333,\"#9c179e\"],[0.4444444444444444,\"#bd3786\"],[0.5555555555555556,\"#d8576b\"],[0.6666666666666666,\"#ed7953\"],[0.7777777777777778,\"#fb9f3a\"],[0.8888888888888888,\"#fdca26\"],[1.0,\"#f0f921\"]],\"sequentialminus\":[[0.0,\"#0d0887\"],[0.1111111111111111,\"#46039f\"],[0.2222222222222222,\"#7201a8\"],[0.3333333333333333,\"#9c179e\"],[0.4444444444444444,\"#bd3786\"],[0.5555555555555556,\"#d8576b\"],[0.6666666666666666,\"#ed7953\"],[0.7777777777777778,\"#fb9f3a\"],[0.8888888888888888,\"#fdca26\"],[1.0,\"#f0f921\"]],\"diverging\":[[0,\"#8e0152\"],[0.1,\"#c51b7d\"],[0.2,\"#de77ae\"],[0.3,\"#f1b6da\"],[0.4,\"#fde0ef\"],[0.5,\"#f7f7f7\"],[0.6,\"#e6f5d0\"],[0.7,\"#b8e186\"],[0.8,\"#7fbc41\"],[0.9,\"#4d9221\"],[1,\"#276419\"]]},\"xaxis\":{\"gridcolor\":\"white\",\"linecolor\":\"white\",\"ticks\":\"\",\"title\":{\"standoff\":15},\"zerolinecolor\":\"white\",\"automargin\":true,\"zerolinewidth\":2},\"yaxis\":{\"gridcolor\":\"white\",\"linecolor\":\"white\",\"ticks\":\"\",\"title\":{\"standoff\":15},\"zerolinecolor\":\"white\",\"automargin\":true,\"zerolinewidth\":2},\"scene\":{\"xaxis\":{\"backgroundcolor\":\"#E5ECF6\",\"gridcolor\":\"white\",\"linecolor\":\"white\",\"showbackground\":true,\"ticks\":\"\",\"zerolinecolor\":\"white\",\"gridwidth\":2},\"yaxis\":{\"backgroundcolor\":\"#E5ECF6\",\"gridcolor\":\"white\",\"linecolor\":\"white\",\"showbackground\":true,\"ticks\":\"\",\"zerolinecolor\":\"white\",\"gridwidth\":2},\"zaxis\":{\"backgroundcolor\":\"#E5ECF6\",\"gridcolor\":\"white\",\"linecolor\":\"white\",\"showbackground\":true,\"ticks\":\"\",\"zerolinecolor\":\"white\",\"gridwidth\":2}},\"shapedefaults\":{\"line\":{\"color\":\"#2a3f5f\"}},\"annotationdefaults\":{\"arrowcolor\":\"#2a3f5f\",\"arrowhead\":0,\"arrowwidth\":1},\"geo\":{\"bgcolor\":\"white\",\"landcolor\":\"#E5ECF6\",\"subunitcolor\":\"white\",\"showland\":true,\"showlakes\":true,\"lakecolor\":\"white\"},\"title\":{\"x\":0.05},\"mapbox\":{\"style\":\"light\"}}},\"xaxis\":{\"anchor\":\"y\",\"domain\":[0.0,1.0],\"title\":{\"text\":\"x\"}},\"yaxis\":{\"anchor\":\"x\",\"domain\":[0.0,1.0],\"title\":{\"text\":\"y\"}},\"legend\":{\"tracegroupgap\":0},\"margin\":{\"t\":60}},                        {\"responsive\": true}                    ).then(function(){\n",
              "                            \n",
              "var gd = document.getElementById('4a74d62a-5845-48db-8255-255262ab243d');\n",
              "var x = new MutationObserver(function (mutations, observer) {{\n",
              "        var display = window.getComputedStyle(gd).display;\n",
              "        if (!display || display === 'none') {{\n",
              "            console.log([gd, 'removed!']);\n",
              "            Plotly.purge(gd);\n",
              "            observer.disconnect();\n",
              "        }}\n",
              "}});\n",
              "\n",
              "// Listen for the removal of the full notebook cells\n",
              "var notebookContainer = gd.closest('#notebook-container');\n",
              "if (notebookContainer) {{\n",
              "    x.observe(notebookContainer, {childList: true});\n",
              "}}\n",
              "\n",
              "// Listen for the clearing of the current output cell\n",
              "var outputEl = gd.closest('.output');\n",
              "if (outputEl) {{\n",
              "    x.observe(outputEl, {childList: true});\n",
              "}}\n",
              "\n",
              "                        })                };                            </script>        </div>\n",
              "</body>\n",
              "</html>"
            ]
          },
          "metadata": {}
        }
      ]
    },
    {
      "cell_type": "markdown",
      "source": [
        "Si hacemos foco en la parte superior vemos como la palabra friend se vincula a verboas de tener, querer y ser."
      ],
      "metadata": {
        "id": "pjq2E72s3IE_"
      }
    },
    {
      "cell_type": "markdown",
      "source": [
        "![Captura.JPG](data:image/jpeg;base64,/9j/4AAQSkZJRgABAQEAeAB4AAD/4RD4RXhpZgAATU0AKgAAAAgABAE7AAIAAAAPAAAISodpAAQAAAABAAAIWpydAAEAAAAeAAAQ0uocAAcAAAgMAAAAPgAAAAAc6gAAAAgAAAAAAAAAAAAAAAAAAAAAAAAAAAAAAAAAAAAAAAAAAAAAAAAAAAAAAAAAAAAAAAAAAAAAAAAAAAAAAAAAAAAAAAAAAAAAAAAAAAAAAAAAAAAAAAAAAAAAAAAAAAAAAAAAAAAAAAAAAAAAAAAAAAAAAAAAAAAAAAAAAAAAAAAAAAAAAAAAAAAAAAAAAAAAAAAAAAAAAAAAAAAAAAAAAAAAAAAAAAAAAAAAAAAAAAAAAAAAAAAAAAAAAAAAAAAAAAAAAAAAAAAAAAAAAAAAAAAAAAAAAAAAAAAAAAAAAAAAAAAAAAAAAAAAAAAAAAAAAAAAAAAAAAAAAAAAAAAAAAAAAAAAAAAAAAAAAAAAAAAAAAAAAAAAAAAAAAAAAAAAAAAAAAAAAAAAAAAAAAAAAAAAAAAAAAAAAAAAAAAAAAAAAAAAAAAAAAAAAAAAAAAAAAAAAAAAAAAAAAAAAAAAAAAAAAAAAAAAAAAAAAAAAAAAAAAAAAAAAAAAAAAAAAAAAAAAAAAAAAAAAAAAAAAAAAAAAAAAAAAAAAAAAAAAAAAAAAAAAAAAAAAAAAAAAAAAAAAAAAAAAAAAAAAAAAAAAAAAAAAAAAAAAAAAAAAAAAAAAAAAAAAAAAAAAAAAAAAAAAAAAAAAAAAAAAAAAAAAAAAAAAAAAAAAAAAAAAAAAAAAAAAAAAAAAAAAAAAAAAAAAAAAAAAAAAAAAAAAAAAAAAAAAAAAAAAAAAAAAAAAAAAAAAAAAAAAAAAAAAAAAAAAAAAAAAAAAAAAAAAAAAAAAAAAAAAAAAAAAAAAAAAAAAAAAAAAAAAAAAAAAAAAAAAAAAAAAAAAAAAAAAAAAAAAAAAAAAAAAAAAAAAAAAAAAAAAAAAAAAAAAAAAAAAAAAAAAAAAAAAAAAAAAAAAAAAAAAAAAAAAAAAAAAAAAAAAAAAAAAAAAAAAAAAAAAAAAAAAAAAAAAAAAAAAAAAAAAAAAAAAAAAAAAAAAAAAAAAAAAAAAAAAAAAAAAAAAAAAAAAAAAAAAAAAAAAAAAAAAAAAAAAAAAAAAAAAAAAAAAAAAAAAAAAAAAAAAAAAAAAAAAAAAAAAAAAAAAAAAAAAAAAAAAAAAAAAAAAAAAAAAAAAAAAAAAAAAAAAAAAAAAAAAAAAAAAAAAAAAAAAAAAAAAAAAAAAAAAAAAAAAAAAAAAAAAAAAAAAAAAAAAAAAAAAAAAAAAAAAAAAAAAAAAAAAAAAAAAAAAAAAAAAAAAAAAAAAAAAAAAAAAAAAAAAAAAAAAAAAAAAAAAAAAAAAAAAAAAAAAAAAAAAAAAAAAAAAAAAAAAAAAAAAAAAAAAAAAAAAAAAAAAAAAAAAAAAAAAAAAAAAAAAAAAAAAAAAAAAAAAAAAAAAAAAAAAAAAAAAAAAAAAAAAAAAAAAAAAAAAAAAAAAAAAAAAAAAAAAAAAAAAAAAAAAAAAAAAAAAAAAAAAAAAAAAAAAAAAAAAAAAAAAAAAAAAAAAAAAAAAAAAAAAAAAAAAAAAAAAAAAAAAAAAAAAAAAAAAAAAAAAAAAAAAAAAAAAAAAAAAAAAAAAAAAAAAAAAAAAAAAAAAAAAAAAAAAAAAAAAAAAAAAAAAAAAAAAAAAAAAAAAAAAAAAAAAAAAAAAAAAAAAAAAAAAAAAAAAAAAAAAAAAAAAAAAAAAAAAAAAAAAAAAAAAAAAAAAAAAAAAAAAAAAAAAAAAAAAAAAAAAAAAAAAAAAAAAAAAAAAAAAAAAAAAAAAAAAAAAAAAAAAAAAAAAAAAAAAAAAAAAAAAAAAAAAAAAAAAAAAAAAAAAAAAAAAAAAAAAAAAAAAAAAAAAAAAAAAAAAAAAAAAAAAAAAAAAAAAAAAAAAAAAAAAAAAAAAAAAAAAAAAAAAAAAAAAAAAAAAAAAAAAAAAAAAAAAAAAAAAAAAAAAAAAAAAAAAAAAAAAAAAAAAAAAAAAAAAAAAAAAAAAAAAAAAAAAAAAAAAAAAAAAAAAAAAAAAAAAAAAAAAAAAAAAAAAAAAAAAAAAAAAAAAAAAAAAAAAAAAAAAAAAAAAAAAAAAAAAAAAAAAAAAAAAAAAAAAAAAAAAAAAAAAAAAAAAAAAAAAAAAAAAAAAAAAAAAAAAAAAAAAAAAAAAAAAAAAAAAAAAAAAAAAAAAAAAAAAAAAAAAAAAAAAAAAAAAAAAAAAAAAAAAAAAAAAAAAAAAAAAAAAAAAAAAAAAAAAAAAAAAAAAAAAAAAAAAAAAAAAAAAAAAAAAAAAAAAAAAAAAAAAAAAAAAAAAAAAAAAAAAAAAAAAAAAAAAAAAAAAAAAAAAAAAAAAAAAAAAAAAAAAAAAAAAAAAAAAAAAAAAAAAAAAAAAAAAAAAAAAAAAAAAAAAAAAAAAAAAAAAAAAAAAAAAAAAAAAAAAAAAAAAAAAAAAAAAAAAAAAAAAAAAAAAAAAAAAAAAAAAAAAAAAAAAAAAAAAAAAAAAAAAAAAAAAAAAAAAAAAAAAAAAAAAAAAAAAAAAAAAAAAAAAAAAAAAAAAAAAAAAAAAAAAAAAAAAAAAAAAAAAAAAAAAAAAAAAAAAAAAAAAAAAAAAAAAAAAAAAAAAAAAAAAAAAAAAAAAAAAAAAAAAAAAAAAAAAAAAAAAAAAAAAAAAAAAAAAAAAAAAAAAAAAAAAAAAAAAAAAAAAAAAAAAAAAAAAAAAAAAAAAAAAAAAAAAAAAAAAAAAAAAAAAAAAAAAAAAAAAAAAAAAAAAAAAAAAAAEp1bGlhbiBadWJpZXRhAAAABZADAAIAAAAUAAAQqJAEAAIAAAAUAAAQvJKRAAIAAAADNjAAAJKSAAIAAAADNjAAAOocAAcAAAgMAAAInAAAAAAc6gAAAAgAAAAAAAAAAAAAAAAAAAAAAAAAAAAAAAAAAAAAAAAAAAAAAAAAAAAAAAAAAAAAAAAAAAAAAAAAAAAAAAAAAAAAAAAAAAAAAAAAAAAAAAAAAAAAAAAAAAAAAAAAAAAAAAAAAAAAAAAAAAAAAAAAAAAAAAAAAAAAAAAAAAAAAAAAAAAAAAAAAAAAAAAAAAAAAAAAAAAAAAAAAAAAAAAAAAAAAAAAAAAAAAAAAAAAAAAAAAAAAAAAAAAAAAAAAAAAAAAAAAAAAAAAAAAAAAAAAAAAAAAAAAAAAAAAAAAAAAAAAAAAAAAAAAAAAAAAAAAAAAAAAAAAAAAAAAAAAAAAAAAAAAAAAAAAAAAAAAAAAAAAAAAAAAAAAAAAAAAAAAAAAAAAAAAAAAAAAAAAAAAAAAAAAAAAAAAAAAAAAAAAAAAAAAAAAAAAAAAAAAAAAAAAAAAAAAAAAAAAAAAAAAAAAAAAAAAAAAAAAAAAAAAAAAAAAAAAAAAAAAAAAAAAAAAAAAAAAAAAAAAAAAAAAAAAAAAAAAAAAAAAAAAAAAAAAAAAAAAAAAAAAAAAAAAAAAAAAAAAAAAAAAAAAAAAAAAAAAAAAAAAAAAAAAAAAAAAAAAAAAAAAAAAAAAAAAAAAAAAAAAAAAAAAAAAAAAAAAAAAAAAAAAAAAAAAAAAAAAAAAAAAAAAAAAAAAAAAAAAAAAAAAAAAAAAAAAAAAAAAAAAAAAAAAAAAAAAAAAAAAAAAAAAAAAAAAAAAAAAAAAAAAAAAAAAAAAAAAAAAAAAAAAAAAAAAAAAAAAAAAAAAAAAAAAAAAAAAAAAAAAAAAAAAAAAAAAAAAAAAAAAAAAAAAAAAAAAAAAAAAAAAAAAAAAAAAAAAAAAAAAAAAAAAAAAAAAAAAAAAAAAAAAAAAAAAAAAAAAAAAAAAAAAAAAAAAAAAAAAAAAAAAAAAAAAAAAAAAAAAAAAAAAAAAAAAAAAAAAAAAAAAAAAAAAAAAAAAAAAAAAAAAAAAAAAAAAAAAAAAAAAAAAAAAAAAAAAAAAAAAAAAAAAAAAAAAAAAAAAAAAAAAAAAAAAAAAAAAAAAAAAAAAAAAAAAAAAAAAAAAAAAAAAAAAAAAAAAAAAAAAAAAAAAAAAAAAAAAAAAAAAAAAAAAAAAAAAAAAAAAAAAAAAAAAAAAAAAAAAAAAAAAAAAAAAAAAAAAAAAAAAAAAAAAAAAAAAAAAAAAAAAAAAAAAAAAAAAAAAAAAAAAAAAAAAAAAAAAAAAAAAAAAAAAAAAAAAAAAAAAAAAAAAAAAAAAAAAAAAAAAAAAAAAAAAAAAAAAAAAAAAAAAAAAAAAAAAAAAAAAAAAAAAAAAAAAAAAAAAAAAAAAAAAAAAAAAAAAAAAAAAAAAAAAAAAAAAAAAAAAAAAAAAAAAAAAAAAAAAAAAAAAAAAAAAAAAAAAAAAAAAAAAAAAAAAAAAAAAAAAAAAAAAAAAAAAAAAAAAAAAAAAAAAAAAAAAAAAAAAAAAAAAAAAAAAAAAAAAAAAAAAAAAAAAAAAAAAAAAAAAAAAAAAAAAAAAAAAAAAAAAAAAAAAAAAAAAAAAAAAAAAAAAAAAAAAAAAAAAAAAAAAAAAAAAAAAAAAAAAAAAAAAAAAAAAAAAAAAAAAAAAAAAAAAAAAAAAAAAAAAAAAAAAAAAAAAAAAAAAAAAAAAAAAAAAAAAAAAAAAAAAAAAAAAAAAAAAAAAAAAAAAAAAAAAAAAAAAAAAAAAAAAAAAAAAAAAAAAAAAAAAAAAAAAAAAAAAAAAAAAAAAAAAAAAAAAAAAAAAAAAAAAAAAAAAAAAAAAAAAAAAAAAAAAAAAAAAAAAAAAAAAAAAAAAAAAAAAAAAAAAAAAAAAAAAAAAAAAAAAAAAAAAAAAAAAAAAAAAAAAAAAAAAAAAAAAAAAAAAAAAAAAAAAAAAAAAAAAAAAAAAAAAAAAAAAAAAAAAAAAAAAAAAAAAAAAAAAAAAAAAAAAAAAAAAAAAAAAAAAAAAAAAAAAAAAAAAAAAAAAAAAAAAAAAAAAAAAAAAAAAAAAAAAAAAAAAAAAAAAAAAAAAAAAAAAAAAAAAAAAAAAAAAAAAAAAAAAAAAAAAAAAAAAAAAAAAAAAAAAAAAAAAAAAAAAAAAAAAAAAAAAAAAAAAAAAAAAAAAAAAAAAAAAAAAAAAAAAAAAAAAAAAAAAAAAAAAAAAAAAAAAAAAAAAAAAAAAAAAAAAAAAAAAAAAAAAAAAAAAAAAAAAAAAAAAAAAAAAAAAAAAAAAAAAAAAAAAAAAAAAAAAAAAAAAAAAAAAAAAAAAAAAAAAAAAAAAAAAAAAAAAAAAAAAAAAAAAAAAAAAAAAAAAAAAAAAAAAAAAAAAAAAAAAAAAAAAAAAAAAAAAAAAAAAAAAAAAAAAAAAAAAAAAAAAAAAAAAAAAAAAAAAAAAAAAAAAAAAAAAAAAAAAAAAAAAAAAAAAAAAAAAAAAAAAAAAAAAAAAAAAAAAAAAAAAAAAAAAAAAAAAAAAAAAAAAAAAAAAAAAAAAAAAAAAAAAAAAAAAAAAAAAAAAAAAAAAAAAAAAAAAAAAAAAAAAAAAAAAAAAAAAAAAAAAAAAAAAAAAAAAAAAAAAAAAAAAAAAAAAAAAAAAAAAAAAAAAAAAAAAAAAAAAAAAAAAAAAAAAAAAAAAAAAAAAAAAAAAAAAAAAAAAAAAAAAAAAAAAAAAAAAAAAAAAAAAAAAAAAAAAAAAAAAAAAAAAAAAADIwMjM6MDU6MjYgMTM6MTg6NDcAMjAyMzowNToyNiAxMzoxODo0NwAAAEoAdQBsAGkAYQBuACAAWgB1AGIAaQBlAHQAYQAAAP/hCyFodHRwOi8vbnMuYWRvYmUuY29tL3hhcC8xLjAvADw/eHBhY2tldCBiZWdpbj0n77u/JyBpZD0nVzVNME1wQ2VoaUh6cmVTek5UY3prYzlkJz8+DQo8eDp4bXBtZXRhIHhtbG5zOng9ImFkb2JlOm5zOm1ldGEvIj48cmRmOlJERiB4bWxuczpyZGY9Imh0dHA6Ly93d3cudzMub3JnLzE5OTkvMDIvMjItcmRmLXN5bnRheC1ucyMiPjxyZGY6RGVzY3JpcHRpb24gcmRmOmFib3V0PSJ1dWlkOmZhZjViZGQ1LWJhM2QtMTFkYS1hZDMxLWQzM2Q3NTE4MmYxYiIgeG1sbnM6ZGM9Imh0dHA6Ly9wdXJsLm9yZy9kYy9lbGVtZW50cy8xLjEvIi8+PHJkZjpEZXNjcmlwdGlvbiByZGY6YWJvdXQ9InV1aWQ6ZmFmNWJkZDUtYmEzZC0xMWRhLWFkMzEtZDMzZDc1MTgyZjFiIiB4bWxuczp4bXA9Imh0dHA6Ly9ucy5hZG9iZS5jb20veGFwLzEuMC8iPjx4bXA6Q3JlYXRlRGF0ZT4yMDIzLTA1LTI2VDEzOjE4OjQ3LjYwMjwveG1wOkNyZWF0ZURhdGU+PC9yZGY6RGVzY3JpcHRpb24+PHJkZjpEZXNjcmlwdGlvbiByZGY6YWJvdXQ9InV1aWQ6ZmFmNWJkZDUtYmEzZC0xMWRhLWFkMzEtZDMzZDc1MTgyZjFiIiB4bWxuczpkYz0iaHR0cDovL3B1cmwub3JnL2RjL2VsZW1lbnRzLzEuMS8iPjxkYzpjcmVhdG9yPjxyZGY6U2VxIHhtbG5zOnJkZj0iaHR0cDovL3d3dy53My5vcmcvMTk5OS8wMi8yMi1yZGYtc3ludGF4LW5zIyI+PHJkZjpsaT5KdWxpYW4gWnViaWV0YTwvcmRmOmxpPjwvcmRmOlNlcT4NCgkJCTwvZGM6Y3JlYXRvcj48L3JkZjpEZXNjcmlwdGlvbj48L3JkZjpSREY+PC94OnhtcG1ldGE+DQogICAgICAgICAgICAgICAgICAgICAgICAgICAgICAgICAgICAgICAgICAgICAgICAgICAgICAgICAgICAgICAgICAgICAgICAgICAgICAgICAgICAgICAgICAgICAgICAgICAgCiAgICAgICAgICAgICAgICAgICAgICAgICAgICAgICAgICAgICAgICAgICAgICAgICAgICAgICAgICAgICAgICAgICAgICAgICAgICAgICAgICAgICAgICAgICAgICAgICAgICAKICAgICAgICAgICAgICAgICAgICAgICAgICAgICAgICAgICAgICAgICAgICAgICAgICAgICAgICAgICAgICAgICAgICAgICAgICAgICAgICAgICAgICAgICAgICAgICAgICAgIAogICAgICAgICAgICAgICAgICAgICAgICAgICAgICAgICAgICAgICAgICAgICAgICAgICAgICAgICAgICAgICAgICAgICAgICAgICAgICAgICAgICAgICAgICAgICAgICAgICAgCiAgICAgICAgICAgICAgICAgICAgICAgICAgICAgICAgICAgICAgICAgICAgICAgICAgICAgICAgICAgICAgICAgICAgICAgICAgICAgICAgICAgICAgICAgICAgICAgICAgICAKICAgICAgICAgICAgICAgICAgICAgICAgICAgICAgICAgICAgICAgICAgICAgICAgICAgICAgICAgICAgICAgICAgICAgICAgICAgICAgICAgICAgICAgICAgICAgICAgICAgIAogICAgICAgICAgICAgICAgICAgICAgICAgICAgICAgICAgICAgICAgICAgICAgICAgICAgICAgICAgICAgICAgICAgICAgICAgICAgICAgICAgICAgICAgICAgICAgICAgICAgCiAgICAgICAgICAgICAgICAgICAgICAgICAgICAgICAgICAgICAgICAgICAgICAgICAgICAgICAgICAgICAgICAgICAgICAgICAgICAgICAgICAgICAgICAgICAgICAgICAgICAKICAgICAgICAgICAgICAgICAgICAgICAgICAgICAgICAgICAgICAgICAgICAgICAgICAgICAgICAgICAgICAgICAgICAgICAgICAgICAgICAgICAgICAgICAgICAgICAgICAgIAogICAgICAgICAgICAgICAgICAgICAgICAgICAgICAgICAgICAgICAgICAgICAgICAgICAgICAgICAgICAgICAgICAgICAgICAgICAgICAgICAgICAgICAgICAgICAgICAgICAgCiAgICAgICAgICAgICAgICAgICAgICAgICAgICAgICAgICAgICAgICAgICAgICAgICAgICAgICAgICAgICAgICAgICAgICAgICAgICAgICAgICAgICAgICAgICAgICAgICAgICAKICAgICAgICAgICAgICAgICAgICAgICAgICAgICAgICAgICAgICAgICAgICAgICAgICAgICAgICAgICAgICAgICAgICAgICAgICAgICAgICAgICAgICAgICAgICAgICAgICAgIAogICAgICAgICAgICAgICAgICAgICAgICAgICAgICAgICAgICAgICAgICAgICAgICAgICAgICAgICAgICAgICAgICAgICAgICAgICAgICAgICAgICAgICAgICAgICAgICAgICAgCiAgICAgICAgICAgICAgICAgICAgICAgICAgICAgICAgICAgICAgICAgICAgICAgICAgICAgICAgICAgICAgICAgICAgICAgICAgICAgICAgICAgICAgICAgICAgICAgICAgICAKICAgICAgICAgICAgICAgICAgICAgICAgICAgICAgICAgICAgICAgICAgICAgICAgICAgICAgICAgICAgICAgICAgICAgICAgICAgICAgICAgICAgICAgICAgICAgICAgICAgIAogICAgICAgICAgICAgICAgICAgICAgICAgICAgICAgICAgICAgICAgICAgICAgICAgICAgICAgICAgICAgICAgICAgICAgICAgICAgICAgICAgICAgICAgICAgICAgICAgICAgCiAgICAgICAgICAgICAgICAgICAgICAgICAgICAgICAgICAgICAgICAgICAgICAgICAgICAgICAgICAgICAgICAgICAgICAgICAgICAgICAgICAgICAgICAgICAgICAgICAgICAKICAgICAgICAgICAgICAgICAgICAgICAgICAgICAgICAgICAgICAgICAgICAgICAgICAgICAgICAgICAgICAgICAgICAgICAgICAgICAgICAgICAgICAgICAgICAgICAgICAgIAogICAgICAgICAgICAgICAgICAgICAgICAgICAgICAgICAgICAgICAgICAgICAgICAgICAgICAgICAgICAgICAgICAgICAgICAgICAgICAgICAgICAgICAgICAgICAgICAgICAgCiAgICAgICAgICAgICAgICAgICAgICAgICAgICAgICAgICAgICAgICAgICAgICAgICAgICAgICAgICAgICAgICAgICAgICAgICAgICAgICAgICAgICAgICAgICAgICAgICAgICAKICAgICAgICAgICAgICAgICAgICAgICAgICAgIDw/eHBhY2tldCBlbmQ9J3cnPz7/2wBDAAcFBQYFBAcGBQYIBwcIChELCgkJChUPEAwRGBUaGRgVGBcbHichGx0lHRcYIi4iJSgpKywrGiAvMy8qMicqKyr/2wBDAQcICAoJChQLCxQqHBgcKioqKioqKioqKioqKioqKioqKioqKioqKioqKioqKioqKioqKioqKioqKioqKioqKir/wAARCAHbBgcDASIAAhEBAxEB/8QAHwAAAQUBAQEBAQEAAAAAAAAAAAECAwQFBgcICQoL/8QAtRAAAgEDAwIEAwUFBAQAAAF9AQIDAAQRBRIhMUEGE1FhByJxFDKBkaEII0KxwRVS0fAkM2JyggkKFhcYGRolJicoKSo0NTY3ODk6Q0RFRkdISUpTVFVWV1hZWmNkZWZnaGlqc3R1dnd4eXqDhIWGh4iJipKTlJWWl5iZmqKjpKWmp6ipqrKztLW2t7i5usLDxMXGx8jJytLT1NXW19jZ2uHi4+Tl5ufo6erx8vP09fb3+Pn6/8QAHwEAAwEBAQEBAQEBAQAAAAAAAAECAwQFBgcICQoL/8QAtREAAgECBAQDBAcFBAQAAQJ3AAECAxEEBSExBhJBUQdhcRMiMoEIFEKRobHBCSMzUvAVYnLRChYkNOEl8RcYGRomJygpKjU2Nzg5OkNERUZHSElKU1RVVldYWVpjZGVmZ2hpanN0dXZ3eHl6goOEhYaHiImKkpOUlZaXmJmaoqOkpaanqKmqsrO0tba3uLm6wsPExcbHyMnK0tPU1dbX2Nna4uPk5ebn6Onq8vP09fb3+Pn6/9oADAMBAAIRAxEAPwD33zpP+ejf99GjzpP+ejf99GmUVsZj/Ok/56N/30aPOk/56N/30aZRQA/zpP8Ano3/AH0aPOk/56N/30aZRQA/zpP+ejf99GjzpP8Ano3/AH0aZRQA/wA6T/no3/fRo86T/no3/fRplFAD/Ok/56N/30aPOk/56N/30aZRQA/zpP8Ano3/AH0aPOk/56N/30aZRQA/zpP+ejf99GjzpP8Ano3/AH0aZRQBNLLIJnAdgNx70zzpP+ejf99Gib/XP/vH+dMoAf50n/PRv++jR50n/PRv++jTKKAH+dJ/z0b/AL6NHnSf89G/76NMooAf50n/AD0b/vo0edJ/z0b/AL6NMooAf50n/PRv++jR50n/AD0b/vo0yigB/nSf89G/76NHnSf89G/76NMooAf50n/PRv8Avo0edJ/z0b/vo0yigB/nSf8APRv++jR50n/PRv8Avo0yigB/nSf89G/76NHnSf8APRv++jTKKAH+dJ/z0b/vo0edJ/z0b/vo0yigB/nSf89G/wC+jR50n/PRv++jTKKAH+dJ/wA9G/76NHnSf89G/wC+jTKKAH+dJ/z0b/vo0edJ/wA9G/76NMooAf50n/PRv++jR50n/PRv++jTKKAH+dJ/z0b/AL6NHnSf89G/76NMooAf50n/AD0b/vo0+WWQTOA7Abj3qGnzf65/94/zoAPOk/56N/30aPOk/wCejf8AfRplFAD/ADpP+ejf99GjzpP+ejf99GmUUAP86T/no3/fRo86T/no3/fRplFAD/Ok/wCejf8AfRo86T/no3/fRplFAD/Ok/56N/30aPOk/wCejf8AfRplFAD/ADpP+ejf99GjzpP+ejf99GmUUAP86T/no3/fRo86T/no3/fRplFAD/Ok/wCejf8AfRo86T/no3/fRplFAD/Ok/56N/30aPOk/wCejf8AfRplFAD/ADpP+ejf99GjzpP+ejf99GmUUAP86T/no3/fRo86T/no3/fRplFAD/Ok/wCejf8AfRo86T/no3/fRplFAD/Ok/56N/30aPOk/wCejf8AfRplFAD/ADpP+ejf99GjzpP+ejf99GmUUAP86T/no3/fRo86T/no3/fRplFAE0ssgmcB2A3HvTPOk/56N/30aJv9c/8AvH+dMoAf50n/AD0b/vo0edJ/z0b/AL6NMooAf50n/PRv++jR50n/AD0b/vo0yigB/nSf89G/76NHnSf89G/76NMooAf50n/PRv8Avo0edJ/z0b/vo0yigB/nSf8APRv++jR50n/PRv8Avo0yigB/nSf89G/76NHnSf8APRv++jTKKAH+dJ/z0b/vo0edJ/z0b/vo0yigB/nSf89G/wC+jR50n/PRv++jTKKAH+dJ/wA9G/76NHnSf89G/wC+jTKKAH+dJ/z0b/vo0edJ/wA9G/76NMooAf50n/PRv++jR50n/PRv++jTKKAH+dJ/z0b/AL6NHnSf89G/76NMooAf50n/AD0b/vo0edJ/z0b/AL6NMooAf50n/PRv++jR50n/AD0b/vo0yigB/nSf89G/76NPllkEzgOwG496hp83+uf/AHj/ADoAPOk/56N/30aPOk/56N/30aZRQA/zpP8Ano3/AH0aPOk/56N/30aZRQA/zpP+ejf99GjzpP8Ano3/AH0aZRQA/wA6T/no3/fRo86T/no3/fRplFAD/Ok/56N/30aPOk/56N/30aZRQA/zpP8Ano3/AH0aPOk/56N/30aZRQA/zpP+ejf99GjzpP8Ano3/AH0aZRQA/wA6T/no3/fRo86T/no3/fRplFAD/Ok/56N/30aPOk/56N/30aZRQA/zpP8Ano3/AH0aPOk/56N/30aZRQA/zpP+ejf99GjzpP8Ano3/AH0aZRQA/wA6T/no3/fRo86T/no3/fRplFAD/Ok/56N/30aPOk/56N/30aZRQA/zpP8Ano3/AH0aPOk/56N/30aZRQA/zpP+ejf99GjzpP8Ano3/AH0aZRQBNLLIJnAdgNx70zzpP+ejf99Gib/XP/vH+dMoAf50n/PRv++jR50n/PRv++jTKKAH+dJ/z0b/AL6NHnSf89G/76NMooAf50n/AD0b/vo0edJ/z0b/AL6NMooAf50n/PRv++jR50n/AD0b/vo0yigB/nSf89G/76NHnSf89G/76NMooAf50n/PRv8Avo0edJ/z0b/vo0yigB/nSf8APRv++jR50n/PRv8Avo0yigB/nSf89G/76NHnSf8APRv++jTKKAH+dJ/z0b/vo0edJ/z0b/vo0yigB/nSf89G/wC+jR50n/PRv++jTKKAH+dJ/wA9G/76NHnSf89G/wC+jTKKAH+dJ/z0b/vo0edJ/wA9G/76NMooAf50n/PRv++jR50n/PRv++jTKKAH+dJ/z0b/AL6NHnSf89G/76NMooAmilkMyAuxG4d6dcyOtwwV2A44B9qih/1yf7w/nT7r/j5f8P5Uuo+gzzpP+ejf99GjzpP+ejf99GmUUxD/ADpP+ejf99GjzpP+ejf99GmUUAP86T/no3/fRo86T/no3/fRplFAD/Ok/wCejf8AfRo86T/no3/fRplFAD/Ok/56N/30aPOk/wCejf8AfRplFAD/ADpP+ejf99GjzpP+ejf99GmUUAP86T/no3/fRo86T/no3/fRplFAD/Ok/wCejf8AfRo86T/no3/fRplFAD/Ok/56N/30aPOk/wCejf8AfRplFAD/ADpP+ejf99GjzpP+ejf99GmUUAP86T/no3/fRoplFABRRRTEFFFFABRRRQAUUUUAFFFFABRRRQAUUUUAFFFFAD5v9c/+8f50ynzf65/94/zplIYUUUUxBRRRQAUUUUAFFFFABRRRQAUUUUAFFFFABRRRQAUUUUAFFFFABRRRQAUUUUAFFFFABRRRQAU+b/XP/vH+dMp83+uf/eP86QxlFFFMQUUUUAFFFFABRRRQAUUUUAFFFFABRRRQAUUUUAFFFFABRRRQAUUUUAFFFFABRRRQAUUUUAFFFFAD5v8AXP8A7x/nTKfN/rn/AN4/zplIYUUUUxBRRRQAUUUUAFFFFABRRRQAUUUUAFFFFABRRRQAUUUUAFFFFABRRRQAUUUUAFFFFABRRRQAU+b/AFz/AO8f50ynzf65/wDeP86QxlFFFMQUUUUAFFFFABRRRQAUUUUAFFFFABRRRQAUUUUAFFFFABRRRQAUUUUAFFFFABRRRQAUUUUAFFFFAD5v9c/+8f50ynzf65/94/zplIYUUUUxBRRRQAUUUUAFFFFABRRRQAUUUUAFFFFABRRRQAUUUUAFFFFABRRRQAUUUUAFFFFABRRRQA+H/XJ/vD+dPuv+Pl/w/lTIf9cn+8P50+6/4+X/AA/lS6j6ENFFFMQUUUUAFFFFABRRRQAUUUUAFFFFABRRRQAUUUUAFFFFABRRRQAUUUUAFFFFABRRRQAUUUUAFFFFABRRRQAUUUUAFFFFABRRRQA+b/XP/vH+dMp83+uf/eP86ZSGFFFFMQUUUUAFFFFABRRRQAUUUUAFFFFABRRRQAUUUUAFFFFABRRRQAUUUUAFFFFABRRRQAUUUUAFPm/1z/7x/nTKfN/rn/3j/OkMZRRRTEFFFFABRRRQAUUUUAFFFFABRRRQAUUUUAFFFFABRRRQAUUUUAFFFFABRRRQAUUUUAFFFFABRRRQA+b/AFz/AO8f50ynzf65/wDeP86ZSGFFFFMQUUUUAFFFFABRRRQAUUUUAFFFFABRRRQAUUUUAFFFFABRRRQAUUUUAFFFFABRRRQAUUUUAFPm/wBc/wDvH+dMp83+uf8A3j/OkMZRRRTEFFFFABRRRQAUUUUAFFFFABRRRQAUUUUAFFFFABRRRQAUUUUAFFFFABRRRQAUUUUAFFFFABRRRQA+b/XP/vH+dMp83+uf/eP86ZSGFFFFMQUUUUAFFFFABRRRQAUUUUAFFFFABRRRQAUUUUAFFFFABRRRQAUUUUAFFFFABRRRQAUUUUAPh/1yf7w/nT7r/j5f8P5UyH/XJ/vD+dPuv+Pl/wAP5Uuo+hDRRRTEFFFFABRRRQAUUUUAFFFFABRRRQAUUUUAFFFFABRRRQAUUUUAFFFFABRT8x/3G/76H+FGY/7jf99D/CkMZRT8x/3G/wC+h/hRmP8AuN/30P8ACgBlFPzH/cb/AL6H+FGY/wC43/fQ/wAKAGUU/Mf9xv8Avof4UZj/ALjf99D/AAoAZRT8x/3G/wC+h/hRmP8AuN/30P8ACgBlFPzH/cb/AL6H+FGY/wC43/fQ/wAKAGUU/Mf9xv8Avof4UZj/ALjf99D/AAoAZRT8x/3G/wC+h/hRmP8AuN/30P8ACgAm/wBc/wDvH+dMqaUx+c+VbO4/xf8A1qZmP+43/fQ/woAZRT8x/wBxv++h/hRmP+43/fQ/woAZRT8x/wBxv++h/hRmP+43/fQ/woAZRT8x/wBxv++h/hRmP+43/fQ/woAZRT8x/wBxv++h/hRmP+43/fQ/woAZRT8x/wBxv++h/hRmP+43/fQ/woAZRT8x/wBxv++h/hRmP+43/fQ/woAZRT8x/wBxv++h/hRmP+43/fQ/woAZRT8x/wBxv++h/hRmP+43/fQ/woAZRT8x/wBxv++h/hRmP+43/fQ/woAZRT8x/wBxv++h/hRmP+43/fQ/woAZRT8x/wBxv++h/hRmP+43/fQ/woAZRT8x/wBxv++h/hRmP+43/fQ/woAZRT8x/wBxv++h/hRmP+43/fQ/woAZRT8x/wBxv++h/hRmP+43/fQ/woAZT5v9c/8AvH+dGY/7jf8AfQ/wp8pj858q2dx/i/8ArUAQ0U/Mf9xv++h/hRmP+43/AH0P8KAGUU/Mf9xv++h/hRmP+43/AH0P8KAGUU/Mf9xv++h/hRmP+43/AH0P8KAGUU/Mf9xv++h/hRmP+43/AH0P8KAGUU/Mf9xv++h/hRmP+43/AH0P8KAGUU/Mf9xv++h/hRmP+43/AH0P8KAGUU/Mf9xv++h/hRmP+43/AH0P8KAGUU/Mf9xv++h/hRmP+43/AH0P8KAGUU/Mf9xv++h/hRmP+43/AH0P8KAGUU/Mf9xv++h/hRmP+43/AH0P8KAGUU/Mf9xv++h/hRmP+43/AH0P8KAGUU/Mf9xv++h/hRmP+43/AH0P8KAGUU/Mf9xv++h/hRmP+43/AH0P8KAGUU/Mf9xv++h/hRmP+43/AH0P8KAGUU/Mf9xv++h/hRmP+43/AH0P8KACb/XP/vH+dMqaUx+c+VbO4/xf/WpmY/7jf99D/CgBlFPzH/cb/vof4UZj/uN/30P8KAGUU/Mf9xv++h/hRmP+43/fQ/woAZRT8x/3G/76H+FGY/7jf99D/CgBlFPzH/cb/vof4UZj/uN/30P8KAGUU/Mf9xv++h/hRmP+43/fQ/woAZRT8x/3G/76H+FGY/7jf99D/CgBlFPzH/cb/vof4UZj/uN/30P8KAGUU/Mf9xv++h/hRmP+43/fQ/woAZRT8x/3G/76H+FGY/7jf99D/CgBlFPzH/cb/vof4UZj/uN/30P8KAGUU/Mf9xv++h/hRmP+43/fQ/woAZRT8x/3G/76H+FGY/7jf99D/CgBlFPzH/cb/vof4UZj/uN/30P8KAGUU/Mf9xv++h/hRmP+43/fQ/woAZT5v9c/+8f50Zj/ALjf99D/AAp8pj858q2dx/i/+tQBDRT8x/3G/wC+h/hRmP8AuN/30P8ACgBlFPzH/cb/AL6H+FGY/wC43/fQ/wAKAGUU/Mf9xv8Avof4UZj/ALjf99D/AAoAZRT8x/3G/wC+h/hRmP8AuN/30P8ACgBlFPzH/cb/AL6H+FGY/wC43/fQ/wAKAGUU/Mf9xv8Avof4UZj/ALjf99D/AAoAZRT8x/3G/wC+h/hRmP8AuN/30P8ACgBlFPzH/cb/AL6H+FGY/wC43/fQ/wAKAGUU/Mf9xv8Avof4UZj/ALjf99D/AAoAZRT8x/3G/wC+h/hRmP8AuN/30P8ACgBlFPzH/cb/AL6H+FGY/wC43/fQ/wAKAGUU/Mf9xv8Avof4UZj/ALjf99D/AAoAZRT8x/3G/wC+h/hRmP8AuN/30P8ACgBlFPzH/cb/AL6H+FGY/wC43/fQ/wAKAGUU/Mf9xv8Avof4UZj/ALjf99D/AAoAJv8AXP8A7x/nTKmlMfnPlWzuP8X/ANamZj/uN/30P8KAGUU/Mf8Acb/vof4UZj/uN/30P8KAGUU/Mf8Acb/vof4UZj/uN/30P8KAGUU/Mf8Acb/vof4UZj/uN/30P8KAGUU/Mf8Acb/vof4UZj/uN/30P8KAGUU/Mf8Acb/vof4UZj/uN/30P8KAGUU/Mf8Acb/vof4UZj/uN/30P8KAGUU/Mf8Acb/vof4UZj/uN/30P8KAGUU/Mf8Acb/vof4UZj/uN/30P8KAGUU/Mf8Acb/vof4UZj/uN/30P8KAGUU/Mf8Acb/vof4UZj/uN/30P8KAGUU/Mf8Acb/vof4UZj/uN/30P8KAGUU/Mf8Acb/vof4UZj/uN/30P8KAGUU/Mf8Acb/vof4UZj/uN/30P8KAGUU/Mf8Acb/vof4UZj/uN/30P8KACH/XJ/vD+dPuv+Pl/wAP5URGPzkwrZ3D+L/61OuSn2htysTx0bHb6Uuo+hXop+Y/7jf99D/CjMf9xv8Avof4UxDKKfmP+43/AH0P8KMx/wBxv++h/hQAyin5j/uN/wB9D/CjMf8Acb/vof4UAMop+Y/7jf8AfQ/wozH/AHG/76H+FADKKfmP+43/AH0P8KMx/wBxv++h/hQAyin5j/uN/wB9D/CjMf8Acb/vof4UAMop+Y/7jf8AfQ/wozH/AHG/76H+FADKKfmP+43/AH0P8KMx/wBxv++h/hQAyin5j/uN/wB9D/CjMf8Acb/vof4UAMop+Y/7jf8AfQ/wozH/AHG/76H+FADKKfmP+43/AH0P8KKAGUUUUxBRRRQAUUUUAFFFFABRRRQAUUUUAFFFFABRRRQA+b/XP/vH+dMp83+uf/eP86ZSGFFFFMQUUUUAFFFFABRRRQAUUUUAFFFFABRRRQAUUUUAFFFFABRRRQAUUUUAFFFFABRRRQAUUUUAFPm/1z/7x/nTKfN/rn/3j/OkMZRRRTEFFFFABRRRQAUUUUAFFFFABRRRQAUUUUAFFFFABRRRQAUUUUAFFFFABRRRQAUUUUAFFFFABRRRQA+b/XP/ALx/nTKfN/rn/wB4/wA6ZSGFFFFMQUUUUAFFFFABRRRQAUUUUAFFFFABRRRQAUUUUAFFFFABRRRQAUUUUAFFFFABRRRQAUUUUAFPm/1z/wC8f50ynzf65/8AeP8AOkMZRRRTEFFFFABRRRQAUUUUAFFFFABRRRQAUUUUAFFFFABRRRQAUUUUAFFFFABRRRQAUUUUAFFFFABRRRQA+b/XP/vH+dMp83+uf/eP86ZSGFFFFMQUUUUAFFFFABRRRQAUUUUAFFFFABRRRQAUUUUAFFFFABRRRQAUUUUAFFFFABRRRQAUUUUAPh/1yf7w/nT7r/j5f8P5UyH/AFyf7w/nT7r/AI+X/D+VLqPoQ0UUUxBRRRQAUUUUAFFFFABRRRQAUUUUAFFFFABRRRQAUUUUAFFFFABRRRQAUUUUAFFFFABRRRQAUUUUAFFFFABRRRQAUUUUAFFFFAD5v9c/+8f50ynzf65/94/zplIYUUUUxBRRRQAUUUUAFFFFABRRRQAUUUUAFFFFABRRRQAUUUUAFFFFABRRRQAUUUUAFFFFABRRRQAU+b/XP/vH+dMp83+uf/eP86QxlFFFMQUUUUAFFFFABRRRQAUUUUAFFFFABRRRQAUUUUAFFFFABRRRQAUUUUAFFFFABRRRQAUUUUAFFFFAD5v9c/8AvH+dMp83+uf/AHj/ADplIYUUUUxBRRRQAUUUUAFFFFABRRRQAUUUUAFFFFABRRRQAUUUUAFFFFABRRRQAUUUUAFFFFABRRRQAU+b/XP/ALx/nTKfN/rn/wB4/wA6QxlFFFMQUUUUAFFFFABRRRQAUUUUAFFFFABRRRQAUUUUAFFFFABRRRQAUUUUAFFFFABRRRQAUUUUAFFFFAD5v9c/+8f50ynzf65/94/zplIYUUUUxBRRRQAUUUUAFFFFABRRRQAUUUUAFFFFABRRRQAUUUUAFFFFABRRRQAUUUUAFFFFABRRRQA+H/XJ/vD+dPuv+Pl/w/lTIf8AXJ/vD+dPuv8Aj5f8P5Uuo+hDRRRTEFFFFABRRRQAUUUUAFFFFABRRRQAUUUUAFFFFABRRRQAUUUUAFFFFABRRRQAUUUUAFFFFABRRRQAUUUUAFFFFABRRRQAUUUUAPm/1z/7x/nTKfN/rn/3j/OmUhhRRRTEFFFFABRRRQAUUUUAFFFFABRRRQAUUUUAFFFFABRRRQAUUUUAFFFFABRRRQAUUUUAFFFFABT5v9c/+8f50ynzf65/94/zpDGUUUUxBRRRQAUUUUAFFFFABRRRQAUUUUAFFFFABRRRQAUUUUAFFFFABRRRQAUUUUAFFFFABRRRQAUUUUAPm/1z/wC8f50ynzf65/8AeP8AOmUhhRRRTEV73ULPTLfz9Su4LSHIXzJ5RGuT2yTiohrOmNYG+XUrQ2g63AnXyx/wLOKytXzZeLrDVbq2ubi0jtZYVa3t3nMMjMpztQFuVUjIHscZrzfxFpOqaqxv7DT7mezj1K4LwRx7nU+Y2SUGTnkH149RXRh6Ua01GUrefzt/wSZycV/Xa/8AwD1O+8UaRZeH5daF7Dc2URwZLeVHDHOMA5wTz0zV+x1Cy1O3+0abdwXcOdvmQSh1z6ZBxmvMdI0LV5fC2vSCwuYhcWccccMsZjkmdHZiQjYP3SFBIGeg4Ar0XQtZt9e0lL+0iuIo2Zl23ERjYFTg8H6dv55qatNQm4p3t1BSbNGiiisSgooooAKKKKACignArj9H8V280d9rGqajeW9pFO8IgmsjHBEol8tTvMYJY45+YgbjkDHDSuGx2FFZMeuW9zqFpFBO8SzNIgiuLKWN5iqg5Vm2gAA5zgg9jxVWXx34bh1I2MmpqJlfyyfKcx7vTzNuzPbr14pxhKTtFXFdHQUVjS+LdGhlmR7qQ/Z5PKndLaVkhbj77hSqDkHJIHvwas3+u2GnXCQTvNJO6eYIba3kncLnG4rGrEDPGTxU62uM0KKyvC99PqfhmyvLpzJLMhZmKbSeT2wMVq0PQFqFFFFABRRRQAUUUUAFFFFABT5v9c/+8f50ynzf65/94/zpDGUUUUxBRRRQAUUUUAFFFFABRRRQAUUUUAFFFFABRRRQAUUUUAFFFFABRRRQAUUUUAFFFFABRRRQAUUUUAPm/wBc/wDvH+dMp83+uf8A3j/OmUhhRRRTEFFFFABRRRQAUUUUAFFFFABRRRQAUUUUAFFFFABRRRQAUUUUAFFFFABRRRQAUUUUAFFFFAD4f9cn+8P50+6/4+X/AA/lTIf9cn+8P50+6/4+X/D+VLqPoQ0UUUxBRRRQAUUUUAFFFFABRRRQAUUUUAFFFFABRRRQAUUUUAFFFFABRRRQA/ym9V/77H+NHlN6r/32P8aZRSGP8pvVf++x/jR5Teq/99j/ABplFAD/ACm9V/77H+NHlN6r/wB9j/GmUUAP8pvVf++x/jR5Teq/99j/ABplFAD/ACm9V/77H+NHlN6r/wB9j/GmUUAP8pvVf++x/jR5Teq/99j/ABplFAD/ACm9V/77H+NHlN6r/wB9j/GmUUAP8pvVf++x/jR5Teq/99j/ABplFAE0sbGZzlfvH+IUzym9V/77H+NE3+uf/eP86ZQA/wApvVf++x/jR5Teq/8AfY/xplFAD/Kb1X/vsf40eU3qv/fY/wAaZRQA/wApvVf++x/jR5Teq/8AfY/xplFAD/Kb1X/vsf40eU3qv/fY/wAaZRQA/wApvVf++x/jR5Teq/8AfY/xplFAD/Kb1X/vsf40eU3qv/fY/wAaZRQA/wApvVf++x/jR5Teq/8AfY/xplFAD/Kb1X/vsf40eU3qv/fY/wAaZRQA/wApvVf++x/jR5Teq/8AfY/xplFAD/Kb1X/vsf40eU3qv/fY/wAaZRQA/wApvVf++x/jR5Teq/8AfY/xplFAD/Kb1X/vsf40eU3qv/fY/wAaZRQA/wApvVf++x/jR5Teq/8AfY/xplFAD/Kb1X/vsf40eU3qv/fY/wAaZRQA/wApvVf++x/jT5Y2MznK/eP8QqGnzf65/wDeP86ADym9V/77H+NHlN6r/wB9j/GmUUAP8pvVf++x/jR5Teq/99j/ABplFAD/ACm9V/77H+NHlN6r/wB9j/GmUUAP8pvVf++x/jR5Teq/99j/ABplFAD/ACm9V/77H+NHlN6r/wB9j/GmUUAP8pvVf++x/jR5Teq/99j/ABplFAD/ACm9V/77H+NHlN6r/wB9j/GmUUAP8pvVf++x/jR5Teq/99j/ABplFAD/ACm9V/77H+NHlN6r/wB9j/GmUUAP8pvVf++x/jR5Teq/99j/ABplFAD/ACm9V/77H+NHlN6r/wB9j/GmUUAP8pvVf++x/jR5Teq/99j/ABplFAD/ACm9V/77H+NHlN6r/wB9j/GmUUAP8pvVf++x/jR5Teq/99j/ABplFAD/ACm9V/77H+NHlN6r/wB9j/GmUUATSxsZnOV+8f4hTPKb1X/vsf40Tf65/wDeP86ZQA/ym9V/77H+NYfidrjTre11eKdlhsJg91Esg2yQsNrkjPO3Icf7vvWzVLWLCTVNIuLGK4Nt9oXy3kC7iEP3gORgkZGe2c09Q0OM1GGXU9Nh1ya9uoI77U444ZYL14hb2hcICNrADftBJP8AfHoKmvon8Pp4i0rRLiVbSDSHvAv2gu1tOxfkOSWBbBbBPUEjrXaG0tzZfY2gja28vyjCygqUxjbjpjHGKZZabY6bbm306zt7SEksY4IlRST3wBineysv60t/wRLdN/1rf/geh49P4p1//hMrNItQuCxkYC2Eh2OOAAV6Ee9emeIC2hTadqscog0+3lMN5Er4jEcnHmFRxlX2nPYFqvWmgaPYTLLY6TY20iklXhtkQgkYJyB6VcuLeG7t3guoY54ZF2vHIoZWHoQeCK68ViI1mnCKjb/gf18yIQ5VZs4q7u9WOi2N2s20a5qXImvGgWKBlbyow4DGIsFTJAzuY8gnNbvhyw1Wyu72HUJbdYCsbw241J7ySMncGJeRVbacDAOeQ2K15rW3uLVra4gjlt3XY0ToGRl9CDxj2qGw0rT9KjdNLsLWyRzllt4VjDH1IUDNct9GkVbW5e8pvVf++x/jR5Teq/8AfY/xplFQUP8AKb1X/vsf40eU3qv/AH2P8aZRQA/ym9V/77H+Ncb/AMI5qn/CGy2P2dftLasbgJ5ycx/a/M3Z3Y+5zjr26119FNNoT1MnVNLu7nxNo11CimC28/znEqjZuTC8ZyefSvLj8L9ej1BLU2LTQpIqi7/tBfKIBHz7C+4Y6429eBkc17PRXRh8RPDy5oW+auTKKkrHJxeGtRg8JeJNOWJXlu2mFsDMn70GJVU9cDJHfFW1stR0rxBcXkOnNfR31tDGTDcRKYWj3DDB2HyndnK5PB46Z6GisG29yrL8/wATM8L6dd2Hhmytb6OOK4jQiRBKrBTknqDzWt5Teq/99j/GmUUnqC0H+U3qv/fY/wAaPKb1X/vsf40yikMf5Teq/wDfY/xo8pvVf++x/jTKKAH+U3qv/fY/xo8pvVf++x/jTKKAH+U3qv8A32P8aPKb1X/vsf40yigB/lN6r/32P8afLGxmc5X7x/iFQ0+b/XP/ALx/nQAeU3qv/fY/xo8pvVf++x/jTKKAH+U3qv8A32P8aPKb1X/vsf40yigB/lN6r/32P8aPKb1X/vsf40yigB/lN6r/AN9j/Gjym9V/77H+NMooAf5Teq/99j/Gjym9V/77H+NMooAf5Teq/wDfY/xo8pvVf++x/jTKKAH+U3qv/fY/xo8pvVf++x/jTKKAH+U3qv8A32P8aPKb1X/vsf40yigB/lN6r/32P8aPKb1X/vsf40yigB/lN6r/AN9j/Gjym9V/77H+NMooAf5Teq/99j/Gjym9V/77H+NMooAf5Teq/wDfY/xo8pvVf++x/jTKKAH+U3qv/fY/xo8pvVf++x/jTKKAH+U3qv8A32P8aPKb1X/vsf40yigB/lN6r/32P8aPKb1X/vsf40yigCaWNjM5yv3j/EKZ5Teq/wDfY/xom/1z/wC8f50ygB/lN6r/AN9j/Gjym9V/77H+NMooAf5Teq/99j/Gjym9V/77H+NMooAf5Teq/wDfY/xo8pvVf++x/jTKKAH+U3qv/fY/xo8pvVf++x/jTKKAH+U3qv8A32P8aPKb1X/vsf40yigB/lN6r/32P8aPKb1X/vsf40yigB/lN6r/AN9j/Gjym9V/77H+NMooAf5Teq/99j/Gjym9V/77H+NMooAf5Teq/wDfY/xo8pvVf++x/jTKKAH+U3qv/fY/xo8pvVf++x/jTKKAH+U3qv8A32P8aPKb1X/vsf40yigB/lN6r/32P8aPKb1X/vsf40yigB/lN6r/AN9j/Gjym9V/77H+NMooAf5Teq/99j/Gjym9V/77H+NMooAmijYTIcr94fxCnXMZa4Ygr26sB2qKH/XJ/vD+dPuv+Pl/w/lS6j6DPKb1X/vsf40eU3qv/fY/xplFMQ/ym9V/77H+NHlN6r/32P8AGmUUAP8AKb1X/vsf40eU3qv/AH2P8aZRQA/ym9V/77H+NHlN6r/32P8AGmUUAP8AKb1X/vsf40eU3qv/AH2P8aZRQA/ym9V/77H+NHlN6r/32P8AGmUUAP8AKb1X/vsf40eU3qv/AH2P8aZRQA/ym9V/77H+NHlN6r/32P8AGmUUAP8AKb1X/vsf40eU3qv/AH2P8aZRQA/ym9V/77H+NHlN6r/32P8AGmUUAP8AKb1X/vsf40UyigAooopiCiiigAooooAKKKKACiiigAooooAKKKKACiiigB83+uf/AHj/ADplPm/1z/7x/nTKQwooopiCiiigAooooAKKKKACiiigAooooAKKKKACiiigAooooAKKKKACiiigAooooAKKKKACiiigAp83+uf/AHj/ADplPm/1z/7x/nSGMooopiCiiigAooooAKKKKACiiigAooooAKKKKACiiigAooooAKKKKACiiigAooooAKKKKACiiigAooooAfN/rn/3j/OmU+b/AFz/AO8f50ykMKKKKYjMvNWmtWtR9gkHn3otT5kijCkE+YNu7I46HB9cVp1z/hL/AJjf/YWn/wDZa8m1y11RPF19oUcVwFuLuSWKJAdphZixAHoSf/Hq6sNh/bvlvbS/3paf8EiUra/L8We80V5pqUEM2sarH4i1PRdOnEgFq2p2ZaRIti7Wt5DMgGDn7gyGBz2r0SxDLp9uHmadhEoMrLtLnA+Yjtnriua2lyr62J6KKKQwooooAKKKKACiiigArltSlvIviFb/ANnWsVzMdLcYmm8pAPNXksFY/kp/CuprPbS93iRNW877lo1t5W3rlw27OfbGMUL4k/X8mD1i16fmjn9X8ejS/DcGpGwjM73L20sEl1sWNkLK537TkblAHAzuHTpSaN8RLbV/D818lmwuorlLUWsUwkEkjkBNr4Awc8kgYweDjk1j4frqumQwDUPKngvZ7qOVoN6jzWLFSu4Zxkc5HT3xSaR8Phpek3dv/aRlup7mO6juRAFEUkeNvy5ORkHjPQ4z3rq/cex/vX/DT/gkvm5tNv8Ah7FzTpNQk8dTHVLW2t3GmrtW3uWmBHmHklkTH5GumrIsNIvYdafU9S1CK5le2Fv5cNt5SKAxbIyzHv3J/Cteubol/W7H1b/rZBRRRSGFFFFABRRRQAUUUUAFPm/1z/7x/nTKfN/rn/3j/OkMZRRRTEFFFFABRRRQAUUUUAFFFFABRRRQAUUUUAFFFFABRRRQAUUUUAFFFFABRRRQAUUUUAFFFFABRRRQA+b/AFz/AO8f50ynzf65/wDeP86ZSGFFFFMQUUUUAFFFFABRRRQAUUUUAFFFFABRRRQAUUUUAFFFFABRRRQAUUUUAFFFFABRRRQAUUUUAPh/1yf7w/nT7r/j5f8AD+VMh/1yf7w/nT7r/j5f8P5Uuo+hDRRRTEFFFFABRRRQAUUUUAFFFFABRRRQAUUUUAFFFFABRRRQAUUUUAFFFFABRRRQAUUUUAFFFFABRRRQAUUUUAFFFFABRRRQAUUUUAPm/wBc/wDvH+dMp83+uf8A3j/OmUhhRRRTEFFFFABRRRQAUUUUAFFFFABRRRQAUUUUAFFFFABRRRQAUUUUAFFFFABRRRQAUUUUAFFFFABT5v8AXP8A7x/nTKfN/rn/AN4/zpDGUUUUxBRRRQAUUUUAFFFFABRRRQAUUUUAFFFFABRRRQAUUUUAFFFFABRRRQAUUUUAFFQX17b6bYT3t7J5dvboZJH2k7VAyTgcmplYOgZTkMMg0ALRRRQAUUUUAPm/1z/7x/nTKfN/rn/3j/OmUhhRRRTEFFFFABRRRQAUUUUAFFFFABRRRQAUUUUAFFFFABRRRQAUUUUAFFFFABRRRQAUUUUAFFFFABT5v9c/+8f50ynzf65/94/zpDGUUUUxBRRRQAUUUUAFFFFABRRRQAUUUUAFFFFABRRRQAUUUUAFFFFABRRRQAUUUUAFFFFABRRRQAUUUUAPm/1z/wC8f50ynzf65/8AeP8AOmUhhRRRTEFFFFABRRRQAUUUUAFFFFABRRRQAUUUUAFFFFABRRRQAUUUUAFFFFABRRRQAUUUUAFFFFAD4f8AXJ/vD+dPuv8Aj5f8P5UyH/XJ/vD+dPuv+Pl/w/lS6j6ENFFFMQUUUUAFFFFABRRRQAUUUUAFFFFABRRRQAUUUUAFFFFABRRRQAUUUUAFFFFABRRRQAUUUUAFFFFABRRRQAUUUUAFFFFABRRRQA+b/XP/ALx/nTKfN/rn/wB4/wA6ZSGFFFFMQUUUUAFFFFABRRRQAUUUUAFFFFABRRRQAUUUUAFFFFABRRRQAUUUUAFFFFABRRRQAUUUUAFPm/1z/wC8f50ynzf65/8AeP8AOkMZRRRTEFFFFABRRRQAUUUUAFFFFABRRRQAUUUUAFFFFABRRRQAUUUUAFFFFABRRRQBheOP+RD1v/rxl/8AQTVNru/0O80/z9Qk1CK8hlLW7xRr5bJHvBj2qDt4IwxY8jn16K+srfUrCeyvY/Mt7hDHIm4jcpGCMjkVVsdB0/T7w3UCTPOU2CS4uZJyi5yVXex2g8ZAxnA9BT6NCe6/rsed6j4w8TWlvpd7H9sQahH5rrOlqbcKQDmLYS/Gf4yeO3pa8OeJvFOv6e2oW0F9PLHceWIo1tVtWUEZDbmEobGeQcZxx2rrJPBGgSsnmWchjjYvHALqUQxk9dse7Yv4AVJF4P0W3b/RreeBCwdoYbyaOJ29WjVwrZwM5Bz3zXY6tD2Kio+9fcjllfcyZrzWLmXxNNFrEtsmlTH7NDHBEVOIEfDllJIyexB5PPTHV2U5utPt52ADSxK5A6AkZqEaTZKt8BBxqDFrn52/eEoE9ePlAHGKswxJBCkMQ2pGoVRnOABgVx30+7/gl9fv/wCATTf65/8AeP8AOmU+b/XP/vH+dMqSgooopiCiiigAooooAKKKKACiiigAooooAKKKKACiiigAooooAKKKKACiiigAooooAKKKKACiiigAp83+uf8A3j/OmU+b/XP/ALx/nSGMooopiCiiigAooooAKKKKACiiigAooooAKKKKACiiigAooooAKKKKACiiigAooooAKKKKACiiigAooooAfN/rn/3j/OmU+b/XP/vH+dMpDCiiimIKKKKACiiigAooooAKKKKACiiigAooooAKKKKACiiigAooooAKKKKACiiigAooooAKKKKAHw/65P8AeH86fdf8fL/h/KmQ/wCuT/eH86fdf8fL/h/Kl1H0IaKKKYgooooAKKKKACiiigAooooAKKKKACiiigAooooAKKKKACiiigAooooAf5rei/8AfA/wo81vRf8Avgf4UyikMf5rei/98D/CjzW9F/74H+FMooAf5rei/wDfA/wo81vRf++B/hTKKAH+a3ov/fA/wo81vRf++B/hTKKAH+a3ov8A3wP8KPNb0X/vgf4UyigB/mt6L/3wP8KPNb0X/vgf4UyigB/mt6L/AN8D/CjzW9F/74H+FMooAf5rei/98D/CjzW9F/74H+FMooAmlkYTOML94/wimea3ov8A3wP8KJv9c/8AvH+dMoAf5rei/wDfA/wo81vRf++B/hTKKAH+a3ov/fA/wo81vRf++B/hTKKAH+a3ov8A3wP8KPNb0X/vgf4UyigB/mt6L/3wP8KPNb0X/vgf4UyigB/mt6L/AN8D/CjzW9F/74H+FMooAf5rei/98D/CjzW9F/74H+FMooAf5rei/wDfA/wo81vRf++B/hTKKAH+a3ov/fA/wo81vRf++B/hTKKAH+a3ov8A3wP8KPNb0X/vgf4UyigB/mt6L/3wP8KPNb0X/vgf4UyigB/mt6L/AN8D/CjzW9F/74H+FMooAf5rei/98D/CjzW9F/74H+FMooAf5rei/wDfA/wo81vRf++B/hTKKAH+a3ov/fA/wo81vRf++B/hTKKAH+a3ov8A3wP8KfLIwmcYX7x/hFQ0+b/XP/vH+dAB5rei/wDfA/wo81vRf++B/hTKKAH+a3ov/fA/wo81vRf++B/hTKKAH+a3ov8A3wP8KPNb0X/vgf4UyigB/mt6L/3wP8KPNb0X/vgf4UyigB/mt6L/AN8D/CjzW9F/74H+FMooAf5rei/98D/CjzW9F/74H+FMooAf5rei/wDfA/wo81vRf++B/hTKKAH+a3ov/fA/wo81vRf++B/hTKKAH+a3ov8A3wP8KPNb0X/vgf4UyigB/mt6L/3wP8KPNb0X/vgf4UyigB/mt6L/AN8D/CjzW9F/74H+FMooAf5rei/98D/CjzW9F/74H+FMooAf5rei/wDfA/wo81vRf++B/hTKKAH+a3ov/fA/wo81vRf++B/hTKKAH+a3ov8A3wP8KPNb0X/vgf4UyigCaWRhM4wv3j/CKZ5rei/98D/Cib/XP/vH+dMoAf5rei/98D/CjzW9F/74H+FMooAf5rei/wDfA/wo81vRf++B/hTKKAH+a3ov/fA/wo81vRf++B/hTKKAH+a3ov8A3wP8KPNb0X/vgf4UyigB/mt6L/3wP8KPNb0X/vgf4UyigB/mt6L/AN8D/CjzW9F/74H+FMooAf5rei/98D/CjzW9F/74H+FMooAf5rei/wDfA/wo81vRf++B/hTKKAH+a3ov/fA/wo81vRf++B/hTKKAH+a3ov8A3wP8KPNb0X/vgf4UyigB/mt6L/3wP8KPNb0X/vgf4UyigB/mt6L/AN8D/CjzW9F/74H+FMooAf5rei/98D/CjzW9F/74H+FMooAf5rei/wDfA/wo81vRf++B/hTKKAH+a3ov/fA/wp8sjCZxhfvH+EVDT5v9c/8AvH+dAB5rei/98D/CjzW9F/74H+FMooAf5rei/wDfA/wo81vRf++B/hTKKAH+a3ov/fA/wo81vRf++B/hTKKAH+a3ov8A3wP8KPNb0X/vgf4UyigB/mt6L/3wP8KPNb0X/vgf4UyigB/mt6L/AN8D/CjzW9F/74H+FMooAf5rei/98D/CjzW9F/74H+FMooAf5rei/wDfA/wo81vRf++B/hTKKAH+a3ov/fA/wo81vRf++B/hTKKAH+a3ov8A3wP8KPNb0X/vgf4UyigB/mt6L/3wP8KPNb0X/vgf4UyigB/mt6L/AN8D/CjzW9F/74H+FMooAf5rei/98D/CjzW9F/74H+FMooAf5rei/wDfA/wo81vRf++B/hTKKAH+a3ov/fA/wo81vRf++B/hTKKAJpZGEzjC/eP8Ipnmt6L/AN8D/Cib/XP/ALx/nTKAH+a3ov8A3wP8KPNb0X/vgf4UyigB/mt6L/3wP8KPNb0X/vgf4UyigB/mt6L/AN8D/CjzW9F/74H+FMooAf5rei/98D/CjzW9F/74H+FMooAf5rei/wDfA/wo81vRf++B/hTKKAH+a3ov/fA/wo81vRf++B/hTKKAH+a3ov8A3wP8KPNb0X/vgf4UyigB/mt6L/3wP8KPNb0X/vgf4UyigB/mt6L/AN8D/CjzW9F/74H+FMooAf5rei/98D/CjzW9F/74H+FMooAf5rei/wDfA/wo81vRf++B/hTKKAH+a3ov/fA/wo81vRf++B/hTKKAH+a3ov8A3wP8KPNb0X/vgf4UyigB/mt6L/3wP8KPNb0X/vgf4UyigCaKRjMgwv3h/CKdcyEXDABe3VQe1RQ/65P94fzp91/x8v8Ah/Kl1H0Gea3ov/fA/wAKPNb0X/vgf4UyimIf5rei/wDfA/wo81vRf++B/hTKKAH+a3ov/fA/wo81vRf++B/hTKKAH+a3ov8A3wP8KPNb0X/vgf4UyigB/mt6L/3wP8KPNb0X/vgf4UyigB/mt6L/AN8D/CjzW9F/74H+FMooAf5rei/98D/CjzW9F/74H+FMooAf5rei/wDfA/wo81vRf++B/hTKKAH+a3ov/fA/wo81vRf++B/hTKKAH+a3ov8A3wP8KPNb0X/vgf4UyigB/mt6L/3wP8KKZRQAUUUUxBRRRQAUUUUAFFFFABRRRQAUUUUAFFFFABRRRQA+b/XP/vH+dMp83+uf/eP86ZSGFFFFMQUUUUAFFFFABRRRQAUUUUAFFFFABRRRQAUUUUAFFFFABRRRQAUUUUAFFFFABRRRQAUUUUAFPm/1z/7x/nTKfN/rn/3j/OkMZRRRTEFFFFABRRRQAUUUUAFFFFABRRRQAUUUUAFFFFABRRRQAUUUUAFFFFABRRRQAUUUUAFFFFABRRRQA+b/AFz/AO8f50ynzf65/wDeP86ZSGFFFFMQUUUUAFFFFABRRRQAUUUUAFFFFABRRRQAUUUUAFFFFABRRRQAUUUUAFFFFABRRRQAUUUUAFPm/wBc/wDvH+dMp83+uf8A3j/OkMZRRRTEFFFFABRRRQAUUUUAFFFFABRRRQAUUUUAFFFFABRRRQAUUUUAFFFFABRRRQAUUUUAFFYyeLdGkl2JcyMBMbdpfs0vlJIG27Gk27VO7jBIzkeozPf+INO02dobmSYui75BBbSTCJexcopCDry2Oh9KLMLo0qKy4/E2iy6g9kmpW5uECkrvwCGGVwehyPQ0jeJdLFnb3KTyTJdZMCwW8kryAdWCKpYr/tYxyOeRVOMlugunsbE3+uf/AHj/ADplZl14o0eGCC7kvMRXczRQ/unLNIMkptxuD/KRtIBzxjPFXrW5S8tkniWVUfoJoWiYfVWAI/EVNnYLolooooAKKKKACiiigAooooAKKKKACiq9jfW2pWi3VlJ5sLFlDbSMlSVPB56g1YoAKKKKACiiigAooqNrmBbpbZpoxO6F1iLjcyjAJA64GRz70ASUVS0/VrTVDL9iaV1iODI0EiI3JHyMygOODypIq7QAUUUUAFFFFABRRRQAUUUUAPh/1yf7w/nT7r/j5f8AD+VMh/1yf7w/nT7r/j5f8P5Uuo+hDRRRTEFFFFABRRRQAUUUUAFFFFABRRRQAUUUUAFFFFABRRRQAUUUUAFFFFABRRRQAUUUUAFFFFABRRRQAUUUUAFFFFABRRRQAUUUUAPm/wBc/wDvH+dMp83+uf8A3j/OmUhhRRRTEFFFFABRRRQAUUUUAFFFFABRRRQAUUUUAFFFFABRRRQAUUUUAFFFFABRRRQAUUUUAFFFFABT5v8AXP8A7x/nTKfN/rn/AN4/zpDGUUUUxBRRRQAUUUUAFFFFABRRRQAUUUUAFFFFABRRRQAUUUUAFFFFABRRRQAUUUUAFFFFABRRRQAUUUUAPm/1z/7x/nTKfN/rn/3j/OmUhhRRRTEFFFFABRRRQAUUUUAFFFFABRRRQAUUUUAFFFFABRRRQAUUUUAFFFFABRRRQAUUUUAFFFFABT5v9c/+8f50ynzf65/94/zpDGUUUUxBRRRQAUUUUAFFFFABRRRQAUUUUAFFFFABRRRQAUUUUAFFFFABRRRQAUUUUAFFFFAHIx6HqK+CrywNv/pMt/LMke9eUNyXBznH3eajvNCmt9f1K5l0/VNQt791lQ6dqbW/lkIqFXQzRg/dyCMnkg4wK7KincLHi+ofDjxB/aMS6ZYpDBIBEzfaFIgjPuTklenTJrvNX8PvFqljdWlneXdpBafYzBYXzW0sYByrAiRAw4wQW9CM811lFdNfFVK7Tl0IUEjlP7EmFxoslnplxZx2+py3NxHdXYmlUGORd7MXbJJI4DN1+tdXT5v9c/8AvH+dMrmvdF2swooopAFFFFABRRRQAUUUUAFFFFAHn3g7Vri+S10a1lk05IJJ5pJZIfmugJm+WLcCpUZG5uSMgAc7hbutQ1k6d4k1OPV5IhpNxN9nt1giKOqIrbXJUsR1HBU8nnpjo28OaW1jBafZisVtKZoSkrq8bkkkq4O4Zye/Q46VK2i2DWl9amDMOoM7XK72/eFgFbnORkAdMU07a/10Fb+vv/r/AIY8ssPHPibV/Ea2ST3YiJA2WEVsHJKk9ZuMD/Hmu0m1zWdNWyl1WFUkuNPkBtlC/wDH2pXaoIJ+8CeMkcVfbwVoBuluYrJ7adQVEtpcywNg9sowOPar76Hp0sFjDLbCRNPkWW23uxKOoIDZJyTyeuc9etdWJq0qk7042X/D/wCf4ExUluYGg6zqt3qNlpd9OrXdmbgakyIoEhQqIzjHy7g4fjHTFddVWLTLODVLjUYoFW7uURJZcnLqudo9O5/yKtVyt3KSsFeefELxVquja5bWGmXHkRzWUkjny1bLbgARkHBGD+deh1map4c0nWriKfU7NZ5YkaNGLsMKxBI4I9BWtCUIVE6iuv8AgA720MP4YTT3HgSykuLmabCCNVkVAECjAC7VBxj+8Sc966+q2nafa6Tp8Njp8IhtoF2xxgk4H1PJ+pqzU1ZRnUcoqyYRVkkwooorMYUUUUAFFFFABRRRQA+H/XJ/vD+dPuv+Pl/w/lTIf9cn+8P50+6/4+X/AA/lS6j6ENFFFMQUUUUAFFFFABRRRQAUUUUAFFFFABRRRQAUUUUAFFFFABRRRQAUUUUAFFTf6N/01/Sj/Rv+mv6UrjIaKm/0b/pr+lH+jf8ATX9KLgQ0VN/o3/TX9KP9G/6a/pRcCGipv9G/6a/pR/o3/TX9KLgQ0VN/o3/TX9KP9G/6a/pRcCGipv8ARv8Apr+lH+jf9Nf0ouBDRU3+jf8ATX9KP9G/6a/pRcCGipv9G/6a/pR/o3/TX9KLgMm/1z/7x/nTKsSfZ/Nfd5mdxzjFN/0b/pr+lFwIaKm/0b/pr+lH+jf9Nf0ouBDRU3+jf9Nf0o/0b/pr+lFwIaKm/wBG/wCmv6Uf6N/01/Si4ENFTf6N/wBNf0o/0b/pr+lFwIaKm/0b/pr+lH+jf9Nf0ouBDRU3+jf9Nf0o/wBG/wCmv6UXAhoqb/Rv+mv6Uf6N/wBNf0ouBDRU3+jf9Nf0o/0b/pr+lFwIaKm/0b/pr+lH+jf9Nf0ouBDRU3+jf9Nf0o/0b/pr+lFwIaKm/wBG/wCmv6Uf6N/01/Si4ENFTf6N/wBNf0o/0b/pr+lFwIaKm/0b/pr+lH+jf9Nf0ouBDRU3+jf9Nf0o/wBG/wCmv6UXAhp83+uf/eP86f8A6N/01/SnSfZ/Nfd5mdxzjFFwK9FTf6N/01/Sj/Rv+mv6UXAhoqb/AEb/AKa/pR/o3/TX9KLgQ0VN/o3/AE1/Sj/Rv+mv6UXAhoqb/Rv+mv6Uf6N/01/Si4ENFTf6N/01/Sj/AEb/AKa/pRcCGipv9G/6a/pR/o3/AE1/Si4ENFTf6N/01/Sj/Rv+mv6UXAhoqb/Rv+mv6Uf6N/01/Si4ENFTf6N/01/Sj/Rv+mv6UXAhoqb/AEb/AKa/pR/o3/TX9KLgQ0VN/o3/AE1/Sj/Rv+mv6UXAhoqb/Rv+mv6Uf6N/01/Si4ENFTf6N/01/Sj/AEb/AKa/pRcCGipv9G/6a/pR/o3/AE1/Si4ENFTf6N/01/Sj/Rv+mv6UXAZN/rn/AN4/zplWJPs/mvu8zO45xim/6N/01/Si4ENFTf6N/wBNf0o/0b/pr+lFwIaKm/0b/pr+lH+jf9Nf0ouBDRU3+jf9Nf0o/wBG/wCmv6UXAhoqb/Rv+mv6Uf6N/wBNf0ouBDRU3+jf9Nf0o/0b/pr+lFwIaKm/0b/pr+lH+jf9Nf0ouBDRU3+jf9Nf0o/0b/pr+lFwIaKm/wBG/wCmv6Uf6N/01/Si4ENFTf6N/wBNf0o/0b/pr+lFwIaKm/0b/pr+lH+jf9Nf0ouBDRU3+jf9Nf0o/wBG/wCmv6UXAhoqb/Rv+mv6Uf6N/wBNf0ouBDRU3+jf9Nf0o/0b/pr+lFwIaKm/0b/pr+lH+jf9Nf0ouBDT5v8AXP8A7x/nT/8ARv8Apr+lOk+z+a+7zM7jnGKLgV6Km/0b/pr+lH+jf9Nf0ouBDRU3+jf9Nf0o/wBG/wCmv6UXAhoqb/Rv+mv6Uf6N/wBNf0ouBDRU3+jf9Nf0o/0b/pr+lFwIaKm/0b/pr+lH+jf9Nf0ouBDRU3+jf9Nf0o/0b/pr+lFwIaKm/wBG/wCmv6Uf6N/01/Si4ENFTf6N/wBNf0o/0b/pr+lFwIaKm/0b/pr+lH+jf9Nf0ouBDRU3+jf9Nf0o/wBG/wCmv6UXAhoqb/Rv+mv6Uf6N/wBNf0ouBDRU3+jf9Nf0o/0b/pr+lFwIaKm/0b/pr+lH+jf9Nf0ouBDRU3+jf9Nf0o/0b/pr+lFwIaKm/wBG/wCmv6Uf6N/01/Si4DJv9c/+8f50yrEn2fzX3eZncc4xTf8ARv8Apr+lFwIaKm/0b/pr+lH+jf8ATX9KLgQ0VN/o3/TX9KP9G/6a/pRcCGipv9G/6a/pR/o3/TX9KLgQ0VN/o3/TX9KP9G/6a/pRcCGipv8ARv8Apr+lH+jf9Nf0ouBDRU3+jf8ATX9KP9G/6a/pRcCGipv9G/6a/pR/o3/TX9KLgQ0VN/o3/TX9KP8ARv8Apr+lFwIaKm/0b/pr+lH+jf8ATX9KLgQ0VN/o3/TX9KP9G/6a/pRcCGipv9G/6a/pR/o3/TX9KLgQ0VN/o3/TX9KP9G/6a/pRcCGipv8ARv8Apr+lH+jf9Nf0ouBDRU3+jf8ATX9KP9G/6a/pRcBkP+uT/eH86fdf8fL/AIfyp0f2fzU2+ZncMZxTrjyfPbf5m7jOMY6Ur6j6FWipv9G/6a/pR/o3/TX9KdxENFTf6N/01/Sj/Rv+mv6UXAhoqb/Rv+mv6Uf6N/01/Si4ENFTf6N/01/Sj/Rv+mv6UXAhoqb/AEb/AKa/pR/o3/TX9KLgQ0VN/o3/AE1/Sj/Rv+mv6UXAhoqb/Rv+mv6Uf6N/01/Si4ENFTf6N/01/Sj/AEb/AKa/pRcCGipv9G/6a/pR/o3/AE1/Si4ENFTf6N/01/Sj/Rv+mv6UXAhoqb/Rv+mv6UUXAhooopiCiiigAooooAKKKKACiiigAooooAKKKKACiiigB83+uf8A3j/OmU+b/XP/ALx/nTKQwooopiCiiigAooooAKKKKACiiigAooooAKKKKACiiigAooooAKKKKACiiigAooooAKKKKACiiigAp83+uf8A3j/OmU+b/XP/ALx/nSGMooopiCiiigAooooAKKKKACiiigAooooAKKKKACiiigAooooAKKKKACiiigAooooAKKKKACiiigAooooAfN/rn/3j/OmU+b/XP/vH+dMpDCiiimIKKKKACiiigAooooAKKKKACiiigAooooAKKKKACiiigAooooAKKKKACiiigAooooAKKKKACnzf65/94/zplPm/1z/7x/nSGMooopiCiiigAooooAKKKKACiiigAooooAKKKKACiiigAooooAKKKKACiiigAooooAKKKKACiiigAooooAfN/rn/AN4/zplPm/1z/wC8f50ykMKKKKYgooooAKKKKACiiigAooooAKKKKACiiigAooooAKKKKACiiigAooooAKKKKACiiigAooooAfD/AK5P94fzp91/x8v+H8qZD/rk/wB4fzp91/x8v+H8qXUfQhooopiCiiigAooooAKKKKACiiigAooooAKKKKACiiigAooooAKKKKACiiigAooooAKKKKACiiigAooooAKKKKACiiigAooooAKKKKAHzf65/wDeP86ZT5v9c/8AvH+dMpDCiiimIKKKKACiiigAooooAKKKKACiiigAooooAKKKKACiism98R2dh/afnpNu02JJZFVATIr527OeSSCvbmgZrUVzep+PNF0qGCW4eZ47i1W7RokDfI33e/U8/kabpPjax13zIoLa8tHZH8prhUHmFVyQNrNggEHnHfGcHGkqVRQ9py6Eppux01FcT4dv7yeTwh513PJ9o0iWSbfIT5rARYZvU8nk+prtqmUeV2/rewRd1cKKKKkYUUUUAFFFFABT5v8AXP8A7x/nTKfN/rn/AN4/zpDGUUUUxBRRRQAUUUUAFFFFABRRRQAUUUUAFFFFABRRRQAUUUUAFFFFABRRRQAUUUUAFFFFABRRRQAUUUUAPm/1z/7x/nTKfN/rn/3j/OmUhhRRRTEFFFFABRRRQAUUUUAFFFFABRRRQAUUUUAFFFFABRRRQAUUUUAFFFFABRRRQAUUUUAFFFFABT5v9c/+8f50ynzf65/94/zpDGUUUUxBRRRQAUUUUAFFFFABRRRQAUUUUAFFFFABRRRQBzfiLxTNoE7+bFpiwrF5iG71QW8s+PvCNChyRwOSMk1Dqni6y0y4W9eGd0bSzdxnzmAYFlATy/u5O773UVZvPDd3JqGpz2GoxWyapGqXHmWvmSLhNg2PvAAxzgq3JJ71V1LwNHqdrFBNelRFposVZYu4KkP1/wBn7vv1q4cnMufb/gP/AIBMr9P61X/BKXh34j/25qtpaTaWLVLviJxc+YwbYW5XaAB8pGQT2454tammoeF7Cwg0QwyteawTJ5reWGErs+z7rcc43deM+1V9C+HEejXlhdHUTPLZyBh+52hl2MuPvHH3gc+2Peuk1zSn1a0gWC4W3uLa4juIZHj8xQyn+JcjIIyOorfE+wVX9x8On6XEuZxs97fjqXrdp2t0N3HHFMR86RSF1U+zEKT+QqSo7dZ1t0F3JHLMB87xRlFY+yksR+ZqSuUsKKKKACiiigAooooAKKKKAHzf65/94/zplPm/1z/7x/nTKQwooopiCiiigAooooAKKKKACiiigAooooAKKKKACiiigAooooAKKKKACiiigAooooAKKKKACiiigB8P+uT/AHh/On3X/Hy/4fypkP8Ark/3h/On3X/Hy/4fypdR9CGiiimIKKKKACiiigAooooAKKKKACiiigAooooAKKKKACiiigAooooAKKKKACiiigAooooAKKKKACiiigAooooAKKKKACiiigAooooAfN/rn/3j/OmU+b/XP/vH+dMpDCiiimIKKKKACiiigAooooAKKKKACiiigAooooAKKKKACsLUdBlvfE9lfo8QtUTF3EwO6Uo26LHbhiTz7Vu0ULR3B6qx55qHwxl1GyvIHvo0PmbLI7C3l2/LKjDjozN07AfhZ8IeCbrQGk+1ado4kZW/0yBi0nK4CqDGu0dSTuPpjvXdUVs69R0/ZN6C5Ve5zGj+G7zT38OmaSBv7L097WbYxO5mEeCvHI+Q9cdq6eiism23dglZWQUUUUhhRRRQAUUUUAFPm/1z/wC8f50ynzf65/8AeP8AOkMZRRRTEFFFFABRRRQAUUUUAFFFFABRRRQAUUUUAFFFFABRRRQAUUUUAFFFFABRRRQAUUUUAFFFFABRRRQA+b/XP/vH+dMp83+uf/eP86ZSGFFFFMQUUUUAFFFFABRRRQAUUUUAFFFFABRRRQAUUUUAFFFFABRRRQAUUUUAFFFFABRRRQAUUUUAFPm/1z/7x/nTKfN/rn/3j/OkMZRRRTEFFFFABRRRQAUUUUAFFFFABRRRQAUUUUAFFFFABRRRQAUUUUAFFFFABRRRQAUUUUAFFFFABRRRQA+b/XP/ALx/nTKfN/rn/wB4/wA6ZSGFFFFMQUUUUAFFFFABRRRQAUUUUAFFFFABRRRQAUUUUAFFFFABRRRQAUUUUAFFFFABRRRQAUUUUAPh/wBcn+8P50+6/wCPl/w/lTIf9cn+8P50+6/4+X/D+VLqPoQ0UUUxBRRRQAUUUUAFFFFABRRRQAUUUUAFFFFABRRRQAUUUUAFFFFABRRRQBN9lm/ufqKPss39z9RUNFLUehN9lm/ufqKPss39z9RUNFGoaE32Wb+5+oo+yzf3P1FQ0UahoTfZZv7n6ij7LN/c/UVDRRqGhN9lm/ufqKPss39z9RUNFGoaE32Wb+5+oo+yzf3P1FQ0UahoTfZZv7n6ij7LN/c/UVDRRqGhN9lm/ufqKPss39z9RUNFGoaFiS2laVyE4LEjkU37LN/c/UUyb/XP/vH+dMo1DQm+yzf3P1FH2Wb+5+oqGijUNCb7LN/c/UUfZZv7n6ioaKNQ0Jvss39z9RR9lm/ufqKhoo1DQm+yzf3P1FH2Wb+5+oqGijUNCb7LN/c/UUfZZv7n6ioaKNQ0Jvss39z9RR9lm/ufqKhoo1DQm+yzf3P1FH2Wb+5+oqGijUNCb7LN/c/UUfZZv7n6ioaKNQ0Jvss39z9RR9lm/ufqKhoo1DQm+yzf3P1FH2Wb+5+oqGijUNCb7LN/c/UUfZZv7n6ioaKNQ0Jvss39z9RR9lm/ufqKhoo1DQm+yzf3P1FH2Wb+5+oqGijUNCb7LN/c/UUfZZv7n6ioabJIkUTSSMFRFLMx7AdTRqBY+yzf3P1FOktpWlchOCxI5FZOk6mdWsxdLZXNrC4DRG42AyqRkMArEgY7Ng+1XJLhG1Ca3Ak3p85JiYLgk9GxtJ46A5H40NNOwXTVyx9lm/ufqKPss39z9RUNFGoaE32Wb+5+oo+yzf3P1FZ+qajFpGk3WoXKu0NrE0rrGAWIAycZI5q0DuUEdxRqGhN9lm/ufqKPss39z9RUNFGoaE32Wb+5+oo+yzf3P1FQ0UahoTfZZv7n6ij7LN/c/UVDRRqGhN9lm/ufqKPss39z9RUNFGoaE32Wb+5+oo+yzf3P1FQ0UahoTfZZv7n6ij7LN/c/UVDRRqGhN9lm/ufqKPss39z9RUNFGoaE32Wb+5+oo+yzf3P1FQ0UahoTfZZv7n6ij7LN/c/UVDRRqGhN9lm/ufqKPss39z9RUNFGoaE32Wb+5+oo+yzf3P1FQ0UahoTfZZv7n6ij7LN/c/UVDRRqGhN9lm/ufqKPss39z9RUNFGoaFiS2laVyE4LEjkU37LN/c/UUyb/AFz/AO8f50yjUNCb7LN/c/UUfZZv7n6ioaKNQ0Jvss39z9RR9lm/ufqKhoo1DQm+yzf3P1FH2Wb+5+oqGijUNCb7LN/c/UUfZZv7n6ioaKNQ0Jvss39z9RR9lm/ufqKhoo1DQm+yzf3P1FH2Wb+5+oqGijUNCb7LN/c/UUfZZv7n6ioaKNQ0Jvss39z9RR9lm/ufqKhoo1DQm+yzf3P1FH2Wb+5+oqGijUNCb7LN/c/UUfZZv7n6ioaKNQ0Jvss39z9RR9lm/ufqKhoo1DQm+yzf3P1FH2Wb+5+oqGijUNCb7LN/c/UUfZZv7n6ioaKNQ0Jvss39z9RR9lm/ufqKhoo1DQm+yzf3P1FOktpWlchOCxI5FV6fN/rn/wB4/wA6NQ0H/ZZv7n6ij7LN/c/UVDRRqGhN9lm/ufqKPss39z9RUNFGoaE32Wb+5+oo+yzf3P1FQ0UahoTfZZv7n6ij7LN/c/UVDRRqGhN9lm/ufqKPss39z9RUNFGoaE32Wb+5+oo+yzf3P1FQ0UahoTfZZv7n6ij7LN/c/UVDRRqGhN9lm/ufqKPss39z9RUNFGoaE32Wb+5+oo+yzf3P1FQ0UahoTfZZv7n6ij7LN/c/UVDRRqGhN9lm/ufqKPss39z9RUNFGoaE32Wb+5+oo+yzf3P1FQ0UahoStbThSRHuIHA3DmuM0XxDqWsXT2sl7YWd95TM+l3FnLDcwEqSv33HmgcZKqARzkcV1xG5SDnkdjisa18OLFeW1xe6nfakbQH7Ot2Y8RkrtLZRFLHaSMsT1Pfmn0Yn0scKPHOteHfDOkLcvb6jc31rG8LyxupTcSMuxdjIeD029Pfja0zxpqdxoWpTXMFq93badJfQvEjLGwUlSrKWJ4IHIbkN2xVm6+GulXttHb3F9qDRQALbKHjH2dQSQqkJkgZ/iLH9afJ4Lg0zwrq9rpZnvL27spIEkuHXcRhtqDAVQNzE9O/J4GOyrPDuj7i9/wD4f9SYJ82u39foaFvea3bajpSat9ikh1XckaW8bK0EgjMgBYsQ4wrDOF6DjnFdH9lm/ufqK57S/Dxt5rW71C/vL+4t4tkK3HlhYCQA20RooJxxk5OOnU5265Zb6Dje2pYktpWlchOCxI5FN+yzf3P1FMm/1z/7x/nTKjUrQm+yzf3P1FH2Wb+5+oqGijUNCb7LN/c/UUfZZv7n6ioaKNQ0Jvss39z9RR9lm/ufqKhoo1DQm+yzf3P1FH2Wb+5+oqGijUNCb7LN/c/UUfZZv7n6ioaKNQ0Jvss39z9RR9lm/ufqKhoo1DQm+yzf3P1FH2Wb+5+oqGijUNCb7LN/c/UUfZZv7n6ioaKNQ0Jvss39z9RR9lm/ufqKhoo1DQm+yzf3P1FH2Wb+5+oqGijUNCb7LN/c/UUfZZv7n6ioaKNQ0Jvss39z9RR9lm/ufqKhoo1DQm+yzf3P1FH2Wb+5+oqGijUNCb7LN/c/UUfZZv7n6ioaKNQ0LEdtKsqEpwGBPIp1xbyvOzKuQcdx6VBD/rk/3h/On3X/AB8v+H8qWtx9A+yzf3P1FH2Wb+5+oqGinqLQm+yzf3P1FH2Wb+5+oqGijUNCb7LN/c/UUfZZv7n6ioaKNQ0Jvss39z9RR9lm/ufqKhoo1DQm+yzf3P1FH2Wb+5+oqGijUNCb7LN/c/UUfZZv7n6ioaKNQ0Jvss39z9RR9lm/ufqKhoo1DQm+yzf3P1FH2Wb+5+oqGijUNCb7LN/c/UUfZZv7n6ioaKNQ0Jvss39z9RR9lm/ufqKhoo1DQm+yzf3P1FFQ0UahoFFFFMQUUUUAFFFFABRRRQAUUUUAFFFFABRRRQAUUUUAPm/1z/7x/nTKfN/rn/3j/OmUhhRRRTEFFFFABRRRQAUUUUAFFFFABRRRQAUUUUAFFFFABRRRQAUUUUAFFFFABRRRQAUUUUAFZviSNZfC+qI5YA2kn3HKn7p7jmtKmyRpLG0cqK6OCrKwyGB6gilJXVik7O5xEFm0dv4Ss4L7UIob1Ge4xeylpP8AR87dzMSo46LjHUYPNWtVu7zR9Z16LTJLib7Foqy28U0zzfvN0vzHcSWPA5OScV1Is7YGAi3iBtxiE7B+6GMfL6cccdqlkt4RqEtwIYxO3yNKFG4qCSAT1wCTx71cpXlf1M4R5Y2fkeS+ILvXtMtdNvLW8aG3vI2L3EOsTXQuPlBBAdFVD3+TAxnsKs+DbzUZfD+lardX9/LcyajFbs811I6SxsMEFCdvGfvAZyOvWvQI/DmiRXL3EWj6ek8md8q2qBmz1ycZOatJYWcdvDbx2kCwwENFGsYCxkdCo6DHtXU8RB0VTUdb7/P+kTyPXU4LXVXU/B/ijUdUvblZ7aS5t44UvJIoogp2xqY1YKxbIPzAk7h2wK0fEYvor6a9lW5vdLggXzI9P1VrWazwrM7lAVWTI2/ebI7DrnprnQ9JvLs3V3pdlPcMhQzS26M5UjBXJGcYJGPei60LSb67S6vdLsrm4jACTTW6O6gHIwxGRg1y30SNLa3LFnKk9jBNGXZJI1ZS4wxBGefepqKKT1YLRBRRRSAKKKKACiiigAooooAKKKKACiiigAooooAKKKKACiiigAooooAKKKKACiiigB83+uf/AHj/ADplPm/1z/7x/nTKQwooopiCiiigAooooAKKKKACiiigAooooAKKKKACiiigAorivGyWf9qW013faIWjh40/XVxDKC43OjE4V8AjO1uo4GeaiS6TNd6ZJ4psbfT9IbS0+x2uoEGCGXcdy/PgbguzGQDjOO9NK6v/AF1/yE3Z/wBeR6BRXhniQahK2kQ3ouW08/aPsiz7vmi3ts3Z5PybeG5xitrw/o1u/gDxFJfWa/abAzGzMifNa/uEkBjz/qzk7srgk8111MK4UfbOWn49P8yYy5pcqPWaK8/139/rlsdcu9Lg09rCI27axaefA0uW34zIih8beuSRnHeup8LRLD4cto49QTUY1L+XcRoVRl3nAUEt8oHyg5OQBzXK42Q1K5r0UUVJQUUUUAFFFFABT5v9c/8AvH+dMp83+uf/AHj/ADpDGUUUUxBRRRQAUUUUAFFFFABRRRQAUUUUAFFFFABRRRQByK3OoweNteOl2MN0wgtmfz7kwqAFfgEIxJ/AD3q1feK2g0Ow1a2hs0tLuHzWk1G+FsIyQCqcK+5iC3A/unnpWnb6T5Gtajf+du+3RxJ5ezGzYGGc55zu9ulZA8ITQW2mCzv4PPsbFrEtc2hkR0bbkhQ6lW+XruPBxVRtfX+t/wDgCMnQ/inb6xqWn20mnNbpeyGHzfPDhJOw4XkEgjP0rav/ABlBYQ3c0sUaRR3gsbeWa4EaSy7csWYjCIpBBPJ+U4BOAcO0+FNva27qNWnMyu0lvMIgDFJu3I2M87Tg9s4ro28MqNBsbK3u3iurBxNDd7AczYO5mXPIbc2RkfeOCODXTiPYcy9jtZX9ev6/eTHm6h4e8Tw67c3VqGs3ntlR2axvBcxFWzjDhV5ypyCB265rdqlp8GpxNI2q31vc7gAi29qYVTGck5dyScjvjjpV2uV2voUr9QooopDCiiigAooooAKKKKAHzf65/wDeP86ZT5v9c/8AvH+dMpDCiiimIKKKKACiiigAooooAKKKKACiiigAooooAKKKKACiiigAooooAKKKy7nxJpdpdvbzzyZjYLLIlvI8ULHs8gUoh5BwxGAQe9G4GpRWTqPibS9KnkivpLhfJQPK6Wc0kcanoWdVKr07moz4u0MlVgvTdSNyIrSGSeTH97YiltvvjHI55qlGTV0tAujaorl5PFMUfiiFDNM9hPpvnxwx2jvIz+ZjOxVL8DqMcd66GyvbfUbKO7spBLDKMq2CPwIPIIPBB5B4NKztcV1exPRRRSGPh/1yf7w/nT7r/j5f8P5UyH/XJ/vD+dPuv+Pl/wAP5Uuo+hDRRRTEFFFFABRRRQAUUUUAFFFFABRRRQAUUUUAFFFFABRRRQAUUUUAFFFFABRRRQAUUUUAFFFFABRRRQAUUUUAFFFFABRRRQAUUUUAPm/1z/7x/nTKfN/rn/3j/OmUhhRRRTEFFFFABRRRQAUUUUAFFFFABRRRQAUUUUAFFFFABRRRQAUUUUAFFFFABRRRQAUUUUAFFFFABT5v9c/+8f50ynzf65/94/zpDGUUUUxBRRRQAUUUUAFFFFABRRRQAUUUUAFFFFABRRRQAUUUUAFFFFABRRRQAUUUUAFFFFABRRRQAUUUUAPm/wBc/wDvH+dMp83+uf8A3j/OmUhhRRRTEFFFFABRRRQAUUUUAFFFFABRRRQAUUUUAFFFFABRRRQAUUUUAFFFFABRRRQAUUUUAFFFFABT5v8AXP8A7x/nTKfN/rn/AN4/zpDGUUUUxBRRRQAUUUUAFFFFABRRRQAUUUUAFFFFABRRRQAUUUUAFFFFABRRRQAUUUUAFFFFABRRRQAUUUUAPm/1z/7x/nTKfN/rn/3j/OmUhhRRRTEFFFFABRRRQAUUUUAFFFFABRRRQAUUUUAFFFFABRRRQAUUUUAFcLJ4clt5NStrvSNU1OK6uJZke01ZoYXWRidkkZmXBGcHCsCOeuRXdUU07O4PVWOD8XaFrWrJqVnHb3txFLEi6ebe8WKCIADcJV3qzEkHkhxjGMc1k+EPC+v+GNcXU7rSpbhGtRbtDbzw+YD1z8zhdv45zjivUqK3hiJwpumtn/w36kuCbuYVra303i2PVLi0NvE+meUymRWKSeZu2nB5OO449zU3hmxuNP0d4LyPy5Dd3MgXcD8rzuynj1BBrXorC+lh21v/AFtYKKKKQx8P+uT/AHh/On3X/Hy/4fypkP8Ark/3h/On3X/Hy/4fypdR9CGiiimIKKKKACiiigAooooAKKKKACiiigAooooAKKKKACiiigAooooAKKKKACiiigAooooAKKKKACiiigAooooAKKKKACiiigAooooAfN/rn/3j/OmU+b/XP/vH+dMpDCiiimIKKKKACiiigAooooAKKKKACiiigAooooAKKKKACiiigAooooAKKKKACiiigAooooAKKKKACnzf65/94/zplPm/1z/7x/nSGMooopiCiiigAooooAKKKKACiiigAooooAKKKKACiiigAooooAKKKKACiiigAooooAKKKKACiiigAooooAfN/rn/AN4/zplPm/1z/wC8f50ykMKKKKYgooooAKKKKACiiigAooooAKKKKACiiigAooooAKKKKACiiigAooooAKKKKACiiigAooooAKfN/rn/AN4/zplPm/1z/wC8f50hjKKKKYgooooAKKKKACiiigAooooAKKKKACiiigAooooAKKKKACiiigAooooAKKKKACiiigAooooAKKKKAHzf65/94/zplPm/1z/7x/nTKQwooopiCiiigAooooAKKKKACiiigAooooAKKKKACiiigAooooAKKKKACiiigAooooAKKKKACiiigB8P+uT/AHh/On3X/Hy/4fypkP8Ark/3h/On3X/Hy/4fypdR9CGiiimIKKKKACiiigAooooAKKKKACiiigAooooAKKKKACiiigAooooAKKKKAH+a3ov/AHwP8KPNb0X/AL4H+FMopDH+a3ov/fA/wo81vRf++B/hTKKAH+a3ov8A3wP8KPNb0X/vgf4UyigB/mt6L/3wP8KPNb0X/vgf4UyigB/mt6L/AN8D/CjzW9F/74H+FMooAf5rei/98D/CjzW9F/74H+FMooAf5rei/wDfA/wo81vRf++B/hTKKAH+a3ov/fA/wo81vRf++B/hTKKAJpZGEzjC/eP8Ipnmt6L/AN8D/Cib/XP/ALx/nTKAH+a3ov8A3wP8KPNb0X/vgf4UyigB/mt6L/3wP8KPNb0X/vgf4UyigB/mt6L/AN8D/CjzW9F/74H+FMooAf5rei/98D/CjzW9F/74H+FMooAf5rei/wDfA/wo81vRf++B/hTKKAH+a3ov/fA/wo81vRf++B/hTKKAH+a3ov8A3wP8KPNb0X/vgf4UyigB/mt6L/3wP8KPNb0X/vgf4UyigB/mt6L/AN8D/CjzW9F/74H+FMooAf5rei/98D/CjzW9F/74H+FMooAf5rei/wDfA/wo81vRf++B/hTKKAH+a3ov/fA/wo81vRf++B/hTKKAH+a3ov8A3wP8KPNb0X/vgf4UyigB/mt6L/3wP8KPNb0X/vgf4UyigB/mt6L/AN8D/CnyyMJnGF+8f4RUNPm/1z/7x/nQAea3ov8A3wP8KPNb0X/vgf4UyigB/mt6L/3wP8KPNb0X/vgf4UyigB/mt6L/AN8D/CjzW9F/74H+FMooAf5rei/98D/CjzW9F/74H+FMooAf5rei/wDfA/wo81vRf++B/hTKKAH+a3ov/fA/wo81vRf++B/hTKKAH+a3ov8A3wP8KPNb0X/vgf4UyigB/mt6L/3wP8KPNb0X/vgf4UyigB/mt6L/AN8D/CjzW9F/74H+FMooAf5rei/98D/CjzW9F/74H+FMooAf5rei/wDfA/wo81vRf++B/hTKKAH+a3ov/fA/wo81vRf++B/hTKKAH+a3ov8A3wP8KPNb0X/vgf4UyigB/mt6L/3wP8KPNb0X/vgf4UyigB/mt6L/AN8D/CjzW9F/74H+FMooAmlkYTOML94/wimea3ov/fA/wom/1z/7x/nTKAH+a3ov/fA/wo81vRf++B/hTKKAH+a3ov8A3wP8KPNb0X/vgf4UyigB/mt6L/3wP8KPNb0X/vgf4UyigB/mt6L/AN8D/CjzW9F/74H+FMooAf5rei/98D/CjzW9F/74H+FMooAf5rei/wDfA/wo81vRf++B/hTKKAH+a3ov/fA/wo81vRf++B/hTKKAH+a3ov8A3wP8KPNb0X/vgf4UyigB/mt6L/3wP8KPNb0X/vgf4UyigB/mt6L/AN8D/CjzW9F/74H+FMooAf5rei/98D/CjzW9F/74H+FMooAf5rei/wDfA/wo81vRf++B/hTKKAH+a3ov/fA/wo81vRf++B/hTKKAH+a3ov8A3wP8KPNb0X/vgf4UyigB/mt6L/3wP8KfLIwmcYX7x/hFQ0+b/XP/ALx/nQAea3ov/fA/wo81vRf++B/hTKKAH+a3ov8A3wP8KPNb0X/vgf4UyigB/mt6L/3wP8KPNb0X/vgf4UyigB/mt6L/AN8D/CjzW9F/74H+FMooAf5rei/98D/CjzW9F/74H+FMooAf5rei/wDfA/wo81vRf++B/hTKKAH+a3ov/fA/wo81vRf++B/hTKKAH+a3ov8A3wP8KPNb0X/vgf4UyigB/mt6L/3wP8KPNb0X/vgf4UyigB/mt6L/AN8D/CjzW9F/74H+FMooAf5rei/98D/CjzW9F/74H+FMooAf5rei/wDfA/wo81vRf++B/hTKKAH+a3ov/fA/wo81vRf++B/hTKKAH+a3ov8A3wP8KPNb0X/vgf4UyigB/mt6L/3wP8KPNb0X/vgf4UyigCaWRhM4wv3j/CKZ5rei/wDfA/wom/1z/wC8f50ygB/mt6L/AN8D/CjzW9F/74H+FMooAf5rei/98D/CjzW9F/74H+FMooAf5rei/wDfA/wo81vRf++B/hTKKAH+a3ov/fA/wo81vRf++B/hTKKAH+a3ov8A3wP8KPNb0X/vgf4UyigB/mt6L/3wP8KPNb0X/vgf4UyigB/mt6L/AN8D/CjzW9F/74H+FMooAf5rei/98D/CjzW9F/74H+FMooAf5rei/wDfA/wo81vRf++B/hTKKAH+a3ov/fA/wo81vRf++B/hTKKAH+a3ov8A3wP8KPNb0X/vgf4UyigB/mt6L/3wP8KPNb0X/vgf4UyigB/mt6L/AN8D/CjzW9F/74H+FMooAf5rei/98D/CjzW9F/74H+FMooAmikYzIML94fwinXMhFwwAXt1UHtUUP+uT/eH86fdf8fL/AIfypdR9Bnmt6L/3wP8ACjzW9F/74H+FMopiH+a3ov8A3wP8KPNb0X/vgf4UyigB/mt6L/3wP8KPNb0X/vgf4UyigB/mt6L/AN8D/CjzW9F/74H+FMooAf5rei/98D/CjzW9F/74H+FMooAf5rei/wDfA/wo81vRf++B/hTKKAH+a3ov/fA/wo81vRf++B/hTKKAH+a3ov8A3wP8KPNb0X/vgf4UyigB/mt6L/3wP8KPNb0X/vgf4UyigB/mt6L/AN8D/CjzW9F/74H+FMooAf5rei/98D/CimUUAFFFFMQUUUUAFFFFABRRRQAUUUUAFFFFABRRRQAUUUUAPm/1z/7x/nTKfN/rn/3j/OmUhhRRRTEFFFFABRRRQAUUUUAFFFFABRRRQAUUUUAFFFFABRRRQAUUUUAFFFFABRRRQAUUUUAFFFFABT5v9c/+8f50ynzf65/94/zpDGUUUUxBRRRQAUUUUAFFFFABRRRQAUUUUAFFFFABRRRQAUUUUAFFFFABRRRQAUUUUAFFFFABRRRQAUUUUAPm/wBc/wDvH+dMp83+uf8A3j/OmUhhRRRTEFFFFABRRRQAUUUUAFFFFABRRRQAUUUUAFFFFABRRRQAUUUUAFFFFABRRRQAUUUUAFFFFABT5v8AXP8A7x/nTKfN/rn/AN4/zpDGUUUUxBRRRQAUUUUAFFFFABRRRQAUUUUAFFFFABRRRQAUUUUAFFFFABRRRQAUUUUAFFFFABRRRQAUUUUAPm/1z/7x/nTKfN/rn/3j/OmUhhRRRTEFFFFABRRRQAUUUUAFFFFABRRRQAUUUUAFFFFABRRRQAUUUUAFFFFABRRRQAUUUUAFFFFAD4f9cn+8P50+6/4+X/D+VMh/1yf7w/nT7r/j5f8AD+VLqPoQ0UUUxBRRRQAUUUUAFFFFABRRRQAUUUUAFFFFABRRRQAUUUUAFFFFABRRRQAUUUUAFFFFABRRRQAUUUUAFFFFABRRRQAUUUUAFFFFAD5v9c/+8f50ynzf65/94/zplIYUUUUxBRRRQAUUUUAFFFFABRRRQAUUUUAFFFFABRRRQAUUUUAFFFFABRRRQAUUUUAFFFFABRRRQAU+b/XP/vH+dMp83+uf/eP86QxlFFFMQUUUUAFFFFABRRRQAUUUUAFFFFABRRRQAUUUUAFFFFABRRRQAUUUUAFFFFABRRRQAUUUUAFFFFAD5v8AXP8A7x/nTKfN/rn/AN4/zplIYUUUUxBRRRQAUUUUAFFFFABRRRQAUUUUAFFFFABRRRQAUUUUAFFFFABRRRQAUUUUAFFFFABRRRQAU+b/AFz/AO8f50ynzf65/wDeP86QxlFFFMQUUUUAFFFFABRRRQAUUUUAFFFFABRRRQAUUUUAFFFFABRRRQAUUUUAFFFFABRRRQAUUUUAFFFFAD5v9c/+8f50ynzf65/94/zplIYUUUUxBRRRQAUUUUAFFFFABRRRQAUUUUAFFFFABRRRQAUUUUAFFFFABRRRQAUUUUAFFFFABRRRQA+H/XJ/vD+dPuv+Pl/w/lTIf9cn+8P50+6/4+X/AA/lS6j6ENFFFMQUUUUAFFFFABRRRQAUUUUAFFFFABRRRQAUUUUAFFFFABRRRQAUUUUAFFPxH/fb/vkf40Yj/vt/3yP8aQxlFPxH/fb/AL5H+NGI/wC+3/fI/wAaAGUU/Ef99v8Avkf40Yj/AL7f98j/ABoAZRT8R/32/wC+R/jRiP8Avt/3yP8AGgBlFPxH/fb/AL5H+NGI/wC+3/fI/wAaAGUU/Ef99v8Avkf40Yj/AL7f98j/ABoAZRUWoXcOn6bc3j+a6wRNIVSIsTgZxgZNc3ofiWyh0O0vtb1a+eW/ZVRJ7AxqJSm/ZEAiswPQE7s4ABJPLWtxPQ6misa/8Y+H9Mihe/vLiAzIXWNrKXzFUHGWTbuQZ6FgM44qeXxLocUNtKL8zLdhjb/ZojMZdoyQoTJJx2HP5U+WVr20DQ1Zv9c/+8f50ysh/GOgNvl+13ARZGWUmyl/0cg4Il+X91/wPbxz0raxEejt/wB8j/GlqkMZRT8R/wB9v++R/jRiP++3/fI/xpAMop+I/wC+3/fI/wAaMR/32/75H+NADKKfiP8Avt/3yP8AGjEf99v++R/jQAyin4j/AL7f98j/ABoxH/fb/vkf40AMop+I/wC+3/fI/wAaMR/32/75H+NADKKfiP8Avt/3yP8AGjEf99v++R/jQAyin4j/AL7f98j/ABoxH/fb/vkf40AMop+I/wC+3/fI/wAaMR/32/75H+NADKKfiP8Avt/3yP8AGjEf99v++R/jQAyin4j/AL7f98j/ABoxH/fb/vkf40AMop+I/wC+3/fI/wAaMR/32/75H+NADKKfiP8Avt/3yP8AGjEf99v++R/jQAyin4j/AL7f98j/ABoxH/fb/vkf40AMop+I/wC+3/fI/wAaMR/32/75H+NADKfN/rn/AN4/zoxH/fb/AL5H+NPlEfnPlmzuP8P/ANegCGin4j/vt/3yP8aMR/32/wC+R/jQAyin4j/vt/3yP8aMR/32/wC+R/jQBmaHqn9s6RHfeT5O95F2bt2NrleuB125rQry+wXRD4btl05reTxR9tJgERVrlP8ASGJzzuWPZuyOFwT61xkmr6jbXOtQ3F1Otzceb5sLsd0imLDHb34B+mPauyhhvbQlLmtZdSObVJ9T3v7fbf2l/Z/mf6V5Pn+XtP3M7c56de1WK4T7JoMfi3SbnXorFUm0eNYZbyKPDzK64ClurAEe9d9iP++3/fI/xrlat+P5hF3/AA/IZRT8R/32/wC+R/jRiP8Avt/3yP8AGpLGUU/Ef99v++R/jRiP++3/AHyP8aAGUU/Ef99v++R/jRiP++3/AHyP8aAGUU/Ef99v++R/jRiP++3/AHyP8aAGUU/Ef99v++R/jRiP++3/AHyP8aAGUU/Ef99v++R/jRiP++3/AHyP8aAGUU/Ef99v++R/jRiP++3/AHyP8aAGUU/Ef99v++R/jRiP++3/AHyP8aAGUU/Ef99v++R/jRiP++3/AHyP8aAGUU/Ef99v++R/jRiP++3/AHyP8aAGUU/Ef99v++R/jRiP++3/AHyP8aACb/XP/vH+dMqaUR+c+WbO4/w//XpmI/77f98j/GgBlFPxH/fb/vkf40Yj/vt/3yP8aAGUU/Ef99v++R/jRiP++3/fI/xoAZRT8R/32/75H+NGI/77f98j/GgBlFPxH/fb/vkf40Yj/vt/3yP8aAGUU/Ef99v++R/jRiP++3/fI/xoAZRT8R/32/75H+NGI/77f98j/GgBlFPxH/fb/vkf40Yj/vt/3yP8aAGUU/Ef99v++R/jRiP++3/fI/xoAZRT8R/32/75H+NGI/77f98j/GgBlFPxH/fb/vkf40Yj/vt/3yP8aAGUU/Ef99v++R/jRiP++3/fI/xoAZRT8R/32/75H+NGI/77f98j/GgBlFPxH/fb/vkf40Yj/vt/3yP8aAGUU/Ef99v++R/jRiP++3/fI/xoAZT5v9c/+8f50Yj/AL7f98j/ABp8oj858s2dx/h/+vQBDRT8R/32/wC+R/jRiP8Avt/3yP8AGgBlFPxH/fb/AL5H+NGI/wC+3/fI/wAaAGUU/Ef99v8Avkf40Yj/AL7f98j/ABoAZRT8R/32/wC+R/jRiP8Avt/3yP8AGgBlFPxH/fb/AL5H+NGI/wC+3/fI/wAaAGUU/Ef99v8Avkf40Yj/AL7f98j/ABoAZRT8R/32/wC+R/jRiP8Avt/3yP8AGgBlFPxH/fb/AL5H+NGI/wC+3/fI/wAaAGUU/Ef99v8Avkf40Yj/AL7f98j/ABoAZRT8R/32/wC+R/jRiP8Avt/3yP8AGgBlFPxH/fb/AL5H+NGI/wC+3/fI/wAaAGUU/Ef99v8Avkf40Yj/AL7f98j/ABoAZRT8R/32/wC+R/jRiP8Avt/3yP8AGgBlFPxH/fb/AL5H+NGI/wC+3/fI/wAaAGUU/Ef99v8Avkf40Yj/AL7f98j/ABoAJv8AXP8A7x/nTKmlEfnPlmzuP8P/ANemYj/vt/3yP8aAGUU/Ef8Afb/vkf40Yj/vt/3yP8aAGUU/Ef8Afb/vkf40Yj/vt/3yP8aAGUU/Ef8Afb/vkf40Yj/vt/3yP8aAGUU/Ef8Afb/vkf40Yj/vt/3yP8aAGUU/Ef8Afb/vkf40Yj/vt/3yP8aAGUU/Ef8Afb/vkf40Yj/vt/3yP8aAGUU/Ef8Afb/vkf40Yj/vt/3yP8aAGUU/Ef8Afb/vkf40Yj/vt/3yP8aAGUU/Ef8Afb/vkf40Yj/vt/3yP8aAGUU/Ef8Afb/vkf40Yj/vt/3yP8aAGUU/Ef8Afb/vkf40Yj/vt/3yP8aAGUU/Ef8Afb/vkf40Yj/vt/3yP8aAGUU/Ef8Afb/vkf40Yj/vt/3yP8aAGUU/Ef8Afb/vkf40Yj/vt/3yP8aACH/XJ/vD+dPuv+Pl/wAP5URCPzkwzZ3D+H/69OuQn2htzMDx0XPb60uo+hXop+I/77f98j/GjEf99v8Avkf40xDKKfiP++3/AHyP8aMR/wB9v++R/jQAyin4j/vt/wB8j/GjEf8Afb/vkf40AMoqpaajHdarqFnsZPsbRjf137l3dO2Oner2I/77f98j/GmAyin4j/vt/wB8j/GjEf8Afb/vkf40gGUU/Ef99v8Avkf40Yj/AL7f98j/ABoAZRT8R/32/wC+R/jRiP8Avt/3yP8AGgBlFPxH/fb/AL5H+NGI/wC+3/fI/wAaAGUU/Ef99v8Avkf40Yj/AL7f98j/ABoAZRT8R/32/wC+R/jRiP8Avt/3yP8AGgBlFPxH/fb/AL5H+NFADKKKKYgooooAKKKKACiiigAooooAKKKKAK2pRPcaVdwxLukkhdVGcZJUgVgLo98LTwinkfNpzobob1/dgW7oe/PzEDjNdRRTTt/Xb/hwav8Aj+J5v468La1eeIW1HSrM30M8KKyJIitGy567iMg54xnvxVjwR4S1bQ/7LN/Go8trh5VVwRHvVQO/OSD09K9AorpeKqOiqL2X/Dk8q5uY5rUNGvZdG8W2y2+6XUJpzbIXX94GiVR3wOQeuK6KBSlvGrDBVACPwqab/XP/ALx/nTK5b6W9PwKtr9/4hRRRQAUUUUAFFFFABRRRQAUUUUAFFFFABRRRQAUUUUAFFFFABRRRQAUUUUAFFFFABRRRQAUUUUAFPm/1z/7x/nTKfN/rn/3j/OkMZRRRTEFFFFABRRRQAUUUUAFFFFABRRRQAUUUUAFFFFABRRRQAUUUUAFFFFABRRRQAUUUUAFFFFABRRRQA+b/AFz/AO8f50ynzf65/wDeP86ZSGFFFFMQUUUUAFFFFABRRRQAUUUUAFFFFABRRRQAUUUUAFFFFABRRRQAUUUUAFFFFABRRRQAUUUUAFPm/wBc/wDvH+dMp83+uf8A3j/OkMZRRRTEFFFFABRRRQAUUUUAFFFFABRRRQAUUUUAFFFFABRRRQAUUUUAFFFFABRRRQAUUUUAFFFFABRRRQA+b/XP/vH+dMp83+uf/eP86ZSGFFFFMQUUUUAFFFFABRRRQAUUUUAFFFFABRRRQAUUUUAFFFFABRRRQAUUUUAFFFFABRRRQAUUUUAPh/1yf7w/nT7r/j5f8P5UyH/XJ/vD+dPuv+Pl/wAP5Uuo+hDRRRTEFFFFABXN+LjCJdJ/tR1XR/tJ+3eYcREbG2CTts3468ZxmukooA8p1+WytfDvif8A4Ry1tjp8k9qrC2jCw7Cgy/yjBXOMkcHmqHwytU1HUNZ0mR4pNOu7DEi26bI9xbbkckbsE8j0HpXspAIwRkGmpGka7Y1VB6KMV1RrpUXTcd+vyI5XdM4/w7Jda7rELaojb9ARraQsuBJdHKmQccjywCP+utdlVTTNNi0q0aCF5JN8ryvJKQWdmYsSSAPX8gKt1zN3KSsFFFFIYUUUUAFFFFABRRRQAUUUUAFFFFABRRRQAUUUUAFFFFABRRRQAUUUUAFFFFABRRRQAUUVwuqP4cX4g6j/AMJTJp4i/s63MUd+67WO+XJCtwWHqBkZ96a1B7HW32q+R4ntdL8nd9qjml83djZsK8Yxznf69qu15Pr0up21joLRC6jlFnd4DbhKsPmR7A3cHbtBzz61geA5R/wkNhNAbWJ2vEEixREzAMHyryA9D3DDBIHeuuOFcqHtb+VvnYhzs/67Hu9FcL9kkOr/APCHGNzY/avt5Yg7Ta53+XnH/Pb5cf3a7quS2ly762CiiikAUUUUAFFFFABRRRQAUUUUAFFFFABRRRQAUUUUAFFFFABRRRQAUUUUAFFFFABRRRQAU+b/AFz/AO8f50ynzf65/wDeP86QxlFFFMQUUUUAFFFFABRRRQAUUUUAFFFFABRRRQAUUUUAFFFFABRRRQAUUUUAFFFFABRRRQAUUUUAFFFFAD5v9c/+8f50ynzf65/94/zplIYUUUUxBRRRQAUUUUAFFFFABRRRQAUUUUAFFFFABRRRQAUUUUAFFFFABRRRQAUUUUAFFFFABRRRQAU+b/XP/vH+dMp83+uf/eP86QxlFFFMQUUUUAFFFFABRRRQAUUUUAFFFFABRRRQAUUUUAFFFFABRRRQAUUUUAFFFFABRRRQAUUUUAc9rTBfGXh1mOAPtRJ/7Ziqx8ZyQ6ZDrN5poi0W4YCKdLjdNhjhGaPaAA3HRiRuGR1xs32ki91jT75pdoshKDHsz5m9dvXPGPxrGbwZLPpcWi3epiTRoGBhgS32zYU5RWk3EEKcdFBO0ZPXNw5eZc236X1/DYnXW39aGTD8V47y+nkTSGWwiLs8xuP3m1fvER7cHHJ+8OAcdgdD+2IdN8Y64yo1zczxWq21rF9+dtr8D0HcseAOTWdb/CdLO9mj/tgvYyF1kh+zYk2tkMofdgZyR908E4xwRvXngyzvtWvNRkcJcypELaeOMCW0aPOGV+euRkdCBg5BrfEewuvY7W19etv0Eubqb9u0zW8bXUaRTFRvSNy6qfQMQM/XAqSobRLiO0jS9mjnnUYeWOIxqx9QuTj8zU1cr3LWwUUUUAFFFFABRRRQAUUUUAFFFFABRRRQAUUUUAFFFFABRRRQAUUUUAFFFFABRRRQAUUUUAPh/wBcn+8P50+6/wCPl/w/lTIf9cn+8P50+6/4+X/D+VLqPoQ0UUUxBRRRQAUUUUAFFFFABRRRQAUUUUAFFFFABRRRQAUUUUAFFFFABRRRQAUUUUAFFFFABRRRQAUUUUAFFFFABRRRQAUUUUAFU4tLhi1u41RWkM9xDHC6kjaFQsRgYzn5z39KuUUAPm/1z/7x/nTKfN/rn/3j/OmUhlO302K31S7vw8jz3QRW3kEIqg4VeOBkk9+SauUUUxBRRRQAUUUUAFFFFABRRRQAUUUUAFFFFABRRRQAUUUUAFFFFABRRRQAUUUUAFFFFABRRRQAU+b/AFz/AO8f50ynzf65/wDeP86QxlFFFMQUUUUAFFFFABRRRQAUUUUAFFFFABRRRQAUUUUAFFFFABRRRQAUUUUAFFFFABRRRQAUUUUAFFFFAD5v9c/+8f50ynzf65/94/zplIYUUUUxBRRRQAUUUUABGRg9K82jhuo7cNCZMeEJmwgz+9Uvkj3xb9Pd69JooTs7g1dWPPrn7KPDGktqlvYlNTupb1rrVk3W9sZAzrvQkBjtbaASBnnORg8hr91cw+G57OxuI205daAVrKJoYQNsLr5a7jtUszMMEg9RxivcKRlV1KuoYHqCM10UasaU+Zq67Eyi5K39df8AM8l8Hq0Gn69DHGIYH0yRwqLtVyMjdgcE8kZ69u1dHY6bZ6bJ4PubC2jguLoCK4mRcPOptXbDt1YblU856Cu4ACqAoAA6AUUq1ZVKkppWv/wf8xcv9fd/keVzTWTaha31muj2Gof2xGHtYbctfoGn2OZJQ+QGDHIKbcMFBPBr1Siisr+6kVbW4UUUVIwooooAKKKKACiiigAooooAKKKKACiiigAp83+uf/eP86ZT5v8AXP8A7x/nSGMooopiCiiigAooooAKKKKACiiigAooooAKKKKACiiigAooooAKKKKACiiigAooooAKKKKACiiigAooooAfN/rn/wB4/wA6ZT5v9c/+8f50ykMKKKKYgooooAKKKKACiiigAooooAKKKKACiiigAooooAKKKKACiiigAooooAKKKKACiiigAooooAfD/rk/3h/On3X/AB8v+H8qZD/rk/3h/On3X/Hy/wCH8qXUfQhooopiCiiigAooooAKKKKACiiigAooooAKKKKACiiigAooooAKKKKACiiigB/kyf8APNv++TR5Mn/PNv8Avk0yikMf5Mn/ADzb/vk0eTJ/zzb/AL5NMooAf5Mn/PNv++TR5Mn/ADzb/vk0yigB/kyf882/75NHkyf882/75NMooAf5Mn/PNv8Avk0eTJ/zzb/vk0yigB/kyf8APNv++TR5Mn/PNv8Avk0yigB/kyf882/75NHkyf8APNv++TTKKAH+TJ/zzb/vk0eTJ/zzb/vk0yigCaWKQzOQjEbj2pnkyf8APNv++TRN/rn/AN4/zplAD/Jk/wCebf8AfJo8mT/nm3/fJplFAD/Jk/55t/3yaPJk/wCebf8AfJplFAD/ACZP+ebf98mjyZP+ebf98mmUUAP8mT/nm3/fJo8mT/nm3/fJplFAD/Jk/wCebf8AfJo8mT/nm3/fJplFAD/Jk/55t/3yaPJk/wCebf8AfJplFAD/ACZP+ebf98mjyZP+ebf98mmUUAP8mT/nm3/fJo8mT/nm3/fJplFAD/Jk/wCebf8AfJo8mT/nm3/fJplFAD/Jk/55t/3yaPJk/wCebf8AfJplFAD/ACZP+ebf98mjyZP+ebf98mmUUAP8mT/nm3/fJo8mT/nm3/fJplFAD/Jk/wCebf8AfJo8mT/nm3/fJplFAD/Jk/55t/3yaPJk/wCebf8AfJplFAD/ACZP+ebf98mnyxSGZyEYjce1Q0+b/XP/ALx/nQAeTJ/zzb/vk0eTJ/zzb/vk0yigB/kyf882/wC+TR5Mn/PNv++TTKKAH+TJ/wA82/75NHkyf882/wC+TTKKAH+TJ/zzb/vk0eTJ/wA82/75NMooAf5Mn/PNv++TR5Mn/PNv++TTKKAH+TJ/zzb/AL5NHkyf882/75NMooAf5Mn/ADzb/vk0eTJ/zzb/AL5NMooAf5Mn/PNv++TR5Mn/ADzb/vk0yigB/kyf882/75NHkyf882/75NMooAf5Mn/PNv8Avk0eTJ/zzb/vk0yigB/kyf8APNv++TVXVJrjT9Ju7yG0a4e3heVYs7d+0ZxnBx0qekYBlIIyCMEGh3sCtfUwx4pgOtw2P2eTyJbP7ULrPyg43CPHrsBb6CsnXfHlzoei6ZqM+lW6pqEAlVLi/wDKIJGdq/Id2ARk8dRXIvx8F5LpSRPHqHlpIDgqocQAf9+vl+nvU3xHRY/EsrooDR2ECp/sjdNwPToPyrsw1KNWtGMtn/lf9V9xk20n/XW3+Z1mm+PRrkemjRdNaa4vvMUxzTeWIiqbuSA2QfUDPtS6x4i1hdDkeytIrbULXVYLK5QzFo/mdOFYx8hlkUZ2gjJ7gZ4v4aKDcaBIR87SXAJ9f3I/xNdFqn/Hl4hbuviC0I9ji2or0406/JHbT81/mEZNwv8A1szvbRL57VGv7VIZznckMjSKOeMMVUnj2FTeTJ/zzb/vk0yiuQ1H+TJ/zzb/AL5NHkyf882/75NMopATSxSGZyEYjce1M8mT/nm3/fJom/1z/wC8f50ygB/kyf8APNv++TR5Mn/PNv8Avk0yigB/kyf882/75NHkyf8APNv++TTKKAH+TJ/zzb/vk0eTJ/zzb/vk0yigB/kyf882/wC+TR5Mn/PNv++TTKKAH+TJ/wA82/75NHkyf882/wC+TTKKAH+TJ/zzb/vk0eTJ/wA82/75NMooAf5Mn/PNv++TR5Mn/PNv++TTKKAH+TJ/zzb/AL5NHkyf882/75NMooAf5Mn/ADzb/vk0eTJ/zzb/AL5NMooAf5Mn/PNv++TR5Mn/ADzb/vk0yigB/kyf882/75NHkyf882/75NMooAf5Mn/PNv8Avk0eTJ/zzb/vk0yigB/kyf8APNv++TR5Mn/PNv8Avk0yigB/kyf882/75NHkyf8APNv++TTKKAH+TJ/zzb/vk0+WKQzOQjEbj2qGnzf65/8AeP8AOgA8mT/nm3/fJo8mT/nm3/fJplFAD/Jk/wCebf8AfJo8mT/nm3/fJplFAD/Jk/55t/3yaPJk/wCebf8AfJplFAD/ACZP+ebf98mjyZP+ebf98mmUUAP8mT/nm3/fJo8mT/nm3/fJplFAD/Jk/wCebf8AfJo8mT/nm3/fJplFAD/Jk/55t/3yaPJk/wCebf8AfJplFAD/ACZP+ebf98mjyZP+ebf98mmUUAP8mT/nm3/fJo8mT/nm3/fJplFAD/Jk/wCebf8AfJo8mT/nm3/fJplFAD/Jk/55t/3yaPJk/wCebf8AfJplFAD/ACZP+ebf98mjyZP+ebf98mmUUAP8mT/nm3/fJo8mT/nm3/fJplFAD/Jk/wCebf8AfJo8mT/nm3/fJplFAD/Jk/55t/3yaPJk/wCebf8AfJplFAE0sUhmchGI3HtTPJk/55t/3yaJv9c/+8f50ygB/kyf882/75NHkyf882/75NMooAf5Mn/PNv8Avk0eTJ/zzb/vk0yigB/kyf8APNv++TR5Mn/PNv8Avk0yigB/kyf882/75NHkyf8APNv++TTKKAH+TJ/zzb/vk0eTJ/zzb/vk0yigB/kyf882/wC+TR5Mn/PNv++TTKKAH+TJ/wA82/75NHkyf882/wC+TTKKAH+TJ/zzb/vk0eTJ/wA82/75NMooAf5Mn/PNv++TR5Mn/PNv++TTKKAH+TJ/zzb/AL5NHkyf882/75NMooAf5Mn/ADzb/vk0eTJ/zzb/AL5NMooAf5Mn/PNv++TR5Mn/ADzb/vk0yigB/kyf882/75NHkyf882/75NMooAf5Mn/PNv8Avk0eTJ/zzb/vk0yigCaKKQTISjAbh2p1zG7XDFUYjjkD2qKH/XJ/vD+dPuv+Pl/w/lS6j6DPJk/55t/3yaPJk/55t/3yaZRTEP8AJk/55t/3yaPJk/55t/3yaZRQA/yZP+ebf98mjyZP+ebf98mmUUAP8mT/AJ5t/wB8mjyZP+ebf98mmUUAP8mT/nm3/fJo8mT/AJ5t/wB8mmUUAP8AJk/55t/3yaPJk/55t/3yaZRQA/yZP+ebf98mjyZP+ebf98mmUUAP8mT/AJ5t/wB8mjyZP+ebf98mmUUAP8mT/nm3/fJo8mT/AJ5t/wB8mmUUAP8AJk/55t/3yaPJk/55t/3yaZRQA/yZP+ebf98mimUUAf/Z)\n"
      ],
      "metadata": {
        "id": "VL7IZ3902rJu"
      }
    }
  ]
}
