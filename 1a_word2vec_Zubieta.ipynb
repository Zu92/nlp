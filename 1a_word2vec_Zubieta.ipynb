{
  "cells": [
    {
      "cell_type": "markdown",
      "metadata": {
        "id": "view-in-github",
        "colab_type": "text"
      },
      "source": [
        "<a href=\"https://colab.research.google.com/github/Zu92/nlp/blob/main/1a_word2vec_Zubieta.ipynb\" target=\"_parent\"><img src=\"https://colab.research.google.com/assets/colab-badge.svg\" alt=\"Open In Colab\"/></a>"
      ]
    },
    {
      "cell_type": "markdown",
      "metadata": {
        "id": "Ue5hxxkdAQJg"
      },
      "source": [
        "<img src=\"https://github.com/FIUBA-Posgrado-Inteligencia-Artificial/procesamiento_lenguaje_natural/raw/main/logoFIUBA.jpg\" width=\"500\" align=\"center\">\n",
        "\n",
        "\n",
        "# Procesamiento de lenguaje natural\n",
        "## Vectorización\n"
      ]
    },
    {
      "cell_type": "code",
      "execution_count": null,
      "metadata": {
        "id": "kCED1hh-Ioyf"
      },
      "outputs": [],
      "source": [
        "import numpy as np"
      ]
    },
    {
      "cell_type": "code",
      "execution_count": null,
      "metadata": {
        "id": "PUbfVnzIIoMj"
      },
      "outputs": [],
      "source": [
        "def cosine_similarity(a, b):\n",
        "    return np.dot(a, b) / (np.linalg.norm(a) * (np.linalg.norm(b)))"
      ]
    },
    {
      "cell_type": "markdown",
      "metadata": {
        "id": "DMOa4JPSCJ29"
      },
      "source": [
        "### Datos"
      ]
    },
    {
      "cell_type": "code",
      "execution_count": null,
      "metadata": {
        "id": "RIO7b8GjAC17"
      },
      "outputs": [],
      "source": [
        "corpus = np.array(['que dia es hoy', 'martes el dia de hoy es martes', 'martes muchas gracias'])"
      ]
    },
    {
      "cell_type": "markdown",
      "metadata": {
        "id": "8WqdaTmO8P1r"
      },
      "source": [
        "Documento 1 --> que dia es hoy \\\n",
        "Documento 2 --> martes el dia de hoy es martes \\\n",
        "Documento 3 --> martes muchas gracias"
      ]
    },
    {
      "cell_type": "markdown",
      "metadata": {
        "id": "FVHxBRNzCMOS"
      },
      "source": [
        "### 1 - Obtener el vocabulario del corpus (los términos utilizados)\n",
        "- Cada documento transformarlo en una lista de términos\n",
        "- Armar un vector de términos no repetidos de todos los documentos"
      ]
    },
    {
      "cell_type": "code",
      "execution_count": null,
      "metadata": {
        "id": "3ZqTOZzDI7uv"
      },
      "outputs": [],
      "source": [
        "def vocabulario(corpus):\n",
        "\n",
        "  terminos = set()\n",
        "  vocabulario = []\n",
        "\n",
        "  for texto in corpus:\n",
        "\n",
        "    palabras = texto.split()\n",
        "    for palabra in palabras:\n",
        "      if palabra not in terminos:\n",
        "        terminos.add(palabra) # Agregar la palabra al conjunto\n",
        "        vocabulario.append(palabra) # Agregar la palabra al vocabulario\n",
        "\n",
        "  return vocabulario"
      ]
    },
    {
      "cell_type": "code",
      "source": [
        "vocabulario(corpus)"
      ],
      "metadata": {
        "colab": {
          "base_uri": "https://localhost:8080/"
        },
        "id": "L9XBdKA2aTUm",
        "outputId": "7d8aa8c2-59eb-49c0-d013-76aa93a8a619"
      },
      "execution_count": null,
      "outputs": [
        {
          "output_type": "execute_result",
          "data": {
            "text/plain": [
              "['que', 'dia', 'es', 'hoy', 'martes', 'el', 'de', 'muchas', 'gracias']"
            ]
          },
          "metadata": {},
          "execution_count": 36
        }
      ]
    },
    {
      "cell_type": "markdown",
      "metadata": {
        "id": "RUhH983FI7It"
      },
      "source": [
        "### 2- OneHot encoding\n",
        "Data una lista de textos, devolver una matriz con la representación oneHotEncoding de estos"
      ]
    },
    {
      "cell_type": "code",
      "execution_count": null,
      "metadata": {
        "id": "Os0AAQo6I6Z1"
      },
      "outputs": [],
      "source": [
        "\n",
        "\n",
        "def one_hot_encoding(corpus):\n",
        "  voc = vocabulario(corpus)\n",
        "\n",
        "  OneHot = np.zeros((len(corpus), len(voc)))\n",
        "\n",
        "  for i, texto in enumerate(corpus):\n",
        "    for j, palabra in enumerate(voc):\n",
        "      if palabra in texto:\n",
        "       \n",
        "        OneHot[i, j] = 1\n",
        "\n",
        "  return OneHot"
      ]
    },
    {
      "cell_type": "code",
      "source": [
        "one_hot_encoding(corpus)"
      ],
      "metadata": {
        "colab": {
          "base_uri": "https://localhost:8080/"
        },
        "id": "w4AOPVymaPEH",
        "outputId": "cf0c225a-8711-4f02-9c23-db30417353d3"
      },
      "execution_count": null,
      "outputs": [
        {
          "output_type": "execute_result",
          "data": {
            "text/plain": [
              "array([[1., 1., 1., 1., 0., 0., 0., 0., 0.],\n",
              "       [0., 1., 1., 1., 1., 1., 1., 0., 0.],\n",
              "       [0., 0., 1., 0., 1., 0., 0., 1., 1.]])"
            ]
          },
          "metadata": {},
          "execution_count": 40
        }
      ]
    },
    {
      "cell_type": "markdown",
      "metadata": {
        "id": "IIyWGmCpJVQL"
      },
      "source": [
        "### 3- Vectores de frecuencia\n",
        "Data una lista de textos, devolver una matriz con la representación de frecuencia de estos"
      ]
    },
    {
      "cell_type": "code",
      "execution_count": null,
      "metadata": {
        "id": "yqij_7eHJbUi"
      },
      "outputs": [],
      "source": [
        "\n",
        "def count_vectorizer(corpus):\n",
        "  voc = vocabulario(corpus)\n",
        "\n",
        " \n",
        "  CountVectorizer = np.zeros((len(corpus), len(voc)))\n",
        "\n",
        "  for i, texto in enumerate(corpus):\n",
        "    for j, palabra in enumerate(voc):\n",
        "     \n",
        "      CountVectorizer[i, j] = texto.split().count(palabra)\n",
        "\n",
        "  return CountVectorizer"
      ]
    },
    {
      "cell_type": "code",
      "source": [
        "count_vectorizer(corpus)"
      ],
      "metadata": {
        "colab": {
          "base_uri": "https://localhost:8080/"
        },
        "id": "aETZMzYaaDWE",
        "outputId": "b1fdc929-f963-49a8-8400-7ca43c3d10db"
      },
      "execution_count": null,
      "outputs": [
        {
          "output_type": "execute_result",
          "data": {
            "text/plain": [
              "array([[1., 1., 1., 1., 0., 0., 0., 0., 0.],\n",
              "       [0., 1., 1., 1., 2., 1., 1., 0., 0.],\n",
              "       [0., 0., 0., 0., 1., 0., 0., 1., 1.]])"
            ]
          },
          "metadata": {},
          "execution_count": 43
        }
      ]
    },
    {
      "cell_type": "markdown",
      "metadata": {
        "id": "z_Ot8HvWJcBu"
      },
      "source": [
        "### 4- TF-IDF\n",
        "Data una lista de textos, devolver una matriz con la representacion TFIDF"
      ]
    },
    {
      "cell_type": "code",
      "execution_count": null,
      "metadata": {
        "id": "waG_oWtpJjRw"
      },
      "outputs": [],
      "source": [
        "\n",
        "def TF_IDF(corpus):\n",
        "  \n",
        "  onehot = one_hot_encoding(corpus)\n",
        "  vectorfrec = count_vectorizer(corpus)\n",
        "\n",
        "  n = len(corpus)\n",
        "  df = np.sum(onehot, axis=0)\n",
        "  IDF = np.log10(n / df)\n",
        "  TF_IDF = vectorfrec * IDF\n",
        "\n",
        "  return(TF_IDF)\n",
        "     "
      ]
    },
    {
      "cell_type": "code",
      "source": [
        "TF_IDF(corpus)"
      ],
      "metadata": {
        "colab": {
          "base_uri": "https://localhost:8080/"
        },
        "id": "2hkquWeeZ7_D",
        "outputId": "32222ca2-2a74-46a8-b652-e03b44a0aa0c"
      },
      "execution_count": null,
      "outputs": [
        {
          "output_type": "execute_result",
          "data": {
            "text/plain": [
              "array([[0.47712125, 0.17609126, 0.        , 0.17609126, 0.        ,\n",
              "        0.        , 0.        , 0.        , 0.        ],\n",
              "       [0.        , 0.17609126, 0.        , 0.17609126, 0.35218252,\n",
              "        0.47712125, 0.47712125, 0.        , 0.        ],\n",
              "       [0.        , 0.        , 0.        , 0.        , 0.17609126,\n",
              "        0.        , 0.        , 0.47712125, 0.47712125]])"
            ]
          },
          "metadata": {},
          "execution_count": 47
        }
      ]
    },
    {
      "cell_type": "markdown",
      "metadata": {
        "id": "xMcsfndWJjm_"
      },
      "source": [
        "### 5 - Comparación de documentos\n",
        "Realizar una funcion que reciba el corpus y el índice de un documento y devuelva los documentos ordenados por la similitud coseno"
      ]
    },
    {
      "cell_type": "code",
      "execution_count": null,
      "metadata": {
        "id": "CZdiop6IJpZN"
      },
      "outputs": [],
      "source": [
        "def similitud(corpus, idx):\n",
        "    # Verificar si el índice existe en el corpus\n",
        "    if idx >= len(corpus):\n",
        "        print(\"Indice inexistente en el corpus\")\n",
        "    else:\n",
        "        # Crear un diccionario vacío para almacenar la similitud de cosenos y los documentos correspondientes\n",
        "        lista = {}\n",
        "        \n",
        "        # Obtener la matriz de características TF-IDF del corpus\n",
        "        tf_idf = TF_IDF(corpus)\n",
        "        i=0\n",
        "        # Recorrer cada documento en la matriz de características TF-IDF\n",
        "        for doc in tf_idf:\n",
        "            # Calcular la similitud de cosenos entre el documento de interés y el documento actual\n",
        "            similarity = cosine_similarity(tf_idf[idx], doc)\n",
        "            \n",
        "            # Almacenar la similitud de cosenos y el documento correspondiente en el diccionario \"lista\"\n",
        "            lista.setdefault(similarity,corpus[i])\n",
        "            i += 1\n",
        "      \n",
        "        # Ordenar el diccionario \"lista\" en orden descendente de similitud de cosenos\n",
        "        lista_ord = dict(sorted(lista.items(), reverse=True))\n",
        "\n",
        "        # Imprimir el documento de interés y los documentos del corpus ordenados por similitud de cosenos\n",
        "        print('Documento a comparar: ', corpus[idx])\n",
        "        print('Documentos ordenados por similitud de cosenos: ', list(lista_ord.values()))"
      ]
    },
    {
      "cell_type": "code",
      "source": [
        "\n",
        "similitud(corpus,0)"
      ],
      "metadata": {
        "colab": {
          "base_uri": "https://localhost:8080/"
        },
        "id": "Sn6GrNB1Vl-b",
        "outputId": "b00bdd87-3bac-44a3-b7d5-0c2fdc523045"
      },
      "execution_count": null,
      "outputs": [
        {
          "output_type": "stream",
          "name": "stdout",
          "text": [
            "Documento a comparar:  que dia es hoy\n",
            "Documentos ordenados por similitud de cosenos:  ['que dia es hoy', 'martes el dia de hoy es martes', 'martes muchas gracias']\n"
          ]
        }
      ]
    }
  ],
  "metadata": {
    "colab": {
      "provenance": [],
      "include_colab_link": true
    },
    "kernelspec": {
      "display_name": "Python 3",
      "name": "python3"
    },
    "language_info": {
      "name": "python"
    }
  },
  "nbformat": 4,
  "nbformat_minor": 0
}