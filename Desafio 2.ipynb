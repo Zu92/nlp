{
  "cells": [
    {
      "cell_type": "markdown",
      "metadata": {
        "id": "view-in-github",
        "colab_type": "text"
      },
      "source": [
        "<a href=\"https://colab.research.google.com/github/Zu92/nlp/blob/main/Zubieta_2b_bot_dnn_spacy_esp.ipynb\" target=\"_parent\"><img src=\"https://colab.research.google.com/assets/colab-badge.svg\" alt=\"Open In Colab\"/></a>"
      ]
    },
    {
      "cell_type": "markdown",
      "metadata": {
        "id": "NV8wZ0MTKjv_"
      },
      "source": [
        "<img src=\"https://github.com/hernancontigiani/ceia_memorias_especializacion/raw/master/Figures/logoFIUBA.jpg\" width=\"500\" align=\"center\">\n",
        "\n",
        "\n",
        "# Procesamiento de lenguaje natural\n",
        "## Bot de consulta abierta y respuestas predeterminadas con DNN + Spacy"
      ]
    },
    {
      "cell_type": "markdown",
      "metadata": {
        "id": "Z_9z3H-yKrcK"
      },
      "source": [
        "#### Datos\n",
        "Este ejemplo se inspiró en otro Bot en inglés creado con NLTK, lo tienen como referencia para hacer lo mismo en inglés:\\\n",
        "[LINK](https://towardsdatascience.com/a-simple-chatbot-in-python-with-deep-learning-3e8669997758)"
      ]
    },
    {
      "cell_type": "markdown",
      "metadata": {
        "id": "oCVZakCzAjGN"
      },
      "source": [
        "### 1 - Instalar dependencias\n",
        "Para poder utilizar Spacy en castellano es necesario agregar la librería \"spacy-stanza\" para lematizar palabras en español."
      ]
    },
    {
      "cell_type": "code",
      "execution_count": 1,
      "metadata": {
        "colab": {
          "base_uri": "https://localhost:8080/"
        },
        "id": "Zd8NLa4gsSmT",
        "outputId": "336df5b7-904f-4b22-9de2-19ce895c1131"
      },
      "outputs": [
        {
          "output_type": "stream",
          "name": "stdout",
          "text": [
            "\u001b[2K     \u001b[90m━━━━━━━━━━━━━━━━━━━━━━━━━━━━━━━━━━━━━━━━\u001b[0m \u001b[32m1.0/1.0 MB\u001b[0m \u001b[31m21.9 MB/s\u001b[0m eta \u001b[36m0:00:00\u001b[0m\n",
            "\u001b[?25h  Installing build dependencies ... \u001b[?25l\u001b[?25hdone\n",
            "  Getting requirements to build wheel ... \u001b[?25l\u001b[?25hdone\n",
            "  Installing backend dependencies ... \u001b[?25l\u001b[?25hdone\n",
            "  Preparing metadata (pyproject.toml) ... \u001b[?25l\u001b[?25hdone\n",
            "\u001b[2K     \u001b[90m━━━━━━━━━━━━━━━━━━━━━━━━━━━━━━━━━━━━━━━━\u001b[0m \u001b[32m82.8/82.8 kB\u001b[0m \u001b[31m9.8 MB/s\u001b[0m eta \u001b[36m0:00:00\u001b[0m\n",
            "\u001b[?25h  Building wheel for spacy (pyproject.toml) ... \u001b[?25l\u001b[?25hcanceled\n",
            "\u001b[31mERROR: Operation cancelled by user\u001b[0m\u001b[31m\n",
            "\u001b[2K     \u001b[90m━━━━━━━━━━━━━━━━━━━━━━━━━━━━━━━━━━━━━━\u001b[0m \u001b[32m342.1/342.1 kB\u001b[0m \u001b[31m23.6 MB/s\u001b[0m eta \u001b[36m0:00:00\u001b[0m\n",
            "\u001b[?25h"
          ]
        }
      ],
      "source": [
        "# La última versión de spacy-stanza (>1.0) es compatible solo con spacy >=3.0\n",
        "# Nota: spacy 3.0 incorpora al pepiline nlp transformers\n",
        "!pip install -U spacy==3.1 --quiet\n",
        "!pip install -U spacy-stanza==1.0.0 --quiet"
      ]
    },
    {
      "cell_type": "code",
      "execution_count": 2,
      "metadata": {
        "id": "kzao7XO9NJAq"
      },
      "outputs": [],
      "source": [
        "import json\n",
        "import string\n",
        "import random \n",
        "import numpy as np\n",
        "\n",
        "import matplotlib.pyplot as plt\n",
        "import seaborn as sns\n",
        "\n",
        "import torch\n",
        "import torch.nn.functional as F\n",
        "import torch.nn as nn\n",
        "from torch.utils.data import Dataset, DataLoader\n",
        "\n",
        "import torchsummary"
      ]
    },
    {
      "cell_type": "code",
      "execution_count": 3,
      "metadata": {
        "colab": {
          "base_uri": "https://localhost:8080/"
        },
        "id": "7lWtUZP8ahFk",
        "outputId": "f396323b-e95f-4d32-c60c-932002938cd3"
      },
      "outputs": [
        {
          "output_type": "stream",
          "name": "stdout",
          "text": [
            "--2023-05-22 22:58:51--  http://torch_helpers.py/\n",
            "Resolving torch_helpers.py (torch_helpers.py)... failed: Name or service not known.\n",
            "wget: unable to resolve host address ‘torch_helpers.py’\n",
            "--2023-05-22 22:58:51--  https://raw.githubusercontent.com/FIUBA-Posgrado-Inteligencia-Artificial/procesamiento_lenguaje_natural/main/scripts/torch_helpers.py\n",
            "Resolving raw.githubusercontent.com (raw.githubusercontent.com)... 185.199.108.133, 185.199.109.133, 185.199.110.133, ...\n",
            "Connecting to raw.githubusercontent.com (raw.githubusercontent.com)|185.199.108.133|:443... connected.\n",
            "HTTP request sent, awaiting response... 200 OK\n",
            "Length: 23883 (23K) [text/plain]\n",
            "Saving to: ‘torch_helpers.py’\n",
            "\n",
            "\rtorch_helpers.py      0%[                    ]       0  --.-KB/s               \rtorch_helpers.py    100%[===================>]  23.32K  --.-KB/s    in 0s      \n",
            "\n",
            "2023-05-22 22:58:51 (81.1 MB/s) - ‘torch_helpers.py’ saved [23883/23883]\n",
            "\n",
            "FINISHED --2023-05-22 22:58:51--\n",
            "Total wall clock time: 0.1s\n",
            "Downloaded: 1 files, 23K in 0s (81.1 MB/s)\n"
          ]
        }
      ],
      "source": [
        "import os\n",
        "import platform\n",
        "\n",
        "if os.access('torch_helpers.py', os.F_OK) is False:\n",
        "    if platform.system() == 'Windows':\n",
        "        !curl !wget https://raw.githubusercontent.com/FIUBA-Posgrado-Inteligencia-Artificial/procesamiento_lenguaje_natural/main/scripts/torch_helpers.py > torch_helpers.py\n",
        "    else:\n",
        "        !wget torch_helpers.py https://raw.githubusercontent.com/FIUBA-Posgrado-Inteligencia-Artificial/procesamiento_lenguaje_natural/main/scripts/torch_helpers.py"
      ]
    },
    {
      "cell_type": "code",
      "execution_count": 4,
      "metadata": {
        "colab": {
          "base_uri": "https://localhost:8080/",
          "height": 463,
          "referenced_widgets": [
            "0dfd6ed3833e41aa8d9e5f9d8a26aaef",
            "f4fbeb482a8c489da7359e7256695e35",
            "dc61e2dbc9864345a20611a4b71f35f5",
            "c9ce0cef7b0d450099b2dfff2fbc83f1",
            "6f6b5cb82e9445b0aa980405af7d551a",
            "a88b0eecdb9c4c018722ba745b9679c6",
            "ac04f4ad845349db80691f349db27b8d",
            "5be61108ff864ab38d6f19d94c8defa6",
            "bc7149f8d9f542338df616085ebfca93",
            "5de054598de84727ae4b3e28a8a33331",
            "37d313935409470b8553ff5cecd597f3",
            "e65633aa294e498b90beb23ef9a51e07",
            "fa4a18259e33430d9e89c67283418509",
            "c26d9e890ff04ac08a3d2ca26381f2d4",
            "01d5a03e81e145e2b8e969a097e9268f",
            "31ea3981e3ff45108741118308be69ea",
            "bc98f262216f4b6eb5cffd856dc58b48",
            "cca632c32c3a4d53b7ff2620fcdf6c93",
            "d502ad5023ad406e9c26a4f019a7b011",
            "7181a2e64b8d4928a76c9e3438981ebd",
            "47ef22b0968647ceb01b64ee29e99c02",
            "9fb0563b929b43a28f6a129d9943d05e"
          ]
        },
        "id": "Z_ExOb8uvjqK",
        "outputId": "5e5d8a28-db66-4aa6-c86c-5ae6fd157e50"
      },
      "outputs": [
        {
          "output_type": "display_data",
          "data": {
            "text/plain": [
              "Downloading https://raw.githubusercontent.com/stanfordnlp/stanza-resources/main/resources_1.2.2.json:   0%|   …"
            ],
            "application/vnd.jupyter.widget-view+json": {
              "version_major": 2,
              "version_minor": 0,
              "model_id": "0dfd6ed3833e41aa8d9e5f9d8a26aaef"
            }
          },
          "metadata": {}
        },
        {
          "output_type": "stream",
          "name": "stderr",
          "text": [
            "INFO:stanza:Downloading default packages for language: es (Spanish)...\n"
          ]
        },
        {
          "output_type": "display_data",
          "data": {
            "text/plain": [
              "Downloading http://nlp.stanford.edu/software/stanza/1.2.2/es/default.zip:   0%|          | 0.00/566M [00:00<?,…"
            ],
            "application/vnd.jupyter.widget-view+json": {
              "version_major": 2,
              "version_minor": 0,
              "model_id": "e65633aa294e498b90beb23ef9a51e07"
            }
          },
          "metadata": {}
        },
        {
          "output_type": "stream",
          "name": "stderr",
          "text": [
            "INFO:stanza:Finished downloading models and saved to /root/stanza_resources.\n",
            "INFO:stanza:Loading these models for language: es (Spanish):\n",
            "=======================\n",
            "| Processor | Package |\n",
            "-----------------------\n",
            "| tokenize  | ancora  |\n",
            "| mwt       | ancora  |\n",
            "| pos       | ancora  |\n",
            "| lemma     | ancora  |\n",
            "| depparse  | ancora  |\n",
            "| ner       | conll02 |\n",
            "=======================\n",
            "\n",
            "INFO:stanza:Use device: cpu\n",
            "INFO:stanza:Loading: tokenize\n",
            "INFO:stanza:Loading: mwt\n",
            "INFO:stanza:Loading: pos\n",
            "INFO:stanza:Loading: lemma\n",
            "INFO:stanza:Loading: depparse\n",
            "INFO:stanza:Loading: ner\n",
            "INFO:stanza:Done loading processors!\n"
          ]
        }
      ],
      "source": [
        "import stanza\n",
        "import spacy_stanza\n",
        "\n",
        "# Vamos a usar SpaCy-Stanza. Stanza es una librería de NLP de Stanford\n",
        "# SpaCy armó un wrapper para los pipelines y modelos de Stanza\n",
        "# https://stanfordnlp.github.io/stanza/\n",
        "\n",
        "# Descargar el diccionario en español y armar el pipeline de NLP con spacy\n",
        "stanza.download(\"es\")\n",
        "nlp = spacy_stanza.load_pipeline(\"es\")"
      ]
    },
    {
      "cell_type": "markdown",
      "metadata": {
        "id": "_wF10RjVMBdV"
      },
      "source": [
        "### 2 - Herramientas de preprocesamiento de datos\n",
        "Entre las tareas de procesamiento de texto en español se implementa:\n",
        "- Quitar acentos y caracteres especiales\n",
        "- Quitar números\n",
        "- Quitar símbolos de puntuación"
      ]
    },
    {
      "cell_type": "code",
      "execution_count": 5,
      "metadata": {
        "id": "ZxoD2hEExmuX"
      },
      "outputs": [],
      "source": [
        "import re\n",
        "import unicodedata\n",
        "\n",
        "# El preprocesamento en castellano requiere más trabajo\n",
        "\n",
        "# Referencia de regex:\n",
        "# https://docs.python.org/3/library/re.html\n",
        "\n",
        "def preprocess_clean_text(text):    \n",
        "    # sacar tildes de las palabras\n",
        "    text = unicodedata.normalize('NFKD', text).encode('ascii', 'ignore').decode('utf-8', 'ignore')\n",
        "    # quitar caracteres especiales\n",
        "    pattern = r'[^a-zA-z0-9.,!?/:;\\\"\\'\\s]' \n",
        "    text = re.sub(pattern, '', text)\n",
        "    pattern = r'[^a-zA-z.,!?/:;\\\"\\'\\s]' \n",
        "    # quitar números\n",
        "    text = re.sub(pattern, '', text)\n",
        "    # quitar caracteres de puntiación\n",
        "    text = ''.join([c for c in text if c not in string.punctuation])\n",
        "    return text"
      ]
    },
    {
      "cell_type": "code",
      "execution_count": 6,
      "metadata": {
        "colab": {
          "base_uri": "https://localhost:8080/",
          "height": 36
        },
        "id": "q-MiMZjh5fu2",
        "outputId": "e09421ca-f2c0-4c8f-99ea-2393da09ab33"
      },
      "outputs": [
        {
          "output_type": "execute_result",
          "data": {
            "text/plain": [
              "'personas ideas estas cosas y los peces y los muercielagos'"
            ],
            "application/vnd.google.colaboratory.intrinsic+json": {
              "type": "string"
            }
          },
          "metadata": {},
          "execution_count": 6
        }
      ],
      "source": [
        "text = \"personas Ideas! estás cosas y los peces y los muercielagos\"\n",
        "\n",
        "# Antes de preprocesar los datos se pasa a mínusculas todo el texto\n",
        "preprocess_clean_text(text.lower())"
      ]
    },
    {
      "cell_type": "code",
      "execution_count": 7,
      "metadata": {
        "colab": {
          "base_uri": "https://localhost:8080/"
        },
        "id": "I9V-S8JbrtNn",
        "outputId": "79fcc2ea-1fcd-41da-b176-11f7b6184179"
      },
      "outputs": [
        {
          "output_type": "stream",
          "name": "stdout",
          "text": [
            "tokens: hola personas ideas estas cosas y los peces y los muercielagos\n",
            "Lematización de cada token:\n",
            "[hola, 'holar']\n",
            "[personas, 'persona']\n",
            "[ideas, 'idea']\n",
            "[estas, 'este']\n",
            "[cosas, 'cosa']\n",
            "[y, 'y']\n",
            "[los, 'el']\n",
            "[peces, 'pez']\n",
            "[y, 'y']\n",
            "[los, 'el']\n",
            "[muercielagos, 'muercielago']\n"
          ]
        }
      ],
      "source": [
        "# Ejemplo de como fuciona\n",
        "text = \"hola personas Ideas! estás cosas y los peces y los muercielagos\"\n",
        "\n",
        "# Antes de preprocesar los datos se pasa a mínusculas todo el texto\n",
        "tokes = nlp(preprocess_clean_text(text.lower()))\n",
        "print(\"tokens:\", tokes)\n",
        "print(\"Lematización de cada token:\")\n",
        "for token in tokes:\n",
        "    print([token, token.lemma_])"
      ]
    },
    {
      "cell_type": "markdown",
      "metadata": {
        "id": "ilRbn0KfMm2r"
      },
      "source": [
        "### 3 - Diccionario de entrada"
      ]
    },
    {
      "cell_type": "code",
      "execution_count": 8,
      "metadata": {
        "id": "NgIGpjymNEH7"
      },
      "outputs": [],
      "source": [
        "# Dataset en formato JSON que representa las posibles preguntas (patterns)\n",
        "# y las posibles respuestas por categoría (tag)\n",
        "dataset = {\"intents\": [\n",
        "             {\"tag\": \"bienvenida\",\n",
        "              \"patterns\": [\"Hola\", \"¿Cómo estás?\", \"¿Qué tal?\"],\n",
        "              \"responses\": [\"Hola! gracias por tu interes\"],\n",
        "             },\n",
        "             {\"tag\": \"nombre\",\n",
        "              \"patterns\": [\"como los busco?\",\"como los encuentro?\"],\n",
        "              \"responses\": [\"Hola en insta somos zu3juegos_\", \"Somos zu3juegos_\"]\n",
        "             },\n",
        "            {\"tag\": \"contacto\",\n",
        "              \"patterns\": [\"contacto\", \"coordinar\", \"arreglar\", \"hablar\"],\n",
        "              \"responses\": [\"Podes escribir tu numero de a pares separados por un guion\", \"escribi tu numero separado de a dos en dos\"]\n",
        "             },\n",
        "            {\"tag\": \"envios\",\n",
        "              \"patterns\": [\"¿Cúando llega?\",\"¿llega antes de\",\"dice que llega\",\"tienen local\",\"lo puedo buscar\"],\n",
        "              \"responses\": [\"el envio lo hace meli, segun tu zona te deberia aparecer en la publicacion\",\"hola no podemos adelantar las entregas ya que dependen de meli, si podes retirarlo antes\",\"se puede retirar antes, sino el envio es que te aparece\"]\n",
        "             },\n",
        "            {\"tag\": \"precios\",\n",
        "              \"patterns\": [\"precio\", \"Me podrás pasar los precios\", \"¿Cuánto vale?\", \"¿Cuánto sale?\"],\n",
        "              \"responses\": [\"todos los precios son los publicados, en insta somos zu3juegos_\"]\n",
        "             },\n",
        "            {\"tag\": \"expansion\",\n",
        "              \"patterns\": [\"viene con expansiones\", \"este incluye expansiones\", \"que cambia con el que viene con expansiones\"],\n",
        "              \"responses\": [\"Este juego es una edición especial preparada para jugar de a 10 jugadores, trae una cantidad de cartas de cartas similar al que viene con expansiones pero en distinta distribucion\"]\n",
        "             },\n",
        "            {\"tag\": \"stock\",\n",
        "              \"patterns\": [\"Esto está disponible\", \"¿Tenes stock?\", \"¿Hay stock hoy?\"],\n",
        "              \"responses\": [\"Hola tenemos stock, el tiempo de disponibildad aparece en la publicacion\"]\n",
        "             },\n",
        "            {\"tag\": \"agradecimientos\",\n",
        "              \"patterns\": [ \"Muchas gracias\", \"Gracias\",\"Ya compre\"],\n",
        "              \"responses\": [\"Por nada!, cualquier otra consulta podes escribirme\"]\n",
        "             },\n",
        "             {\"tag\": \"jugadores\",\n",
        "              \"patterns\": [ \"es de a 10 jugadores\", \"cuantos jugadores\",\"se puede jugar de menos\"],\n",
        "              \"responses\": [\"esta version es de 2 a 10 jugadores\"]\n",
        "             }\n",
        "]}"
      ]
    },
    {
      "cell_type": "markdown",
      "metadata": {
        "id": "19PEDmIDfLRu"
      },
      "source": [
        "### 4 - Preprocesamiento y armado del dataset"
      ]
    },
    {
      "cell_type": "code",
      "execution_count": 9,
      "metadata": {
        "id": "b3HP8abHNRk3"
      },
      "outputs": [],
      "source": [
        "# Datos que necesitaremos, las palabras o vocabilario\n",
        "words = []\n",
        "classes = []\n",
        "doc_X = []\n",
        "doc_y = []\n",
        "\n",
        "# Por cada intención (intents) debemos tomar los patrones que la caracterízan\n",
        "# a esa intención y transformarla a tokens para lamacenar en doc_X\n",
        "\n",
        "# El tag de cada intención se almacena como doc_Y (la clase a predecir)\n",
        "\n",
        "for intent in dataset[\"intents\"]:\n",
        "    for pattern in intent[\"patterns\"]:\n",
        "        # trasformar el patron a tokens\n",
        "        tokens = nlp(preprocess_clean_text(pattern.lower()))\n",
        "        # lematizar los tokens\n",
        "        for token in tokens:            \n",
        "            words.append(token.lemma_)\n",
        "        \n",
        "        doc_X.append(pattern)\n",
        "        doc_y.append(intent[\"tag\"])\n",
        "    \n",
        "    # Agregar el tag a las clases\n",
        "    if intent[\"tag\"] not in classes:\n",
        "        classes.append(intent[\"tag\"])\n",
        "\n",
        "# Elminar duplicados con \"set\" y ordenar el vocubulario y las clases por orden alfabético\n",
        "words = sorted(set(words))\n",
        "classes = sorted(set(classes))"
      ]
    },
    {
      "cell_type": "code",
      "execution_count": 10,
      "metadata": {
        "colab": {
          "base_uri": "https://localhost:8080/"
        },
        "id": "Acy-gcugNbMH",
        "outputId": "bbcb3e08-9407-486a-cbf9-bd1e13f95586"
      },
      "outputs": [
        {
          "output_type": "stream",
          "name": "stdout",
          "text": [
            "words: [' ', 'a', 'antes', 'arreglar', 'buscar', 'cambiar', 'como', 'comprar', 'con', 'contacto', 'coordinar', 'cuando', 'cuanto', 'de', 'decir', 'disponible', 'el', 'encuentro', 'este', 'expansión', 'gracias', 'haber', 'hablar', 'holar', 'hoy', 'incluir', 'jugador', 'jugar', 'llegar', 'local', 'menos', 'mucho', 'pasar', 'poder', 'precio', 'que', 'salir', 'ser', 'stock', 'tal', 'tener', 'valer', 'venir', 'ya', 'yo', 'él']\n",
            "classes: ['agradecimientos', 'bienvenida', 'contacto', 'envios', 'expansion', 'jugadores', 'nombre', 'precios', 'stock']\n",
            "doc_X: ['Hola', '¿Cómo estás?', '¿Qué tal?', 'como los busco?', 'como los encuentro?', 'contacto', 'coordinar', 'arreglar', 'hablar', '¿Cúando llega?', '¿llega antes de', 'dice que llega', 'tienen local', 'lo puedo buscar', 'precio', 'Me podrás pasar los precios', '¿Cuánto vale?', '¿Cuánto sale?', 'viene con expansiones', 'este incluye expansiones', 'que cambia con el que viene con expansiones', 'Esto está disponible', '¿Tenes stock?', '¿Hay stock hoy?', 'Muchas gracias', 'Gracias', 'Ya compre', 'es de a 10 jugadores', 'cuantos jugadores', 'se puede jugar de menos']\n",
            "doc_y: ['bienvenida', 'bienvenida', 'bienvenida', 'nombre', 'nombre', 'contacto', 'contacto', 'contacto', 'contacto', 'envios', 'envios', 'envios', 'envios', 'envios', 'precios', 'precios', 'precios', 'precios', 'expansion', 'expansion', 'expansion', 'stock', 'stock', 'stock', 'agradecimientos', 'agradecimientos', 'agradecimientos', 'jugadores', 'jugadores', 'jugadores']\n"
          ]
        }
      ],
      "source": [
        "print(\"words:\", words)\n",
        "print(\"classes:\", classes)\n",
        "print(\"doc_X:\", doc_X)\n",
        "print(\"doc_y:\", doc_y)"
      ]
    },
    {
      "cell_type": "code",
      "execution_count": 11,
      "metadata": {
        "colab": {
          "base_uri": "https://localhost:8080/"
        },
        "id": "YI0L2U7IQcvy",
        "outputId": "6b006ca3-a935-4ddb-dc7e-75cc96bc5c0b"
      },
      "outputs": [
        {
          "output_type": "stream",
          "name": "stdout",
          "text": [
            "Vocabulario: 46\n"
          ]
        }
      ],
      "source": [
        "# Tamaño del vocabulario\n",
        "print(\"Vocabulario:\", len(words))"
      ]
    },
    {
      "cell_type": "code",
      "execution_count": 12,
      "metadata": {
        "colab": {
          "base_uri": "https://localhost:8080/"
        },
        "id": "hqBeGKRk_q4r",
        "outputId": "3bcf515f-a308-45b1-de14-496e36ab87f7"
      },
      "outputs": [
        {
          "output_type": "stream",
          "name": "stdout",
          "text": [
            "Tags: 9\n"
          ]
        }
      ],
      "source": [
        "# Cantidad de tags\n",
        "print(\"Tags:\", len(classes))"
      ]
    },
    {
      "cell_type": "code",
      "execution_count": 13,
      "metadata": {
        "colab": {
          "base_uri": "https://localhost:8080/"
        },
        "id": "vpbJ0guPN2Uq",
        "outputId": "f9fe55c3-ae1e-4364-df8d-a6653a054b24"
      },
      "outputs": [
        {
          "output_type": "stream",
          "name": "stdout",
          "text": [
            "X: [0, 0, 0, 0, 0, 0, 0, 0, 0, 0, 0, 0, 0, 0, 0, 0, 0, 0, 0, 0, 0, 0, 0, 1, 0, 0, 0, 0, 0, 0, 0, 0, 0, 0, 0, 0, 0, 0, 0, 0, 0, 0, 0, 0, 0, 0] y: [0, 1, 0, 0, 0, 0, 0, 0, 0]\n",
            "X: [0, 0, 0, 0, 0, 0, 1, 0, 0, 0, 0, 0, 0, 0, 0, 0, 0, 0, 1, 0, 0, 0, 0, 0, 0, 0, 0, 0, 0, 0, 0, 0, 0, 0, 0, 0, 0, 0, 0, 0, 0, 0, 0, 0, 0, 0] y: [0, 1, 0, 0, 0, 0, 0, 0, 0]\n",
            "X: [0, 0, 0, 0, 0, 0, 0, 0, 0, 0, 0, 0, 0, 0, 0, 0, 0, 0, 0, 0, 0, 0, 0, 0, 0, 0, 0, 0, 0, 0, 0, 0, 0, 0, 0, 1, 0, 0, 0, 1, 0, 0, 0, 0, 0, 0] y: [0, 1, 0, 0, 0, 0, 0, 0, 0]\n",
            "X: [0, 0, 0, 0, 1, 0, 1, 0, 0, 0, 0, 0, 0, 0, 0, 0, 0, 0, 0, 0, 0, 0, 0, 0, 0, 0, 0, 0, 0, 0, 0, 0, 0, 0, 0, 0, 0, 0, 0, 0, 0, 0, 0, 0, 0, 1] y: [0, 0, 0, 0, 0, 0, 1, 0, 0]\n",
            "X: [0, 0, 0, 0, 0, 0, 1, 0, 0, 0, 0, 0, 0, 0, 0, 0, 1, 1, 0, 0, 0, 0, 0, 0, 0, 0, 0, 0, 0, 0, 0, 0, 0, 0, 0, 0, 0, 0, 0, 0, 0, 0, 0, 0, 0, 0] y: [0, 0, 0, 0, 0, 0, 1, 0, 0]\n",
            "X: [0, 0, 0, 0, 0, 0, 0, 0, 0, 1, 0, 0, 0, 0, 0, 0, 0, 0, 0, 0, 0, 0, 0, 0, 0, 0, 0, 0, 0, 0, 0, 0, 0, 0, 0, 0, 0, 0, 0, 0, 0, 0, 0, 0, 0, 0] y: [0, 0, 1, 0, 0, 0, 0, 0, 0]\n",
            "X: [0, 0, 0, 0, 0, 0, 0, 0, 0, 0, 1, 0, 0, 0, 0, 0, 0, 0, 0, 0, 0, 0, 0, 0, 0, 0, 0, 0, 0, 0, 0, 0, 0, 0, 0, 0, 0, 0, 0, 0, 0, 0, 0, 0, 0, 0] y: [0, 0, 1, 0, 0, 0, 0, 0, 0]\n",
            "X: [0, 0, 0, 1, 0, 0, 0, 0, 0, 0, 0, 0, 0, 0, 0, 0, 0, 0, 0, 0, 0, 0, 0, 0, 0, 0, 0, 0, 0, 0, 0, 0, 0, 0, 0, 0, 0, 0, 0, 0, 0, 0, 0, 0, 0, 0] y: [0, 0, 1, 0, 0, 0, 0, 0, 0]\n",
            "X: [0, 0, 0, 0, 0, 0, 0, 0, 0, 0, 0, 0, 0, 0, 0, 0, 0, 0, 0, 0, 0, 0, 1, 0, 0, 0, 0, 0, 0, 0, 0, 0, 0, 0, 0, 0, 0, 0, 0, 0, 0, 0, 0, 0, 0, 0] y: [0, 0, 1, 0, 0, 0, 0, 0, 0]\n",
            "X: [0, 0, 0, 0, 0, 0, 0, 0, 0, 0, 0, 1, 0, 0, 0, 0, 0, 0, 0, 0, 0, 0, 0, 0, 0, 0, 0, 0, 1, 0, 0, 0, 0, 0, 0, 0, 0, 0, 0, 0, 0, 0, 0, 0, 0, 0] y: [0, 0, 0, 1, 0, 0, 0, 0, 0]\n",
            "X: [0, 0, 1, 0, 0, 0, 0, 0, 0, 0, 0, 0, 0, 1, 0, 0, 0, 0, 0, 0, 0, 0, 0, 0, 0, 0, 0, 0, 1, 0, 0, 0, 0, 0, 0, 0, 0, 0, 0, 0, 0, 0, 0, 0, 0, 0] y: [0, 0, 0, 1, 0, 0, 0, 0, 0]\n",
            "X: [0, 0, 0, 0, 0, 0, 0, 0, 0, 0, 0, 0, 0, 0, 1, 0, 0, 0, 0, 0, 0, 0, 0, 0, 0, 0, 0, 0, 1, 0, 0, 0, 0, 0, 0, 1, 0, 0, 0, 0, 0, 0, 0, 0, 0, 0] y: [0, 0, 0, 1, 0, 0, 0, 0, 0]\n",
            "X: [0, 0, 0, 0, 0, 0, 0, 0, 0, 0, 0, 0, 0, 0, 0, 0, 0, 0, 0, 0, 0, 0, 0, 0, 0, 0, 0, 0, 0, 1, 0, 0, 0, 0, 0, 0, 0, 0, 0, 0, 1, 0, 0, 0, 0, 0] y: [0, 0, 0, 1, 0, 0, 0, 0, 0]\n",
            "X: [0, 0, 0, 0, 1, 0, 0, 0, 0, 0, 0, 0, 0, 0, 0, 0, 0, 0, 0, 0, 0, 0, 0, 0, 0, 0, 0, 0, 0, 0, 0, 0, 0, 1, 0, 0, 0, 0, 0, 0, 0, 0, 0, 0, 0, 1] y: [0, 0, 0, 1, 0, 0, 0, 0, 0]\n",
            "X: [0, 0, 0, 0, 0, 0, 0, 0, 0, 0, 0, 0, 0, 0, 0, 0, 0, 0, 0, 0, 0, 0, 0, 0, 0, 0, 0, 0, 0, 0, 0, 0, 0, 0, 1, 0, 0, 0, 0, 0, 0, 0, 0, 0, 0, 0] y: [0, 0, 0, 0, 0, 0, 0, 1, 0]\n",
            "X: [0, 0, 0, 0, 0, 0, 0, 0, 0, 0, 0, 0, 0, 0, 0, 0, 1, 0, 0, 0, 0, 0, 0, 0, 0, 0, 0, 0, 0, 0, 0, 0, 1, 1, 1, 0, 0, 0, 0, 0, 0, 0, 0, 0, 1, 0] y: [0, 0, 0, 0, 0, 0, 0, 1, 0]\n",
            "X: [0, 0, 0, 0, 0, 0, 0, 0, 0, 0, 0, 0, 1, 0, 0, 0, 0, 0, 0, 0, 0, 0, 0, 0, 0, 0, 0, 0, 0, 0, 0, 0, 0, 0, 0, 0, 0, 0, 0, 0, 0, 1, 0, 0, 0, 0] y: [0, 0, 0, 0, 0, 0, 0, 1, 0]\n",
            "X: [0, 0, 0, 0, 0, 0, 0, 0, 0, 0, 0, 0, 1, 0, 0, 0, 0, 0, 0, 0, 0, 0, 0, 0, 0, 0, 0, 0, 0, 0, 0, 0, 0, 0, 0, 0, 1, 0, 0, 0, 0, 0, 0, 0, 0, 0] y: [0, 0, 0, 0, 0, 0, 0, 1, 0]\n",
            "X: [0, 0, 0, 0, 0, 0, 0, 0, 1, 0, 0, 0, 0, 0, 0, 0, 0, 0, 0, 1, 0, 0, 0, 0, 0, 0, 0, 0, 0, 0, 0, 0, 0, 0, 0, 0, 0, 0, 0, 0, 0, 0, 1, 0, 0, 0] y: [0, 0, 0, 0, 1, 0, 0, 0, 0]\n",
            "X: [0, 0, 0, 0, 0, 0, 0, 0, 0, 0, 0, 0, 0, 0, 0, 0, 0, 0, 1, 1, 0, 0, 0, 0, 0, 1, 0, 0, 0, 0, 0, 0, 0, 0, 0, 0, 0, 0, 0, 0, 0, 0, 0, 0, 0, 0] y: [0, 0, 0, 0, 1, 0, 0, 0, 0]\n",
            "X: [0, 0, 0, 0, 0, 1, 0, 0, 1, 0, 0, 0, 0, 0, 0, 0, 1, 0, 0, 1, 0, 0, 0, 0, 0, 0, 0, 0, 0, 0, 0, 0, 0, 0, 0, 1, 0, 0, 0, 0, 0, 0, 1, 0, 0, 0] y: [0, 0, 0, 0, 1, 0, 0, 0, 0]\n",
            "X: [0, 0, 0, 0, 0, 0, 0, 0, 0, 0, 0, 0, 0, 0, 0, 1, 0, 0, 1, 0, 0, 0, 0, 0, 0, 0, 0, 0, 0, 0, 0, 0, 0, 0, 0, 0, 0, 0, 0, 0, 0, 0, 0, 0, 0, 0] y: [0, 0, 0, 0, 0, 0, 0, 0, 1]\n",
            "X: [0, 0, 0, 0, 0, 0, 0, 0, 0, 0, 0, 0, 0, 0, 0, 0, 0, 0, 0, 0, 0, 0, 0, 0, 0, 0, 0, 0, 0, 0, 0, 0, 0, 0, 0, 0, 0, 0, 1, 0, 1, 0, 0, 0, 0, 0] y: [0, 0, 0, 0, 0, 0, 0, 0, 1]\n",
            "X: [0, 0, 0, 0, 0, 0, 0, 0, 0, 0, 0, 0, 0, 0, 0, 0, 0, 0, 0, 0, 0, 1, 0, 0, 1, 0, 0, 0, 0, 0, 0, 0, 0, 0, 0, 0, 0, 0, 1, 0, 0, 0, 0, 0, 0, 0] y: [0, 0, 0, 0, 0, 0, 0, 0, 1]\n",
            "X: [0, 0, 0, 0, 0, 0, 0, 0, 0, 0, 0, 0, 0, 0, 0, 0, 0, 0, 0, 0, 1, 0, 0, 0, 0, 0, 0, 0, 0, 0, 0, 1, 0, 0, 0, 0, 0, 0, 0, 0, 0, 0, 0, 0, 0, 0] y: [1, 0, 0, 0, 0, 0, 0, 0, 0]\n",
            "X: [0, 0, 0, 0, 0, 0, 0, 0, 0, 0, 0, 0, 0, 0, 0, 0, 0, 0, 0, 0, 1, 0, 0, 0, 0, 0, 0, 0, 0, 0, 0, 0, 0, 0, 0, 0, 0, 0, 0, 0, 0, 0, 0, 0, 0, 0] y: [1, 0, 0, 0, 0, 0, 0, 0, 0]\n",
            "X: [0, 0, 0, 0, 0, 0, 0, 1, 0, 0, 0, 0, 0, 0, 0, 0, 0, 0, 0, 0, 0, 0, 0, 0, 0, 0, 0, 0, 0, 0, 0, 0, 0, 0, 0, 0, 0, 0, 0, 0, 0, 0, 0, 1, 0, 0] y: [1, 0, 0, 0, 0, 0, 0, 0, 0]\n",
            "X: [1, 1, 0, 0, 0, 0, 0, 0, 0, 0, 0, 0, 0, 1, 0, 0, 0, 0, 0, 0, 0, 0, 0, 0, 0, 0, 1, 0, 0, 0, 0, 0, 0, 0, 0, 0, 0, 1, 0, 0, 0, 0, 0, 0, 0, 0] y: [0, 0, 0, 0, 0, 1, 0, 0, 0]\n",
            "X: [0, 0, 0, 0, 0, 0, 0, 0, 0, 0, 0, 0, 1, 0, 0, 0, 0, 0, 0, 0, 0, 0, 0, 0, 0, 0, 1, 0, 0, 0, 0, 0, 0, 0, 0, 0, 0, 0, 0, 0, 0, 0, 0, 0, 0, 0] y: [0, 0, 0, 0, 0, 1, 0, 0, 0]\n",
            "X: [0, 0, 0, 0, 0, 0, 0, 0, 0, 0, 0, 0, 0, 1, 0, 0, 0, 0, 0, 0, 0, 0, 0, 0, 0, 0, 0, 1, 0, 0, 1, 0, 0, 1, 0, 0, 0, 0, 0, 0, 0, 0, 0, 0, 0, 1] y: [0, 0, 0, 0, 0, 1, 0, 0, 0]\n"
          ]
        }
      ],
      "source": [
        "# Transformar doc_X en bag of words por oneHotEncoding\n",
        "# Transformar doc_Y en un vector de clases multicategórico con oneHotEncoding\n",
        "\n",
        "training = []\n",
        "out_empty = [0] * len(classes)\n",
        "\n",
        "for idx, doc in enumerate(doc_X):\n",
        "    # Transformar la pregunta (input) en tokens y lematizar\n",
        "    text = []\n",
        "    tokens = nlp(preprocess_clean_text(doc.lower()))\n",
        "    for token in tokens:\n",
        "        text.append(token.lemma_)\n",
        "\n",
        "    # Transformar los tokens en \"Bag of words\" (arrays de 1 y 0)\n",
        "    bow = []\n",
        "    for word in words:\n",
        "        bow.append(1) if word in text else bow.append(0)\n",
        "    \n",
        "    # Crear el array de salida (class output) correspondiente\n",
        "    output_row = list(out_empty)\n",
        "    output_row[classes.index(doc_y[idx])] = 1\n",
        "\n",
        "    print(\"X:\", bow, \"y:\", output_row)\n",
        "    training.append([bow, output_row])\n",
        "\n",
        "# Mezclar los datos\n",
        "random.shuffle(training)\n",
        "training = np.array(training, dtype=object)\n",
        "# Dividir en datos de entrada y salida\n",
        "train_X = np.array(list(training[:, 0]))\n",
        "train_y = np.array(list(training[:, 1]))"
      ]
    },
    {
      "cell_type": "code",
      "execution_count": 14,
      "metadata": {
        "colab": {
          "base_uri": "https://localhost:8080/"
        },
        "id": "GQaGSWBtauBn",
        "outputId": "f0bca70b-5db2-45ec-d4e8-a9ba91f9b549"
      },
      "outputs": [
        {
          "output_type": "stream",
          "name": "stdout",
          "text": [
            "Input dim 46\n",
            "Output dim 9\n"
          ]
        }
      ],
      "source": [
        "class Data(Dataset):\n",
        "    def __init__(self, x, y):\n",
        "        # Convertir los arrays de numpy a tensores. \n",
        "        # pytorch espera en general entradas 32bits\n",
        "        self.x = torch.from_numpy(x.astype(np.float32))\n",
        "        # las loss function esperan la salida float\n",
        "        self.y = torch.from_numpy(y.astype(np.float32))\n",
        "\n",
        "        self.len = self.y.shape[0]\n",
        "\n",
        "    def __getitem__(self,index):\n",
        "        return self.x[index], self.y[index]\n",
        "\n",
        "    def __len__(self):\n",
        "        return self.len\n",
        "\n",
        "data_set = Data(train_X, train_y)\n",
        "\n",
        "input_dim = data_set.x.shape[1]\n",
        "print(\"Input dim\", input_dim)\n",
        "\n",
        "output_dim = data_set.y.shape[1]\n",
        "print(\"Output dim\", output_dim)"
      ]
    },
    {
      "cell_type": "code",
      "execution_count": 15,
      "metadata": {
        "id": "cGw7uV47LuJx"
      },
      "outputs": [],
      "source": [
        "from torch.utils.data import DataLoader\n",
        "\n",
        "train_loader = DataLoader(data_set, batch_size=32, shuffle=False)"
      ]
    },
    {
      "cell_type": "markdown",
      "metadata": {
        "id": "a_Hr8QaDfRf3"
      },
      "source": [
        "### 5 - Entrenamiento del modelo"
      ]
    },
    {
      "cell_type": "code",
      "execution_count": 16,
      "metadata": {
        "colab": {
          "base_uri": "https://localhost:8080/"
        },
        "id": "7FNoKNeSbVmY",
        "outputId": "21840749-bb94-4195-dce1-23ab5764f6c0"
      },
      "outputs": [
        {
          "output_type": "stream",
          "name": "stdout",
          "text": [
            "----------------------------------------------------------------\n",
            "        Layer (type)               Output Shape         Param #\n",
            "================================================================\n",
            "            Linear-1               [-1, 1, 128]           6,016\n",
            "              ReLU-2               [-1, 1, 128]               0\n",
            "           Dropout-3               [-1, 1, 128]               0\n",
            "            Linear-4                [-1, 1, 64]           8,256\n",
            "              ReLU-5                [-1, 1, 64]               0\n",
            "           Dropout-6                [-1, 1, 64]               0\n",
            "            Linear-7                 [-1, 1, 9]             585\n",
            "           Softmax-8                 [-1, 1, 9]               0\n",
            "================================================================\n",
            "Total params: 14,857\n",
            "Trainable params: 14,857\n",
            "Non-trainable params: 0\n",
            "----------------------------------------------------------------\n",
            "Input size (MB): 0.00\n",
            "Forward/backward pass size (MB): 0.00\n",
            "Params size (MB): 0.06\n",
            "Estimated Total Size (MB): 0.06\n",
            "----------------------------------------------------------------\n"
          ]
        }
      ],
      "source": [
        "class Model1(nn.Module):\n",
        "    def __init__(self, input_dim, output_dim):\n",
        "        super().__init__()\n",
        "        self.fc1 = nn.Linear(in_features=input_dim, out_features=128) # fully connected layer\n",
        "        self.fc2 = nn.Linear(in_features=128, out_features=64) # fully connected layer\n",
        "        self.fc3 = nn.Linear(in_features=64, out_features=output_dim) # fully connected layer\n",
        "        \n",
        "        self.relu = nn.ReLU()\n",
        "        self.softmax = nn.Softmax(dim=1) # normalize in dim 1\n",
        "        self.dropout = nn.Dropout(0.5)\n",
        "\n",
        "    def forward(self, x):\n",
        "        out = self.relu(self.fc1(x))\n",
        "        out = self.dropout(out)\n",
        "        out = self.relu(self.fc2(out))\n",
        "        out = self.dropout(out)\n",
        "        out = self.softmax(self.fc3(out))\n",
        "        return out\n",
        "\n",
        "# Crear el modelo basado en la arquitectura definida\n",
        "model1 = Model1(input_dim=input_dim, output_dim=output_dim)\n",
        "# Crear el optimizador la una función de error\n",
        "model1_optimizer = torch.optim.Adam(model1.parameters(), lr=0.001)\n",
        "model1_criterion = torch.nn.CrossEntropyLoss()  # Para clasificación multi categórica\n",
        "\n",
        "torchsummary.summary(model1, input_size=(1, input_dim))"
      ]
    },
    {
      "cell_type": "code",
      "execution_count": 17,
      "metadata": {
        "id": "-Ap_Ts8Ga39y"
      },
      "outputs": [],
      "source": [
        "from torch_helpers import categorical_acc\n",
        "\n",
        "def train(model, train_loader, optimizer, criterion, epochs=100):\n",
        "    # Defino listas para realizar graficas de los resultados\n",
        "    train_loss = []\n",
        "    train_accuracy = []\n",
        "\n",
        "    ## Defino mi loop de entrenamiento\n",
        "\n",
        "    for epoch in range(epochs):\n",
        "\n",
        "        epoch_train_loss = 0.0\n",
        "        epoch_train_accuracy = 0.0\n",
        "\n",
        "        for train_data, train_target in train_loader:\n",
        "\n",
        "            # Seteo los gradientes en cero ya que, por defecto, PyTorch\n",
        "            # los va acumulando\n",
        "            optimizer.zero_grad()\n",
        "\n",
        "            output = model(train_data)\n",
        "\n",
        "            # Computo el error de la salida comparando contra las etiquetas\n",
        "            loss = criterion(output, train_target)\n",
        "\n",
        "            # Almaceno el error del batch para luego tener el error promedio de la epoca\n",
        "            epoch_train_loss += loss.item()\n",
        "\n",
        "            # Computo el nuevo set de gradientes a lo largo de toda la red\n",
        "            loss.backward()\n",
        "\n",
        "            # Realizo el paso de optimizacion actualizando los parametros de toda la red\n",
        "            optimizer.step()\n",
        "            \n",
        "            # Calculo el accuracy del batch\n",
        "            accuracy = categorical_acc(output, train_target)\n",
        "            # Almaceno el accuracy del batch para luego tener el accuracy promedio de la epoca\n",
        "            epoch_train_accuracy += accuracy.item()\n",
        "\n",
        "        # Calculo la media de error y accuracy para la epoca de entrenamiento.\n",
        "        # La longitud de train_loader es igual a la cantidad de batches dentro de una epoca.\n",
        "        epoch_train_loss = epoch_train_loss / len(train_loader)\n",
        "        train_loss.append(epoch_train_loss)\n",
        "        epoch_train_accuracy = epoch_train_accuracy / len(train_loader)        \n",
        "        train_accuracy.append(epoch_train_accuracy)\n",
        "\n",
        "        print(f\"Epoch: {epoch+1}/{epochs} - Train loss {epoch_train_loss:.3f} - Train accuracy {epoch_train_accuracy:.3f}\")\n",
        "\n",
        "    history = {\n",
        "        \"loss\": train_loss,\n",
        "        \"accuracy\": train_accuracy,\n",
        "    }\n",
        "    \n",
        "    return history"
      ]
    },
    {
      "cell_type": "code",
      "execution_count": 18,
      "metadata": {
        "colab": {
          "base_uri": "https://localhost:8080/"
        },
        "id": "r6hi4EcdOghm",
        "outputId": "b369669d-4b0b-457f-b361-c07735c52ce2"
      },
      "outputs": [
        {
          "output_type": "stream",
          "name": "stdout",
          "text": [
            "Epoch: 1/200 - Train loss 2.195 - Train accuracy 0.133\n",
            "Epoch: 2/200 - Train loss 2.196 - Train accuracy 0.167\n",
            "Epoch: 3/200 - Train loss 2.194 - Train accuracy 0.233\n",
            "Epoch: 4/200 - Train loss 2.195 - Train accuracy 0.167\n",
            "Epoch: 5/200 - Train loss 2.196 - Train accuracy 0.267\n",
            "Epoch: 6/200 - Train loss 2.195 - Train accuracy 0.233\n",
            "Epoch: 7/200 - Train loss 2.193 - Train accuracy 0.233\n",
            "Epoch: 8/200 - Train loss 2.194 - Train accuracy 0.200\n",
            "Epoch: 9/200 - Train loss 2.193 - Train accuracy 0.200\n",
            "Epoch: 10/200 - Train loss 2.193 - Train accuracy 0.167\n",
            "Epoch: 11/200 - Train loss 2.191 - Train accuracy 0.167\n",
            "Epoch: 12/200 - Train loss 2.191 - Train accuracy 0.233\n",
            "Epoch: 13/200 - Train loss 2.193 - Train accuracy 0.200\n",
            "Epoch: 14/200 - Train loss 2.191 - Train accuracy 0.233\n",
            "Epoch: 15/200 - Train loss 2.191 - Train accuracy 0.167\n",
            "Epoch: 16/200 - Train loss 2.190 - Train accuracy 0.200\n",
            "Epoch: 17/200 - Train loss 2.192 - Train accuracy 0.167\n",
            "Epoch: 18/200 - Train loss 2.190 - Train accuracy 0.267\n",
            "Epoch: 19/200 - Train loss 2.188 - Train accuracy 0.233\n",
            "Epoch: 20/200 - Train loss 2.190 - Train accuracy 0.233\n",
            "Epoch: 21/200 - Train loss 2.187 - Train accuracy 0.267\n",
            "Epoch: 22/200 - Train loss 2.188 - Train accuracy 0.233\n",
            "Epoch: 23/200 - Train loss 2.190 - Train accuracy 0.167\n",
            "Epoch: 24/200 - Train loss 2.186 - Train accuracy 0.233\n",
            "Epoch: 25/200 - Train loss 2.185 - Train accuracy 0.167\n",
            "Epoch: 26/200 - Train loss 2.186 - Train accuracy 0.200\n",
            "Epoch: 27/200 - Train loss 2.183 - Train accuracy 0.267\n",
            "Epoch: 28/200 - Train loss 2.183 - Train accuracy 0.233\n",
            "Epoch: 29/200 - Train loss 2.180 - Train accuracy 0.200\n",
            "Epoch: 30/200 - Train loss 2.179 - Train accuracy 0.300\n",
            "Epoch: 31/200 - Train loss 2.178 - Train accuracy 0.233\n",
            "Epoch: 32/200 - Train loss 2.179 - Train accuracy 0.267\n",
            "Epoch: 33/200 - Train loss 2.182 - Train accuracy 0.267\n",
            "Epoch: 34/200 - Train loss 2.176 - Train accuracy 0.233\n",
            "Epoch: 35/200 - Train loss 2.179 - Train accuracy 0.233\n",
            "Epoch: 36/200 - Train loss 2.175 - Train accuracy 0.333\n",
            "Epoch: 37/200 - Train loss 2.174 - Train accuracy 0.200\n",
            "Epoch: 38/200 - Train loss 2.165 - Train accuracy 0.300\n",
            "Epoch: 39/200 - Train loss 2.175 - Train accuracy 0.267\n",
            "Epoch: 40/200 - Train loss 2.171 - Train accuracy 0.167\n",
            "Epoch: 41/200 - Train loss 2.165 - Train accuracy 0.300\n",
            "Epoch: 42/200 - Train loss 2.167 - Train accuracy 0.200\n",
            "Epoch: 43/200 - Train loss 2.165 - Train accuracy 0.233\n",
            "Epoch: 44/200 - Train loss 2.163 - Train accuracy 0.333\n",
            "Epoch: 45/200 - Train loss 2.160 - Train accuracy 0.267\n",
            "Epoch: 46/200 - Train loss 2.163 - Train accuracy 0.300\n",
            "Epoch: 47/200 - Train loss 2.161 - Train accuracy 0.267\n",
            "Epoch: 48/200 - Train loss 2.156 - Train accuracy 0.333\n",
            "Epoch: 49/200 - Train loss 2.154 - Train accuracy 0.267\n",
            "Epoch: 50/200 - Train loss 2.156 - Train accuracy 0.267\n",
            "Epoch: 51/200 - Train loss 2.154 - Train accuracy 0.300\n",
            "Epoch: 52/200 - Train loss 2.138 - Train accuracy 0.300\n",
            "Epoch: 53/200 - Train loss 2.138 - Train accuracy 0.333\n",
            "Epoch: 54/200 - Train loss 2.129 - Train accuracy 0.267\n",
            "Epoch: 55/200 - Train loss 2.139 - Train accuracy 0.267\n",
            "Epoch: 56/200 - Train loss 2.108 - Train accuracy 0.367\n",
            "Epoch: 57/200 - Train loss 2.131 - Train accuracy 0.267\n",
            "Epoch: 58/200 - Train loss 2.112 - Train accuracy 0.300\n",
            "Epoch: 59/200 - Train loss 2.122 - Train accuracy 0.333\n",
            "Epoch: 60/200 - Train loss 2.114 - Train accuracy 0.300\n",
            "Epoch: 61/200 - Train loss 2.098 - Train accuracy 0.333\n",
            "Epoch: 62/200 - Train loss 2.091 - Train accuracy 0.333\n",
            "Epoch: 63/200 - Train loss 2.084 - Train accuracy 0.333\n",
            "Epoch: 64/200 - Train loss 2.089 - Train accuracy 0.400\n",
            "Epoch: 65/200 - Train loss 2.085 - Train accuracy 0.300\n",
            "Epoch: 66/200 - Train loss 2.085 - Train accuracy 0.333\n",
            "Epoch: 67/200 - Train loss 2.082 - Train accuracy 0.333\n",
            "Epoch: 68/200 - Train loss 2.078 - Train accuracy 0.333\n",
            "Epoch: 69/200 - Train loss 2.044 - Train accuracy 0.300\n",
            "Epoch: 70/200 - Train loss 2.060 - Train accuracy 0.333\n",
            "Epoch: 71/200 - Train loss 2.062 - Train accuracy 0.433\n",
            "Epoch: 72/200 - Train loss 2.021 - Train accuracy 0.433\n",
            "Epoch: 73/200 - Train loss 2.037 - Train accuracy 0.400\n",
            "Epoch: 74/200 - Train loss 2.057 - Train accuracy 0.333\n",
            "Epoch: 75/200 - Train loss 1.994 - Train accuracy 0.433\n",
            "Epoch: 76/200 - Train loss 2.022 - Train accuracy 0.367\n",
            "Epoch: 77/200 - Train loss 2.009 - Train accuracy 0.400\n",
            "Epoch: 78/200 - Train loss 2.011 - Train accuracy 0.400\n",
            "Epoch: 79/200 - Train loss 1.991 - Train accuracy 0.467\n",
            "Epoch: 80/200 - Train loss 2.004 - Train accuracy 0.433\n",
            "Epoch: 81/200 - Train loss 1.988 - Train accuracy 0.467\n",
            "Epoch: 82/200 - Train loss 1.959 - Train accuracy 0.533\n",
            "Epoch: 83/200 - Train loss 1.996 - Train accuracy 0.433\n",
            "Epoch: 84/200 - Train loss 1.975 - Train accuracy 0.500\n",
            "Epoch: 85/200 - Train loss 1.954 - Train accuracy 0.500\n",
            "Epoch: 86/200 - Train loss 1.984 - Train accuracy 0.433\n",
            "Epoch: 87/200 - Train loss 1.953 - Train accuracy 0.500\n",
            "Epoch: 88/200 - Train loss 1.975 - Train accuracy 0.533\n",
            "Epoch: 89/200 - Train loss 1.936 - Train accuracy 0.533\n",
            "Epoch: 90/200 - Train loss 1.931 - Train accuracy 0.533\n",
            "Epoch: 91/200 - Train loss 1.919 - Train accuracy 0.600\n",
            "Epoch: 92/200 - Train loss 1.921 - Train accuracy 0.567\n",
            "Epoch: 93/200 - Train loss 1.918 - Train accuracy 0.533\n",
            "Epoch: 94/200 - Train loss 1.873 - Train accuracy 0.567\n",
            "Epoch: 95/200 - Train loss 1.894 - Train accuracy 0.567\n",
            "Epoch: 96/200 - Train loss 1.898 - Train accuracy 0.533\n",
            "Epoch: 97/200 - Train loss 1.913 - Train accuracy 0.567\n",
            "Epoch: 98/200 - Train loss 1.855 - Train accuracy 0.600\n",
            "Epoch: 99/200 - Train loss 1.850 - Train accuracy 0.567\n",
            "Epoch: 100/200 - Train loss 1.880 - Train accuracy 0.567\n",
            "Epoch: 101/200 - Train loss 1.824 - Train accuracy 0.600\n",
            "Epoch: 102/200 - Train loss 1.878 - Train accuracy 0.600\n",
            "Epoch: 103/200 - Train loss 1.865 - Train accuracy 0.533\n",
            "Epoch: 104/200 - Train loss 1.841 - Train accuracy 0.567\n",
            "Epoch: 105/200 - Train loss 1.876 - Train accuracy 0.567\n",
            "Epoch: 106/200 - Train loss 1.848 - Train accuracy 0.733\n",
            "Epoch: 107/200 - Train loss 1.858 - Train accuracy 0.600\n",
            "Epoch: 108/200 - Train loss 1.854 - Train accuracy 0.633\n",
            "Epoch: 109/200 - Train loss 1.873 - Train accuracy 0.567\n",
            "Epoch: 110/200 - Train loss 1.832 - Train accuracy 0.600\n",
            "Epoch: 111/200 - Train loss 1.839 - Train accuracy 0.600\n",
            "Epoch: 112/200 - Train loss 1.842 - Train accuracy 0.600\n",
            "Epoch: 113/200 - Train loss 1.779 - Train accuracy 0.667\n",
            "Epoch: 114/200 - Train loss 1.808 - Train accuracy 0.633\n",
            "Epoch: 115/200 - Train loss 1.786 - Train accuracy 0.600\n",
            "Epoch: 116/200 - Train loss 1.808 - Train accuracy 0.700\n",
            "Epoch: 117/200 - Train loss 1.760 - Train accuracy 0.667\n",
            "Epoch: 118/200 - Train loss 1.777 - Train accuracy 0.633\n",
            "Epoch: 119/200 - Train loss 1.760 - Train accuracy 0.700\n",
            "Epoch: 120/200 - Train loss 1.767 - Train accuracy 0.733\n",
            "Epoch: 121/200 - Train loss 1.790 - Train accuracy 0.667\n",
            "Epoch: 122/200 - Train loss 1.768 - Train accuracy 0.733\n",
            "Epoch: 123/200 - Train loss 1.755 - Train accuracy 0.667\n",
            "Epoch: 124/200 - Train loss 1.770 - Train accuracy 0.700\n",
            "Epoch: 125/200 - Train loss 1.777 - Train accuracy 0.667\n",
            "Epoch: 126/200 - Train loss 1.754 - Train accuracy 0.833\n",
            "Epoch: 127/200 - Train loss 1.724 - Train accuracy 0.667\n",
            "Epoch: 128/200 - Train loss 1.750 - Train accuracy 0.700\n",
            "Epoch: 129/200 - Train loss 1.724 - Train accuracy 0.733\n",
            "Epoch: 130/200 - Train loss 1.744 - Train accuracy 0.767\n",
            "Epoch: 131/200 - Train loss 1.736 - Train accuracy 0.733\n",
            "Epoch: 132/200 - Train loss 1.733 - Train accuracy 0.733\n",
            "Epoch: 133/200 - Train loss 1.720 - Train accuracy 0.733\n",
            "Epoch: 134/200 - Train loss 1.704 - Train accuracy 0.800\n",
            "Epoch: 135/200 - Train loss 1.716 - Train accuracy 0.833\n",
            "Epoch: 136/200 - Train loss 1.725 - Train accuracy 0.800\n",
            "Epoch: 137/200 - Train loss 1.710 - Train accuracy 0.767\n",
            "Epoch: 138/200 - Train loss 1.703 - Train accuracy 0.733\n",
            "Epoch: 139/200 - Train loss 1.708 - Train accuracy 0.833\n",
            "Epoch: 140/200 - Train loss 1.712 - Train accuracy 0.767\n",
            "Epoch: 141/200 - Train loss 1.689 - Train accuracy 0.800\n",
            "Epoch: 142/200 - Train loss 1.715 - Train accuracy 0.733\n",
            "Epoch: 143/200 - Train loss 1.691 - Train accuracy 0.833\n",
            "Epoch: 144/200 - Train loss 1.689 - Train accuracy 0.767\n",
            "Epoch: 145/200 - Train loss 1.671 - Train accuracy 0.800\n",
            "Epoch: 146/200 - Train loss 1.701 - Train accuracy 0.867\n",
            "Epoch: 147/200 - Train loss 1.667 - Train accuracy 0.833\n",
            "Epoch: 148/200 - Train loss 1.661 - Train accuracy 0.833\n",
            "Epoch: 149/200 - Train loss 1.665 - Train accuracy 0.833\n",
            "Epoch: 150/200 - Train loss 1.655 - Train accuracy 0.833\n",
            "Epoch: 151/200 - Train loss 1.653 - Train accuracy 0.800\n",
            "Epoch: 152/200 - Train loss 1.643 - Train accuracy 0.833\n",
            "Epoch: 153/200 - Train loss 1.642 - Train accuracy 0.900\n",
            "Epoch: 154/200 - Train loss 1.581 - Train accuracy 0.867\n",
            "Epoch: 155/200 - Train loss 1.597 - Train accuracy 0.867\n",
            "Epoch: 156/200 - Train loss 1.647 - Train accuracy 0.900\n",
            "Epoch: 157/200 - Train loss 1.645 - Train accuracy 0.867\n",
            "Epoch: 158/200 - Train loss 1.610 - Train accuracy 0.900\n",
            "Epoch: 159/200 - Train loss 1.612 - Train accuracy 0.867\n",
            "Epoch: 160/200 - Train loss 1.615 - Train accuracy 0.867\n",
            "Epoch: 161/200 - Train loss 1.617 - Train accuracy 0.867\n",
            "Epoch: 162/200 - Train loss 1.578 - Train accuracy 0.867\n",
            "Epoch: 163/200 - Train loss 1.610 - Train accuracy 0.833\n",
            "Epoch: 164/200 - Train loss 1.621 - Train accuracy 0.867\n",
            "Epoch: 165/200 - Train loss 1.576 - Train accuracy 0.900\n",
            "Epoch: 166/200 - Train loss 1.558 - Train accuracy 0.900\n",
            "Epoch: 167/200 - Train loss 1.564 - Train accuracy 0.900\n",
            "Epoch: 168/200 - Train loss 1.557 - Train accuracy 0.900\n",
            "Epoch: 169/200 - Train loss 1.559 - Train accuracy 0.900\n",
            "Epoch: 170/200 - Train loss 1.587 - Train accuracy 0.867\n",
            "Epoch: 171/200 - Train loss 1.571 - Train accuracy 0.900\n",
            "Epoch: 172/200 - Train loss 1.630 - Train accuracy 0.900\n",
            "Epoch: 173/200 - Train loss 1.582 - Train accuracy 0.900\n",
            "Epoch: 174/200 - Train loss 1.575 - Train accuracy 0.900\n",
            "Epoch: 175/200 - Train loss 1.560 - Train accuracy 0.900\n",
            "Epoch: 176/200 - Train loss 1.540 - Train accuracy 0.900\n",
            "Epoch: 177/200 - Train loss 1.571 - Train accuracy 0.867\n",
            "Epoch: 178/200 - Train loss 1.575 - Train accuracy 0.900\n",
            "Epoch: 179/200 - Train loss 1.513 - Train accuracy 0.900\n",
            "Epoch: 180/200 - Train loss 1.572 - Train accuracy 0.900\n",
            "Epoch: 181/200 - Train loss 1.568 - Train accuracy 0.900\n",
            "Epoch: 182/200 - Train loss 1.521 - Train accuracy 0.900\n",
            "Epoch: 183/200 - Train loss 1.528 - Train accuracy 0.900\n",
            "Epoch: 184/200 - Train loss 1.523 - Train accuracy 0.900\n",
            "Epoch: 185/200 - Train loss 1.599 - Train accuracy 0.800\n",
            "Epoch: 186/200 - Train loss 1.555 - Train accuracy 0.900\n",
            "Epoch: 187/200 - Train loss 1.516 - Train accuracy 0.867\n",
            "Epoch: 188/200 - Train loss 1.551 - Train accuracy 0.867\n",
            "Epoch: 189/200 - Train loss 1.525 - Train accuracy 0.900\n",
            "Epoch: 190/200 - Train loss 1.522 - Train accuracy 0.900\n",
            "Epoch: 191/200 - Train loss 1.521 - Train accuracy 0.900\n",
            "Epoch: 192/200 - Train loss 1.501 - Train accuracy 0.900\n",
            "Epoch: 193/200 - Train loss 1.546 - Train accuracy 0.900\n",
            "Epoch: 194/200 - Train loss 1.526 - Train accuracy 0.900\n",
            "Epoch: 195/200 - Train loss 1.513 - Train accuracy 0.900\n",
            "Epoch: 196/200 - Train loss 1.569 - Train accuracy 0.833\n",
            "Epoch: 197/200 - Train loss 1.489 - Train accuracy 0.900\n",
            "Epoch: 198/200 - Train loss 1.519 - Train accuracy 0.900\n",
            "Epoch: 199/200 - Train loss 1.508 - Train accuracy 0.900\n",
            "Epoch: 200/200 - Train loss 1.525 - Train accuracy 0.900\n"
          ]
        }
      ],
      "source": [
        "history1 = train(model1,\n",
        "                train_loader,\n",
        "                model1_optimizer,\n",
        "                model1_criterion,\n",
        "                epochs=200\n",
        "                )"
      ]
    },
    {
      "cell_type": "code",
      "execution_count": 19,
      "metadata": {
        "colab": {
          "base_uri": "https://localhost:8080/",
          "height": 430
        },
        "id": "Pb1GZDjGRP6Q",
        "outputId": "e2122fba-b0de-461e-b0ea-ce4477d62bcf"
      },
      "outputs": [
        {
          "output_type": "display_data",
          "data": {
            "text/plain": [
              "<Figure size 640x480 with 1 Axes>"
            ],
            "image/png": "[encoded data removed]"
          },
          "metadata": {}
        }
      ],
      "source": [
        "epoch_count = range(1, len(history1['accuracy']) + 1)\n",
        "sns.lineplot(x=epoch_count,  y=history1['accuracy'], label='train')\n",
        "plt.show()"
      ]
    },
    {
      "cell_type": "markdown",
      "metadata": {
        "id": "TnD1WvhBfVYR"
      },
      "source": [
        "### 6 - Testing y validación"
      ]
    },
    {
      "cell_type": "code",
      "execution_count": 20,
      "metadata": {
        "id": "kqBdSGt8Orkm"
      },
      "outputs": [],
      "source": [
        "def text_to_tokens(text): \n",
        "    lemma_tokens = []\n",
        "    tokens = nlp(preprocess_clean_text(text.lower()))\n",
        "    for token in tokens:\n",
        "        lemma_tokens.append(token.lemma_)\n",
        "    #print(lemma_tokens)\n",
        "    return lemma_tokens\n",
        "\n",
        "def bag_of_words(text, vocab): \n",
        "    tokens = text_to_tokens(text)\n",
        "    bow = [0] * len(vocab)\n",
        "    for w in tokens: \n",
        "        for idx, word in enumerate(vocab):\n",
        "            if word == w: \n",
        "                bow[idx] = 1\n",
        "    #print(bow)\n",
        "    return np.array(bow)\n",
        "\n",
        "def pred_class(text, vocab, labels): \n",
        "    bow = bag_of_words(text, vocab)\n",
        "    words_recognized = sum(bow)\n",
        "\n",
        "    return_list = []\n",
        "    if words_recognized > 0:\n",
        "        x = torch.from_numpy(np.array([bow]).astype(np.float32))\n",
        "        result = model1(x)[0].detach().numpy()\n",
        "        thresh = 0.2\n",
        "        y_pred = [[idx, res] for idx, res in enumerate(result) if res > thresh]\n",
        "        y_pred.sort(key=lambda x: x[1], reverse=True)\n",
        "\n",
        "        for r in y_pred:\n",
        "            return_list.append(labels[r[0]])\n",
        "            #print(labels[r[0]], r[1])\n",
        "\n",
        "    return return_list\n",
        "\n",
        "def get_response(intents_list, intents_json):\n",
        "    tag = intents_list[0]\n",
        "    list_of_intents = intents_json[\"intents\"]\n",
        "    for i in list_of_intents: \n",
        "        if i[\"tag\"] == tag:\n",
        "            result = \"BOT: \" + random.choice(i[\"responses\"])\n",
        "            break\n",
        "    return result"
      ]
    },
    {
      "cell_type": "code",
      "execution_count": 21,
      "metadata": {
        "colab": {
          "base_uri": "https://localhost:8080/"
        },
        "id": "CivDeypZNF2o",
        "outputId": "99736893-1509-4356-b15d-463362fe8967"
      },
      "outputs": [
        {
          "output_type": "stream",
          "name": "stdout",
          "text": [
            "BOT: Podes escribir tu numero de a pares separados por un guion\n"
          ]
        }
      ],
      "source": [
        "message = \"Hola buenos dias\"\n",
        "intents = pred_class(message, words, classes)\n",
        "if len(intents) > 0:\n",
        "    result = get_response(intents, dataset)\n",
        "    print(result)"
      ]
    },
    {
      "cell_type": "code",
      "execution_count": 22,
      "metadata": {
        "id": "Xp1vXQwdOvl7",
        "colab": {
          "base_uri": "https://localhost:8080/",
          "height": 747
        },
        "outputId": "db77adb4-c105-4c05-880c-18510ab100bf"
      },
      "outputs": [
        {
          "output_type": "stream",
          "name": "stdout",
          "text": [
            "stock\n",
            "BOT: Hola tenemos stock, el tiempo de disponibildad aparece en la publicacion\n",
            "cuando me llega\n",
            "BOT: el envio lo hace meli, segun tu zona te deberia aparecer en la publicacion\n",
            "sljfoasf\n",
            "Perdón, no comprendo la pregunta.\n",
            "para cuantos jugadores?\n",
            "BOT: esta version es de 2 a 10 jugadores\n",
            "tiene expansiones\n",
            "BOT: hola no podemos adelantar las entregas ya que dependen de meli, si podes retirarlo antes\n",
            "viene con las expansiones\n",
            "BOT: Este juego es una edición especial preparada para jugar de a 10 jugadores, trae una cantidad de cartas de cartas similar al que viene con expansiones pero en distinta distribucion\n",
            "quiero agregar las expansiones\n",
            "BOT: Este juego es una edición especial preparada para jugar de a 10 jugadores, trae una cantidad de cartas de cartas similar al que viene con expansiones pero en distinta distribucion\n",
            "como los contacto\n",
            "BOT: Hola en insta somos zu3juegos_\n",
            "Gracias\n",
            "BOT: Por nada!, cualquier otra consulta podes escribirme\n",
            "ya hice la compra\n",
            "BOT: Por nada!, cualquier otra consulta podes escribirme\n"
          ]
        },
        {
          "output_type": "error",
          "ename": "KeyboardInterrupt",
          "evalue": "ignored",
          "traceback": [
            "\u001b[0;31m---------------------------------------------------------------------------\u001b[0m",
            "\u001b[0;31mKeyboardInterrupt\u001b[0m                         Traceback (most recent call last)",
            "\u001b[0;32m<ipython-input-22-cf5f658f278f>\u001b[0m in \u001b[0;36m<cell line: 1>\u001b[0;34m()\u001b[0m\n\u001b[1;32m      1\u001b[0m \u001b[0;32mwhile\u001b[0m \u001b[0;32mTrue\u001b[0m\u001b[0;34m:\u001b[0m\u001b[0;34m\u001b[0m\u001b[0;34m\u001b[0m\u001b[0m\n\u001b[0;32m----> 2\u001b[0;31m     \u001b[0mmessage\u001b[0m \u001b[0;34m=\u001b[0m \u001b[0minput\u001b[0m\u001b[0;34m(\u001b[0m\u001b[0;34m\"\"\u001b[0m\u001b[0;34m)\u001b[0m\u001b[0;34m\u001b[0m\u001b[0;34m\u001b[0m\u001b[0m\n\u001b[0m\u001b[1;32m      3\u001b[0m     \u001b[0mintents\u001b[0m \u001b[0;34m=\u001b[0m \u001b[0mpred_class\u001b[0m\u001b[0;34m(\u001b[0m\u001b[0mmessage\u001b[0m\u001b[0;34m,\u001b[0m \u001b[0mwords\u001b[0m\u001b[0;34m,\u001b[0m \u001b[0mclasses\u001b[0m\u001b[0;34m)\u001b[0m\u001b[0;34m\u001b[0m\u001b[0;34m\u001b[0m\u001b[0m\n\u001b[1;32m      4\u001b[0m     \u001b[0;32mif\u001b[0m \u001b[0mlen\u001b[0m\u001b[0;34m(\u001b[0m\u001b[0mintents\u001b[0m\u001b[0;34m)\u001b[0m \u001b[0;34m>\u001b[0m \u001b[0;36m0\u001b[0m\u001b[0;34m:\u001b[0m\u001b[0;34m\u001b[0m\u001b[0;34m\u001b[0m\u001b[0m\n\u001b[1;32m      5\u001b[0m         \u001b[0mresult\u001b[0m \u001b[0;34m=\u001b[0m \u001b[0mget_response\u001b[0m\u001b[0;34m(\u001b[0m\u001b[0mintents\u001b[0m\u001b[0;34m,\u001b[0m \u001b[0mdataset\u001b[0m\u001b[0;34m)\u001b[0m\u001b[0;34m\u001b[0m\u001b[0;34m\u001b[0m\u001b[0m\n",
            "\u001b[0;32m/usr/local/lib/python3.10/dist-packages/ipykernel/kernelbase.py\u001b[0m in \u001b[0;36mraw_input\u001b[0;34m(self, prompt)\u001b[0m\n\u001b[1;32m    849\u001b[0m                 \u001b[0;34m\"raw_input was called, but this frontend does not support input requests.\"\u001b[0m\u001b[0;34m\u001b[0m\u001b[0;34m\u001b[0m\u001b[0m\n\u001b[1;32m    850\u001b[0m             )\n\u001b[0;32m--> 851\u001b[0;31m         return self._input_request(str(prompt),\n\u001b[0m\u001b[1;32m    852\u001b[0m             \u001b[0mself\u001b[0m\u001b[0;34m.\u001b[0m\u001b[0m_parent_ident\u001b[0m\u001b[0;34m,\u001b[0m\u001b[0;34m\u001b[0m\u001b[0;34m\u001b[0m\u001b[0m\n\u001b[1;32m    853\u001b[0m             \u001b[0mself\u001b[0m\u001b[0;34m.\u001b[0m\u001b[0m_parent_header\u001b[0m\u001b[0;34m,\u001b[0m\u001b[0;34m\u001b[0m\u001b[0;34m\u001b[0m\u001b[0m\n",
            "\u001b[0;32m/usr/local/lib/python3.10/dist-packages/ipykernel/kernelbase.py\u001b[0m in \u001b[0;36m_input_request\u001b[0;34m(self, prompt, ident, parent, password)\u001b[0m\n\u001b[1;32m    893\u001b[0m             \u001b[0;32mexcept\u001b[0m \u001b[0mKeyboardInterrupt\u001b[0m\u001b[0;34m:\u001b[0m\u001b[0;34m\u001b[0m\u001b[0;34m\u001b[0m\u001b[0m\n\u001b[1;32m    894\u001b[0m                 \u001b[0;31m# re-raise KeyboardInterrupt, to truncate traceback\u001b[0m\u001b[0;34m\u001b[0m\u001b[0;34m\u001b[0m\u001b[0m\n\u001b[0;32m--> 895\u001b[0;31m                 \u001b[0;32mraise\u001b[0m \u001b[0mKeyboardInterrupt\u001b[0m\u001b[0;34m(\u001b[0m\u001b[0;34m\"Interrupted by user\"\u001b[0m\u001b[0;34m)\u001b[0m \u001b[0;32mfrom\u001b[0m \u001b[0;32mNone\u001b[0m\u001b[0;34m\u001b[0m\u001b[0;34m\u001b[0m\u001b[0m\n\u001b[0m\u001b[1;32m    896\u001b[0m             \u001b[0;32mexcept\u001b[0m \u001b[0mException\u001b[0m \u001b[0;32mas\u001b[0m \u001b[0me\u001b[0m\u001b[0;34m:\u001b[0m\u001b[0;34m\u001b[0m\u001b[0;34m\u001b[0m\u001b[0m\n\u001b[1;32m    897\u001b[0m                 \u001b[0mself\u001b[0m\u001b[0;34m.\u001b[0m\u001b[0mlog\u001b[0m\u001b[0;34m.\u001b[0m\u001b[0mwarning\u001b[0m\u001b[0;34m(\u001b[0m\u001b[0;34m\"Invalid Message:\"\u001b[0m\u001b[0;34m,\u001b[0m \u001b[0mexc_info\u001b[0m\u001b[0;34m=\u001b[0m\u001b[0;32mTrue\u001b[0m\u001b[0;34m)\u001b[0m\u001b[0;34m\u001b[0m\u001b[0;34m\u001b[0m\u001b[0m\n",
            "\u001b[0;31mKeyboardInterrupt\u001b[0m: Interrupted by user"
          ]
        }
      ],
      "source": [
        "while True:\n",
        "    message = input(\"\")\n",
        "    intents = pred_class(message, words, classes)\n",
        "    if len(intents) > 0:\n",
        "        result = get_response(intents, dataset)\n",
        "        print(result)\n",
        "    else:\n",
        "        print(\"Perdón, no comprendo la pregunta.\")\n",
        "    "
      ]
    },
    {
      "cell_type": "markdown",
      "metadata": {
        "id": "ayatkwp4fYQx"
      },
      "source": [
        "### 7 - Conclusiones\n",
        "El bot tal cual está definido es capaz de responder a bastantes tipos de preguntas con gran precisión. Algunas técnicas que podrían ensayarse para evaluar como impactan en el sistema son:\n",
        "- Filtrar los stop words\n",
        "- Utilizar multi label classification:\\\n",
        "https://machinelearningmastery.com/multi-label-classification-with-deep-learning/\n",
        "- Utilizar TF-IDF en vez de bag of words"
      ]
    }
  ],
  "metadata": {
    "colab": {
      "provenance": [],
      "include_colab_link": true
    },
    "kernelspec": {
      "display_name": "Python 3 (ipykernel)",
      "language": "python",
      "name": "python3"
    },
    "language_info": {
      "codemirror_mode": {
        "name": "ipython",
        "version": 3
      },
      "file_extension": ".py",
      "mimetype": "text/x-python",
      "name": "python",
      "nbconvert_exporter": "python",
      "pygments_lexer": "ipython3",
      "version": "3.10.6"
    },
    "widgets": {
      "application/vnd.jupyter.widget-state+json": {
        "0dfd6ed3833e41aa8d9e5f9d8a26aaef": {
          "model_module": "@jupyter-widgets/controls",
          "model_name": "HBoxModel",
          "model_module_version": "1.5.0",
          "state": {
            "_dom_classes": [],
            "_model_module": "@jupyter-widgets/controls",
            "_model_module_version": "1.5.0",
            "_model_name": "HBoxModel",
            "_view_count": null,
            "_view_module": "@jupyter-widgets/controls",
            "_view_module_version": "1.5.0",
            "_view_name": "HBoxView",
            "box_style": "",
            "children": [
              "IPY_MODEL_f4fbeb482a8c489da7359e7256695e35",
              "IPY_MODEL_dc61e2dbc9864345a20611a4b71f35f5",
              "IPY_MODEL_c9ce0cef7b0d450099b2dfff2fbc83f1"
            ],
            "layout": "IPY_MODEL_6f6b5cb82e9445b0aa980405af7d551a"
          }
        },
        "f4fbeb482a8c489da7359e7256695e35": {
          "model_module": "@jupyter-widgets/controls",
          "model_name": "HTMLModel",
          "model_module_version": "1.5.0",
          "state": {
            "_dom_classes": [],
            "_model_module": "@jupyter-widgets/controls",
            "_model_module_version": "1.5.0",
            "_model_name": "HTMLModel",
            "_view_count": null,
            "_view_module": "@jupyter-widgets/controls",
            "_view_module_version": "1.5.0",
            "_view_name": "HTMLView",
            "description": "",
            "description_tooltip": null,
            "layout": "IPY_MODEL_a88b0eecdb9c4c018722ba745b9679c6",
            "placeholder": "​",
            "style": "IPY_MODEL_ac04f4ad845349db80691f349db27b8d",
            "value": "Downloading https://raw.githubusercontent.com/stanfordnlp/stanza-resources/main/resources_1.2.2.json: "
          }
        },
        "dc61e2dbc9864345a20611a4b71f35f5": {
          "model_module": "@jupyter-widgets/controls",
          "model_name": "FloatProgressModel",
          "model_module_version": "1.5.0",
          "state": {
            "_dom_classes": [],
            "_model_module": "@jupyter-widgets/controls",
            "_model_module_version": "1.5.0",
            "_model_name": "FloatProgressModel",
            "_view_count": null,
            "_view_module": "@jupyter-widgets/controls",
            "_view_module_version": "1.5.0",
            "_view_name": "ProgressView",
            "bar_style": "success",
            "description": "",
            "description_tooltip": null,
            "layout": "IPY_MODEL_5be61108ff864ab38d6f19d94c8defa6",
            "max": 24144,
            "min": 0,
            "orientation": "horizontal",
            "style": "IPY_MODEL_bc7149f8d9f542338df616085ebfca93",
            "value": 24144
          }
        },
        "c9ce0cef7b0d450099b2dfff2fbc83f1": {
          "model_module": "@jupyter-widgets/controls",
          "model_name": "HTMLModel",
          "model_module_version": "1.5.0",
          "state": {
            "_dom_classes": [],
            "_model_module": "@jupyter-widgets/controls",
            "_model_module_version": "1.5.0",
            "_model_name": "HTMLModel",
            "_view_count": null,
            "_view_module": "@jupyter-widgets/controls",
            "_view_module_version": "1.5.0",
            "_view_name": "HTMLView",
            "description": "",
            "description_tooltip": null,
            "layout": "IPY_MODEL_5de054598de84727ae4b3e28a8a33331",
            "placeholder": "​",
            "style": "IPY_MODEL_37d313935409470b8553ff5cecd597f3",
            "value": " 140k/? [00:00&lt;00:00, 2.94MB/s]"
          }
        },
        "6f6b5cb82e9445b0aa980405af7d551a": {
          "model_module": "@jupyter-widgets/base",
          "model_name": "LayoutModel",
          "model_module_version": "1.2.0",
          "state": {
            "_model_module": "@jupyter-widgets/base",
            "_model_module_version": "1.2.0",
            "_model_name": "LayoutModel",
            "_view_count": null,
            "_view_module": "@jupyter-widgets/base",
            "_view_module_version": "1.2.0",
            "_view_name": "LayoutView",
            "align_content": null,
            "align_items": null,
            "align_self": null,
            "border": null,
            "bottom": null,
            "display": null,
            "flex": null,
            "flex_flow": null,
            "grid_area": null,
            "grid_auto_columns": null,
            "grid_auto_flow": null,
            "grid_auto_rows": null,
            "grid_column": null,
            "grid_gap": null,
            "grid_row": null,
            "grid_template_areas": null,
            "grid_template_columns": null,
            "grid_template_rows": null,
            "height": null,
            "justify_content": null,
            "justify_items": null,
            "left": null,
            "margin": null,
            "max_height": null,
            "max_width": null,
            "min_height": null,
            "min_width": null,
            "object_fit": null,
            "object_position": null,
            "order": null,
            "overflow": null,
            "overflow_x": null,
            "overflow_y": null,
            "padding": null,
            "right": null,
            "top": null,
            "visibility": null,
            "width": null
          }
        },
        "a88b0eecdb9c4c018722ba745b9679c6": {
          "model_module": "@jupyter-widgets/base",
          "model_name": "LayoutModel",
          "model_module_version": "1.2.0",
          "state": {
            "_model_module": "@jupyter-widgets/base",
            "_model_module_version": "1.2.0",
            "_model_name": "LayoutModel",
            "_view_count": null,
            "_view_module": "@jupyter-widgets/base",
            "_view_module_version": "1.2.0",
            "_view_name": "LayoutView",
            "align_content": null,
            "align_items": null,
            "align_self": null,
            "border": null,
            "bottom": null,
            "display": null,
            "flex": null,
            "flex_flow": null,
            "grid_area": null,
            "grid_auto_columns": null,
            "grid_auto_flow": null,
            "grid_auto_rows": null,
            "grid_column": null,
            "grid_gap": null,
            "grid_row": null,
            "grid_template_areas": null,
            "grid_template_columns": null,
            "grid_template_rows": null,
            "height": null,
            "justify_content": null,
            "justify_items": null,
            "left": null,
            "margin": null,
            "max_height": null,
            "max_width": null,
            "min_height": null,
            "min_width": null,
            "object_fit": null,
            "object_position": null,
            "order": null,
            "overflow": null,
            "overflow_x": null,
            "overflow_y": null,
            "padding": null,
            "right": null,
            "top": null,
            "visibility": null,
            "width": null
          }
        },
        "ac04f4ad845349db80691f349db27b8d": {
          "model_module": "@jupyter-widgets/controls",
          "model_name": "DescriptionStyleModel",
          "model_module_version": "1.5.0",
          "state": {
            "_model_module": "@jupyter-widgets/controls",
            "_model_module_version": "1.5.0",
            "_model_name": "DescriptionStyleModel",
            "_view_count": null,
            "_view_module": "@jupyter-widgets/base",
            "_view_module_version": "1.2.0",
            "_view_name": "StyleView",
            "description_width": ""
          }
        },
        "5be61108ff864ab38d6f19d94c8defa6": {
          "model_module": "@jupyter-widgets/base",
          "model_name": "LayoutModel",
          "model_module_version": "1.2.0",
          "state": {
            "_model_module": "@jupyter-widgets/base",
            "_model_module_version": "1.2.0",
            "_model_name": "LayoutModel",
            "_view_count": null,
            "_view_module": "@jupyter-widgets/base",
            "_view_module_version": "1.2.0",
            "_view_name": "LayoutView",
            "align_content": null,
            "align_items": null,
            "align_self": null,
            "border": null,
            "bottom": null,
            "display": null,
            "flex": null,
            "flex_flow": null,
            "grid_area": null,
            "grid_auto_columns": null,
            "grid_auto_flow": null,
            "grid_auto_rows": null,
            "grid_column": null,
            "grid_gap": null,
            "grid_row": null,
            "grid_template_areas": null,
            "grid_template_columns": null,
            "grid_template_rows": null,
            "height": null,
            "justify_content": null,
            "justify_items": null,
            "left": null,
            "margin": null,
            "max_height": null,
            "max_width": null,
            "min_height": null,
            "min_width": null,
            "object_fit": null,
            "object_position": null,
            "order": null,
            "overflow": null,
            "overflow_x": null,
            "overflow_y": null,
            "padding": null,
            "right": null,
            "top": null,
            "visibility": null,
            "width": null
          }
        },
        "bc7149f8d9f542338df616085ebfca93": {
          "model_module": "@jupyter-widgets/controls",
          "model_name": "ProgressStyleModel",
          "model_module_version": "1.5.0",
          "state": {
            "_model_module": "@jupyter-widgets/controls",
            "_model_module_version": "1.5.0",
            "_model_name": "ProgressStyleModel",
            "_view_count": null,
            "_view_module": "@jupyter-widgets/base",
            "_view_module_version": "1.2.0",
            "_view_name": "StyleView",
            "bar_color": null,
            "description_width": ""
          }
        },
        "5de054598de84727ae4b3e28a8a33331": {
          "model_module": "@jupyter-widgets/base",
          "model_name": "LayoutModel",
          "model_module_version": "1.2.0",
          "state": {
            "_model_module": "@jupyter-widgets/base",
            "_model_module_version": "1.2.0",
            "_model_name": "LayoutModel",
            "_view_count": null,
            "_view_module": "@jupyter-widgets/base",
            "_view_module_version": "1.2.0",
            "_view_name": "LayoutView",
            "align_content": null,
            "align_items": null,
            "align_self": null,
            "border": null,
            "bottom": null,
            "display": null,
            "flex": null,
            "flex_flow": null,
            "grid_area": null,
            "grid_auto_columns": null,
            "grid_auto_flow": null,
            "grid_auto_rows": null,
            "grid_column": null,
            "grid_gap": null,
            "grid_row": null,
            "grid_template_areas": null,
            "grid_template_columns": null,
            "grid_template_rows": null,
            "height": null,
            "justify_content": null,
            "justify_items": null,
            "left": null,
            "margin": null,
            "max_height": null,
            "max_width": null,
            "min_height": null,
            "min_width": null,
            "object_fit": null,
            "object_position": null,
            "order": null,
            "overflow": null,
            "overflow_x": null,
            "overflow_y": null,
            "padding": null,
            "right": null,
            "top": null,
            "visibility": null,
            "width": null
          }
        },
        "37d313935409470b8553ff5cecd597f3": {
          "model_module": "@jupyter-widgets/controls",
          "model_name": "DescriptionStyleModel",
          "model_module_version": "1.5.0",
          "state": {
            "_model_module": "@jupyter-widgets/controls",
            "_model_module_version": "1.5.0",
            "_model_name": "DescriptionStyleModel",
            "_view_count": null,
            "_view_module": "@jupyter-widgets/base",
            "_view_module_version": "1.2.0",
            "_view_name": "StyleView",
            "description_width": ""
          }
        },
        "e65633aa294e498b90beb23ef9a51e07": {
          "model_module": "@jupyter-widgets/controls",
          "model_name": "HBoxModel",
          "model_module_version": "1.5.0",
          "state": {
            "_dom_classes": [],
            "_model_module": "@jupyter-widgets/controls",
            "_model_module_version": "1.5.0",
            "_model_name": "HBoxModel",
            "_view_count": null,
            "_view_module": "@jupyter-widgets/controls",
            "_view_module_version": "1.5.0",
            "_view_name": "HBoxView",
            "box_style": "",
            "children": [
              "IPY_MODEL_fa4a18259e33430d9e89c67283418509",
              "IPY_MODEL_c26d9e890ff04ac08a3d2ca26381f2d4",
              "IPY_MODEL_01d5a03e81e145e2b8e969a097e9268f"
            ],
            "layout": "IPY_MODEL_31ea3981e3ff45108741118308be69ea"
          }
        },
        "fa4a18259e33430d9e89c67283418509": {
          "model_module": "@jupyter-widgets/controls",
          "model_name": "HTMLModel",
          "model_module_version": "1.5.0",
          "state": {
            "_dom_classes": [],
            "_model_module": "@jupyter-widgets/controls",
            "_model_module_version": "1.5.0",
            "_model_name": "HTMLModel",
            "_view_count": null,
            "_view_module": "@jupyter-widgets/controls",
            "_view_module_version": "1.5.0",
            "_view_name": "HTMLView",
            "description": "",
            "description_tooltip": null,
            "layout": "IPY_MODEL_bc98f262216f4b6eb5cffd856dc58b48",
            "placeholder": "​",
            "style": "IPY_MODEL_cca632c32c3a4d53b7ff2620fcdf6c93",
            "value": "Downloading http://nlp.stanford.edu/software/stanza/1.2.2/es/default.zip: 100%"
          }
        },
        "c26d9e890ff04ac08a3d2ca26381f2d4": {
          "model_module": "@jupyter-widgets/controls",
          "model_name": "FloatProgressModel",
          "model_module_version": "1.5.0",
          "state": {
            "_dom_classes": [],
            "_model_module": "@jupyter-widgets/controls",
            "_model_module_version": "1.5.0",
            "_model_name": "FloatProgressModel",
            "_view_count": null,
            "_view_module": "@jupyter-widgets/controls",
            "_view_module_version": "1.5.0",
            "_view_name": "ProgressView",
            "bar_style": "success",
            "description": "",
            "description_tooltip": null,
            "layout": "IPY_MODEL_d502ad5023ad406e9c26a4f019a7b011",
            "max": 565553347,
            "min": 0,
            "orientation": "horizontal",
            "style": "IPY_MODEL_7181a2e64b8d4928a76c9e3438981ebd",
            "value": 565553347
          }
        },
        "01d5a03e81e145e2b8e969a097e9268f": {
          "model_module": "@jupyter-widgets/controls",
          "model_name": "HTMLModel",
          "model_module_version": "1.5.0",
          "state": {
            "_dom_classes": [],
            "_model_module": "@jupyter-widgets/controls",
            "_model_module_version": "1.5.0",
            "_model_name": "HTMLModel",
            "_view_count": null,
            "_view_module": "@jupyter-widgets/controls",
            "_view_module_version": "1.5.0",
            "_view_name": "HTMLView",
            "description": "",
            "description_tooltip": null,
            "layout": "IPY_MODEL_47ef22b0968647ceb01b64ee29e99c02",
            "placeholder": "​",
            "style": "IPY_MODEL_9fb0563b929b43a28f6a129d9943d05e",
            "value": " 566M/566M [01:42&lt;00:00, 5.27MB/s]"
          }
        },
        "31ea3981e3ff45108741118308be69ea": {
          "model_module": "@jupyter-widgets/base",
          "model_name": "LayoutModel",
          "model_module_version": "1.2.0",
          "state": {
            "_model_module": "@jupyter-widgets/base",
            "_model_module_version": "1.2.0",
            "_model_name": "LayoutModel",
            "_view_count": null,
            "_view_module": "@jupyter-widgets/base",
            "_view_module_version": "1.2.0",
            "_view_name": "LayoutView",
            "align_content": null,
            "align_items": null,
            "align_self": null,
            "border": null,
            "bottom": null,
            "display": null,
            "flex": null,
            "flex_flow": null,
            "grid_area": null,
            "grid_auto_columns": null,
            "grid_auto_flow": null,
            "grid_auto_rows": null,
            "grid_column": null,
            "grid_gap": null,
            "grid_row": null,
            "grid_template_areas": null,
            "grid_template_columns": null,
            "grid_template_rows": null,
            "height": null,
            "justify_content": null,
            "justify_items": null,
            "left": null,
            "margin": null,
            "max_height": null,
            "max_width": null,
            "min_height": null,
            "min_width": null,
            "object_fit": null,
            "object_position": null,
            "order": null,
            "overflow": null,
            "overflow_x": null,
            "overflow_y": null,
            "padding": null,
            "right": null,
            "top": null,
            "visibility": null,
            "width": null
          }
        },
        "bc98f262216f4b6eb5cffd856dc58b48": {
          "model_module": "@jupyter-widgets/base",
          "model_name": "LayoutModel",
          "model_module_version": "1.2.0",
          "state": {
            "_model_module": "@jupyter-widgets/base",
            "_model_module_version": "1.2.0",
            "_model_name": "LayoutModel",
            "_view_count": null,
            "_view_module": "@jupyter-widgets/base",
            "_view_module_version": "1.2.0",
            "_view_name": "LayoutView",
            "align_content": null,
            "align_items": null,
            "align_self": null,
            "border": null,
            "bottom": null,
            "display": null,
            "flex": null,
            "flex_flow": null,
            "grid_area": null,
            "grid_auto_columns": null,
            "grid_auto_flow": null,
            "grid_auto_rows": null,
            "grid_column": null,
            "grid_gap": null,
            "grid_row": null,
            "grid_template_areas": null,
            "grid_template_columns": null,
            "grid_template_rows": null,
            "height": null,
            "justify_content": null,
            "justify_items": null,
            "left": null,
            "margin": null,
            "max_height": null,
            "max_width": null,
            "min_height": null,
            "min_width": null,
            "object_fit": null,
            "object_position": null,
            "order": null,
            "overflow": null,
            "overflow_x": null,
            "overflow_y": null,
            "padding": null,
            "right": null,
            "top": null,
            "visibility": null,
            "width": null
          }
        },
        "cca632c32c3a4d53b7ff2620fcdf6c93": {
          "model_module": "@jupyter-widgets/controls",
          "model_name": "DescriptionStyleModel",
          "model_module_version": "1.5.0",
          "state": {
            "_model_module": "@jupyter-widgets/controls",
            "_model_module_version": "1.5.0",
            "_model_name": "DescriptionStyleModel",
            "_view_count": null,
            "_view_module": "@jupyter-widgets/base",
            "_view_module_version": "1.2.0",
            "_view_name": "StyleView",
            "description_width": ""
          }
        },
        "d502ad5023ad406e9c26a4f019a7b011": {
          "model_module": "@jupyter-widgets/base",
          "model_name": "LayoutModel",
          "model_module_version": "1.2.0",
          "state": {
            "_model_module": "@jupyter-widgets/base",
            "_model_module_version": "1.2.0",
            "_model_name": "LayoutModel",
            "_view_count": null,
            "_view_module": "@jupyter-widgets/base",
            "_view_module_version": "1.2.0",
            "_view_name": "LayoutView",
            "align_content": null,
            "align_items": null,
            "align_self": null,
            "border": null,
            "bottom": null,
            "display": null,
            "flex": null,
            "flex_flow": null,
            "grid_area": null,
            "grid_auto_columns": null,
            "grid_auto_flow": null,
            "grid_auto_rows": null,
            "grid_column": null,
            "grid_gap": null,
            "grid_row": null,
            "grid_template_areas": null,
            "grid_template_columns": null,
            "grid_template_rows": null,
            "height": null,
            "justify_content": null,
            "justify_items": null,
            "left": null,
            "margin": null,
            "max_height": null,
            "max_width": null,
            "min_height": null,
            "min_width": null,
            "object_fit": null,
            "object_position": null,
            "order": null,
            "overflow": null,
            "overflow_x": null,
            "overflow_y": null,
            "padding": null,
            "right": null,
            "top": null,
            "visibility": null,
            "width": null
          }
        },
        "7181a2e64b8d4928a76c9e3438981ebd": {
          "model_module": "@jupyter-widgets/controls",
          "model_name": "ProgressStyleModel",
          "model_module_version": "1.5.0",
          "state": {
            "_model_module": "@jupyter-widgets/controls",
            "_model_module_version": "1.5.0",
            "_model_name": "ProgressStyleModel",
            "_view_count": null,
            "_view_module": "@jupyter-widgets/base",
            "_view_module_version": "1.2.0",
            "_view_name": "StyleView",
            "bar_color": null,
            "description_width": ""
          }
        },
        "47ef22b0968647ceb01b64ee29e99c02": {
          "model_module": "@jupyter-widgets/base",
          "model_name": "LayoutModel",
          "model_module_version": "1.2.0",
          "state": {
            "_model_module": "@jupyter-widgets/base",
            "_model_module_version": "1.2.0",
            "_model_name": "LayoutModel",
            "_view_count": null,
            "_view_module": "@jupyter-widgets/base",
            "_view_module_version": "1.2.0",
            "_view_name": "LayoutView",
            "align_content": null,
            "align_items": null,
            "align_self": null,
            "border": null,
            "bottom": null,
            "display": null,
            "flex": null,
            "flex_flow": null,
            "grid_area": null,
            "grid_auto_columns": null,
            "grid_auto_flow": null,
            "grid_auto_rows": null,
            "grid_column": null,
            "grid_gap": null,
            "grid_row": null,
            "grid_template_areas": null,
            "grid_template_columns": null,
            "grid_template_rows": null,
            "height": null,
            "justify_content": null,
            "justify_items": null,
            "left": null,
            "margin": null,
            "max_height": null,
            "max_width": null,
            "min_height": null,
            "min_width": null,
            "object_fit": null,
            "object_position": null,
            "order": null,
            "overflow": null,
            "overflow_x": null,
            "overflow_y": null,
            "padding": null,
            "right": null,
            "top": null,
            "visibility": null,
            "width": null
          }
        },
        "9fb0563b929b43a28f6a129d9943d05e": {
          "model_module": "@jupyter-widgets/controls",
          "model_name": "DescriptionStyleModel",
          "model_module_version": "1.5.0",
          "state": {
            "_model_module": "@jupyter-widgets/controls",
            "_model_module_version": "1.5.0",
            "_model_name": "DescriptionStyleModel",
            "_view_count": null,
            "_view_module": "@jupyter-widgets/base",
            "_view_module_version": "1.2.0",
            "_view_name": "StyleView",
            "description_width": ""
          }
        }
      }
    }
  },
  "nbformat": 4,
  "nbformat_minor": 0
}
