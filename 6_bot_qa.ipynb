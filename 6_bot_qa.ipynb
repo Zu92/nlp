{
  "cells": [
    {
      "cell_type": "markdown",
      "metadata": {
        "id": "view-in-github",
        "colab_type": "text"
      },
      "source": [
        "<a href=\"https://colab.research.google.com/github/Zu92/nlp/blob/main/6_bot_qa.ipynb\" target=\"_parent\"><img src=\"https://colab.research.google.com/assets/colab-badge.svg\" alt=\"Open In Colab\"/></a>"
      ]
    },
    {
      "cell_type": "markdown",
      "metadata": {
        "id": "pfa39F4lsLf3"
      },
      "source": [
        "<img src=\"https://github.com/hernancontigiani/ceia_memorias_especializacion/raw/master/Figures/logoFIUBA.jpg\" width=\"500\" align=\"center\">\n",
        "\n",
        "\n",
        "# Procesamiento de lenguaje natural\n",
        "## LSTM Bot QA"
      ]
    },
    {
      "cell_type": "markdown",
      "metadata": {
        "id": "ZqO0PRcFsPTe"
      },
      "source": [
        "### Datos\n",
        "El objecto es utilizar datos disponibles del challenge ConvAI2 (Conversational Intelligence Challenge 2) de conversaciones en inglés. Se construirá un BOT para responder a preguntas del usuario (QA).\\\n",
        "[LINK](http://convai.io/data/)"
      ]
    },
    {
      "cell_type": "code",
      "execution_count": 1,
      "metadata": {
        "id": "bDFC0I3j9oFD"
      },
      "outputs": [],
      "source": [
        "!pip install --upgrade --no-cache-dir gdown --quiet"
      ]
    },
    {
      "cell_type": "code",
      "execution_count": 2,
      "metadata": {
        "id": "cq3YXak9sGHd"
      },
      "outputs": [],
      "source": [
        "import re\n",
        "\n",
        "import numpy as np\n",
        "import pandas as pd\n",
        "\n",
        "import tensorflow as tf\n",
        "from keras.preprocessing.text import one_hot\n",
        "from tensorflow.keras.utils import pad_sequences\n",
        "from keras.models import Sequential\n",
        "from keras.layers.core import Activation, Dropout, Dense\n",
        "from keras.layers import Flatten, LSTM, SimpleRNN\n",
        "from keras.models import Model\n",
        "from tensorflow.keras.layers import Embedding\n",
        "from sklearn.model_selection import train_test_split\n",
        "from keras.preprocessing.text import Tokenizer\n",
        "from keras.layers import Input"
      ]
    },
    {
      "cell_type": "code",
      "execution_count": 3,
      "metadata": {
        "id": "RHNkUaPp6aYq",
        "colab": {
          "base_uri": "https://localhost:8080/"
        },
        "outputId": "c7018044-6453-4a1b-9073-271b588bb2c7"
      },
      "outputs": [
        {
          "output_type": "stream",
          "name": "stdout",
          "text": [
            "El dataset ya se encuentra descargado\n"
          ]
        }
      ],
      "source": [
        "# Descargar la carpeta de dataset\n",
        "import os\n",
        "import gdown\n",
        "if os.access('data_volunteers.json', os.F_OK) is False:\n",
        "    url = 'https://drive.google.com/uc?id=1awUxYwImF84MIT5-jCaYAPe2QwSgS1hN&export=download'\n",
        "    output = 'data_volunteers.json'\n",
        "    gdown.download(url, output, quiet=False)\n",
        "else:\n",
        "    print(\"El dataset ya se encuentra descargado\")"
      ]
    },
    {
      "cell_type": "code",
      "execution_count": 4,
      "metadata": {
        "id": "WZy1-wgG-Rp7"
      },
      "outputs": [],
      "source": [
        "# dataset_file\n",
        "import json\n",
        "\n",
        "text_file = \"data_volunteers.json\"\n",
        "with open(text_file) as f:\n",
        "    data = json.load(f) # la variable data será un diccionario\n",
        "\n"
      ]
    },
    {
      "cell_type": "code",
      "execution_count": 5,
      "metadata": {
        "id": "ue5qd54S-eew",
        "colab": {
          "base_uri": "https://localhost:8080/"
        },
        "outputId": "2fb94c14-b407-42f3-8e01-ef313cf512ff"
      },
      "outputs": [
        {
          "output_type": "execute_result",
          "data": {
            "text/plain": [
              "dict_keys(['dialog', 'start_time', 'end_time', 'bot_profile', 'user_profile', 'eval_score', 'profile_match', 'participant1_id', 'participant2_id'])"
            ]
          },
          "metadata": {},
          "execution_count": 5
        }
      ],
      "source": [
        "# Observar los campos disponibles en cada linea del dataset\n",
        "data[0].keys()"
      ]
    },
    {
      "cell_type": "code",
      "execution_count": 6,
      "metadata": {
        "id": "jHBRAXPl-3dz",
        "colab": {
          "base_uri": "https://localhost:8080/"
        },
        "outputId": "034a6126-c9d1-42d6-b504-8a7a1823ec9a"
      },
      "outputs": [
        {
          "output_type": "stream",
          "name": "stdout",
          "text": [
            "Cantidad de rows utilizadas: 6033\n"
          ]
        }
      ],
      "source": [
        "chat_in = []\n",
        "chat_out = []\n",
        "\n",
        "input_sentences = []\n",
        "output_sentences = []\n",
        "output_sentences_inputs = []\n",
        "max_len = 30\n",
        "\n",
        "def clean_text(txt):\n",
        "    txt = txt.lower()\n",
        "    txt.replace(\"\\'d\", \" had\")\n",
        "    txt.replace(\"\\'s\", \" is\")\n",
        "    txt.replace(\"\\'m\", \" am\")\n",
        "    txt.replace(\"don't\", \"do not\")\n",
        "    txt = re.sub(r'\\W+', ' ', txt)\n",
        "\n",
        "    return txt\n",
        "\n",
        "for line in data:\n",
        "    for i in range(len(line['dialog'])-1):\n",
        "        # vamos separando el texto en \"preguntas\" (chat_in)\n",
        "        # y \"respuestas\" (chat_out)\n",
        "        chat_in = clean_text(line['dialog'][i]['text'])\n",
        "        chat_out = clean_text(line['dialog'][i+1]['text'])\n",
        "\n",
        "        if len(chat_in) >= max_len or len(chat_out) >= max_len:\n",
        "            continue\n",
        "\n",
        "        input_sentence, output = chat_in, chat_out\n",
        "\n",
        "        # output sentence (decoder_output) tiene <eos>\n",
        "        output_sentence = output + ' <eos>'\n",
        "        # output sentence input (decoder_input) tiene <sos>\n",
        "        output_sentence_input = '<sos> ' + output\n",
        "\n",
        "        input_sentences.append(input_sentence)\n",
        "        output_sentences.append(output_sentence)\n",
        "        output_sentences_inputs.append(output_sentence_input)\n",
        "\n",
        "print(\"Cantidad de rows utilizadas:\", len(input_sentences))"
      ]
    },
    {
      "cell_type": "code",
      "execution_count": 7,
      "metadata": {
        "id": "07L1qj8pC_l6",
        "colab": {
          "base_uri": "https://localhost:8080/"
        },
        "outputId": "4ead25cb-8eb3-4f34-993e-48341e75aac1"
      },
      "outputs": [
        {
          "output_type": "execute_result",
          "data": {
            "text/plain": [
              "('hi how are you ', 'not bad and you  <eos>', '<sos> not bad and you ')"
            ]
          },
          "metadata": {},
          "execution_count": 7
        }
      ],
      "source": [
        "input_sentences[1], output_sentences[1], output_sentences_inputs[1]"
      ]
    },
    {
      "cell_type": "markdown",
      "metadata": {
        "id": "8P-ynUNP5xp6"
      },
      "source": [
        "### 2 - Preprocesamiento\n",
        "Realizar el preprocesamiento necesario para obtener:\n",
        "- word2idx_inputs, max_input_len\n",
        "- word2idx_outputs, max_out_len, num_words_output\n",
        "- encoder_input_sequences, decoder_output_sequences, decoder_targets"
      ]
    },
    {
      "cell_type": "code",
      "source": [
        "\n",
        "# Definir el tamaño máximo del vocabulario\n",
        "MAX_VOCAB_SIZE = 8000"
      ],
      "metadata": {
        "id": "uGEEga3KB-hr"
      },
      "execution_count": 8,
      "outputs": []
    },
    {
      "cell_type": "code",
      "source": [
        "\n",
        "from keras.preprocessing.text import Tokenizer\n",
        "input_tokenizer = Tokenizer(num_words=MAX_VOCAB_SIZE)\n",
        "input_tokenizer.fit_on_texts(input_sentences)\n",
        "input_integer_seq = input_tokenizer.texts_to_sequences(input_sentences)\n",
        "\n",
        "word2idx_inputs = input_tokenizer.word_index\n",
        "print(\"Palabras en el vocabulario:\", len(word2idx_inputs))\n",
        "\n",
        "max_input_len = max(len(sen) for sen in input_integer_seq)\n",
        "print(\"Sentencia de entrada más larga:\", max_input_len)"
      ],
      "metadata": {
        "colab": {
          "base_uri": "https://localhost:8080/"
        },
        "id": "vlOpTu2uCCf5",
        "outputId": "1d26346b-602e-4136-ea18-1ff3a3d68a49"
      },
      "execution_count": 9,
      "outputs": [
        {
          "output_type": "stream",
          "name": "stdout",
          "text": [
            "Palabras en el vocabulario: 1799\n",
            "Sentencia de entrada más larga: 9\n"
          ]
        }
      ]
    },
    {
      "cell_type": "code",
      "source": [
        "\n",
        "output_tokenizer = Tokenizer(num_words=MAX_VOCAB_SIZE, filters='!\"#$%&()*+,-./:;=¿?@[\\\\]^_`{|}~\\t\\n')\n",
        "output_tokenizer.fit_on_texts([\"<sos>\", \"<eos>\"] + output_sentences)\n",
        "output_integer_seq = output_tokenizer.texts_to_sequences(output_sentences)\n",
        "output_input_integer_seq = output_tokenizer.texts_to_sequences(output_sentences_inputs)\n",
        "\n",
        "word2idx_outputs = output_tokenizer.word_index\n",
        "print(\"Palabras en el vocabulario:\", len(word2idx_outputs))\n",
        "\n",
        "num_words_output = min(len(word2idx_outputs) + 1, MAX_VOCAB_SIZE)\n",
        "# Se suma 1 para incluir el token de palabra desconocida\n",
        "\n",
        "max_out_len = max(len(sen) for sen in output_integer_seq)\n",
        "print(\"Sentencia de salida más larga:\", max_out_len)"
      ],
      "metadata": {
        "colab": {
          "base_uri": "https://localhost:8080/"
        },
        "id": "kC6fy565CEt7",
        "outputId": "a9c9d967-9f16-4595-a12e-21005c54310d"
      },
      "execution_count": 10,
      "outputs": [
        {
          "output_type": "stream",
          "name": "stdout",
          "text": [
            "Palabras en el vocabulario: 1806\n",
            "Sentencia de salida más larga: 10\n"
          ]
        }
      ]
    },
    {
      "cell_type": "code",
      "source": [
        "print(\"Cantidad de rows del dataset:\", len(input_integer_seq))\n",
        "\n",
        "encoder_input_sequences = pad_sequences(input_integer_seq, maxlen=max_input_len)\n",
        "print(\"encoder_input_sequences shape:\", encoder_input_sequences.shape)\n",
        "\n",
        "decoder_input_sequences = pad_sequences(output_input_integer_seq, maxlen=max_out_len, padding='post')\n",
        "print(\"decoder_input_sequences shape:\", decoder_input_sequences.shape)"
      ],
      "metadata": {
        "colab": {
          "base_uri": "https://localhost:8080/"
        },
        "id": "6rmm8lJ1CJFf",
        "outputId": "f702cd70-139f-42fa-f931-da569080f71b"
      },
      "execution_count": 11,
      "outputs": [
        {
          "output_type": "stream",
          "name": "stdout",
          "text": [
            "Cantidad de rows del dataset: 6033\n",
            "encoder_input_sequences shape: (6033, 9)\n",
            "decoder_input_sequences shape: (6033, 10)\n"
          ]
        }
      ]
    },
    {
      "cell_type": "code",
      "source": [
        "from keras.utils.np_utils import to_categorical\n",
        "decoder_output_sequences = pad_sequences(output_integer_seq, maxlen=max_out_len, padding='post')\n",
        "decoder_targets = to_categorical(decoder_output_sequences, num_classes=num_words_output)\n",
        "decoder_targets.shape"
      ],
      "metadata": {
        "colab": {
          "base_uri": "https://localhost:8080/"
        },
        "id": "TLvVmfnpCKrq",
        "outputId": "aa36841b-9319-4076-c768-5e211477538f"
      },
      "execution_count": 12,
      "outputs": [
        {
          "output_type": "execute_result",
          "data": {
            "text/plain": [
              "(6033, 10, 1807)"
            ]
          },
          "metadata": {},
          "execution_count": 12
        }
      ]
    },
    {
      "cell_type": "markdown",
      "metadata": {
        "id": "_CJIsLBbj6rg"
      },
      "source": [
        "### 3 - Preparar los embeddings\n",
        "Utilizar los embeddings de Glove o FastText para transformar los tokens de entrada en vectores"
      ]
    },
    {
      "cell_type": "code",
      "source": [
        "\n",
        "# Descargar los embeddings desde un gogle drive (es la forma más rápida)\n",
        "# NOTA: No hay garantía de que estos links perduren, en caso de que no estén\n",
        "# disponibles descargar de la página oficial como se explica en el siguiente bloque\n",
        "import os\n",
        "import gdown\n",
        "if os.access('fasttext.pkl', os.F_OK) is False:\n",
        "    url = 'https://drive.google.com/uc?id=1Qi1r-u5lsEsNqRSxLrpNOqQ3B_ufltCa&export=download'\n",
        "    output = 'fasttext.pkl'\n",
        "    gdown.download(url, output, quiet=False)\n",
        "else:\n",
        "    print(\"Los embeddings fasttext.pkl ya están descargados\")"
      ],
      "metadata": {
        "colab": {
          "base_uri": "https://localhost:8080/"
        },
        "id": "3GGOodCGCNRC",
        "outputId": "1cf4c0cb-4b29-408d-8888-eddf9998e326"
      },
      "execution_count": 13,
      "outputs": [
        {
          "output_type": "stream",
          "name": "stdout",
          "text": [
            "Los embeddings fasttext.pkl ya están descargados\n"
          ]
        }
      ]
    },
    {
      "cell_type": "code",
      "source": [
        "import logging\n",
        "import os\n",
        "from pathlib import Path\n",
        "from io import StringIO\n",
        "import pickle\n",
        "\n",
        "class WordsEmbeddings(object):\n",
        "    logger = logging.getLogger(__name__)\n",
        "\n",
        "    def __init__(self):\n",
        "        # load the embeddings\n",
        "        words_embedding_pkl = Path(self.PKL_PATH)\n",
        "        if not words_embedding_pkl.is_file():\n",
        "            words_embedding_txt = Path(self.WORD_TO_VEC_MODEL_TXT_PATH)\n",
        "            assert words_embedding_txt.is_file(), 'Words embedding not available'\n",
        "            embeddings = self.convert_model_to_pickle()\n",
        "        else:\n",
        "            embeddings = self.load_model_from_pickle()\n",
        "        self.embeddings = embeddings\n",
        "        # build the vocabulary hashmap\n",
        "        index = np.arange(self.embeddings.shape[0])\n",
        "        # Dicctionarios para traducir de embedding a IDX de la palabra\n",
        "        self.word2idx = dict(zip(self.embeddings['word'], index))\n",
        "        self.idx2word = dict(zip(index, self.embeddings['word']))\n",
        "\n",
        "    def get_words_embeddings(self, words):\n",
        "        words_idxs = self.words2idxs(words)\n",
        "        return self.embeddings[words_idxs]['embedding']\n",
        "\n",
        "    def words2idxs(self, words):\n",
        "        return np.array([self.word2idx.get(word, -1) for word in words])\n",
        "\n",
        "    def idxs2words(self, idxs):\n",
        "        return np.array([self.idx2word.get(idx, '-1') for idx in idxs])\n",
        "\n",
        "    def load_model_from_pickle(self):\n",
        "        self.logger.debug(\n",
        "            'loading words embeddings from pickle {}'.format(\n",
        "                self.PKL_PATH\n",
        "            )\n",
        "        )\n",
        "        max_bytes = 2**28 - 1 # 256MB\n",
        "        bytes_in = bytearray(0)\n",
        "        input_size = os.path.getsize(self.PKL_PATH)\n",
        "        with open(self.PKL_PATH, 'rb') as f_in:\n",
        "            for _ in range(0, input_size, max_bytes):\n",
        "                bytes_in += f_in.read(max_bytes)\n",
        "        embeddings = pickle.loads(bytes_in)\n",
        "        self.logger.debug('words embeddings loaded')\n",
        "        return embeddings\n",
        "\n",
        "    def convert_model_to_pickle(self):\n",
        "        # create a numpy strctured array:\n",
        "        # word     embedding\n",
        "        # U50      np.float32[]\n",
        "        # word_1   a, b, c\n",
        "        # word_2   d, e, f\n",
        "        # ...\n",
        "        # word_n   g, h, i\n",
        "        self.logger.debug(\n",
        "            'converting and loading words embeddings from text file {}'.format(\n",
        "                self.WORD_TO_VEC_MODEL_TXT_PATH\n",
        "            )\n",
        "        )\n",
        "        structure = [('word', np.dtype('U' + str(self.WORD_MAX_SIZE))),\n",
        "                     ('embedding', np.float32, (self.N_FEATURES,))]\n",
        "        structure = np.dtype(structure)\n",
        "        # load numpy array from disk using a generator\n",
        "        with open(self.WORD_TO_VEC_MODEL_TXT_PATH, encoding=\"utf8\") as words_embeddings_txt:\n",
        "            embeddings_gen = (\n",
        "                (line.split()[0], line.split()[1:]) for line in words_embeddings_txt\n",
        "                if len(line.split()[1:]) == self.N_FEATURES\n",
        "            )\n",
        "            embeddings = np.fromiter(embeddings_gen, structure)\n",
        "        # add a null embedding\n",
        "        null_embedding = np.array(\n",
        "            [('null_embedding', np.zeros((self.N_FEATURES,), dtype=np.float32))],\n",
        "            dtype=structure\n",
        "        )\n",
        "        embeddings = np.concatenate([embeddings, null_embedding])\n",
        "        # dump numpy array to disk using pickle\n",
        "        max_bytes = 2**28 - 1 # # 256MB\n",
        "        bytes_out = pickle.dumps(embeddings, protocol=pickle.HIGHEST_PROTOCOL)\n",
        "        with open(self.PKL_PATH, 'wb') as f_out:\n",
        "            for idx in range(0, len(bytes_out), max_bytes):\n",
        "                f_out.write(bytes_out[idx:idx+max_bytes])\n",
        "        self.logger.debug('words embeddings loaded')\n",
        "        return embeddings\n",
        "\n",
        "\n",
        "class GloveEmbeddings(WordsEmbeddings):\n",
        "    WORD_TO_VEC_MODEL_TXT_PATH = 'glove.twitter.27B.50d.txt'\n",
        "    PKL_PATH = 'gloveembedding.pkl'\n",
        "    N_FEATURES = 50\n",
        "    WORD_MAX_SIZE = 60\n",
        "\n",
        "\n",
        "class FasttextEmbeddings(WordsEmbeddings):\n",
        "    WORD_TO_VEC_MODEL_TXT_PATH = 'cc.en.300.vec'\n",
        "    PKL_PATH = 'fasttext.pkl'\n",
        "    N_FEATURES = 300\n",
        "    WORD_MAX_SIZE = 60"
      ],
      "metadata": {
        "id": "2qxlVfHKCPTc"
      },
      "execution_count": 14,
      "outputs": []
    },
    {
      "cell_type": "code",
      "source": [
        "model_fasttext = FasttextEmbeddings()\n"
      ],
      "metadata": {
        "id": "g75F5CJ3CUQj"
      },
      "execution_count": 15,
      "outputs": []
    },
    {
      "cell_type": "code",
      "source": [
        "# Crear la Embedding matrix\n",
        "\n",
        "print('preparing embedding matrix...')\n",
        "embed_dim = 300 # fasttext\n",
        "words_not_found = []\n",
        "\n",
        "# word_index provieen del tokenizer\n",
        "\n",
        "nb_words = min(MAX_VOCAB_SIZE, len(word2idx_inputs)) # vocab_size\n",
        "embedding_matrix = np.zeros((nb_words, embed_dim))\n",
        "for word, i in word2idx_inputs.items():\n",
        "    if i >= nb_words:\n",
        "        continue\n",
        "    embedding_vector = model_fasttext.get_words_embeddings(word)[0]\n",
        "    if (embedding_vector is not None) and len(embedding_vector) > 0:\n",
        "        embedding_matrix[i] = embedding_vector\n",
        "    else:\n",
        "        # words not found in embedding index will be all-zeros.\n",
        "        words_not_found.append(word)\n",
        "        print(word)\n",
        "\n",
        "print('number of null word embeddings:', np.sum(np.sum(embedding_matrix, axis=1) == 0))"
      ],
      "metadata": {
        "colab": {
          "base_uri": "https://localhost:8080/"
        },
        "id": "2KXHYDJnCWFc",
        "outputId": "df20c3fd-e624-47fe-b411-235627ca8e82"
      },
      "execution_count": 16,
      "outputs": [
        {
          "output_type": "stream",
          "name": "stdout",
          "text": [
            "preparing embedding matrix...\n",
            "number of null word embeddings: 1\n"
          ]
        }
      ]
    },
    {
      "cell_type": "code",
      "source": [
        "\n",
        "# Dimensión de los embeddings de la secuencia en ingles\n",
        "embedding_matrix.shape"
      ],
      "metadata": {
        "colab": {
          "base_uri": "https://localhost:8080/"
        },
        "id": "yvGPWR01CYDT",
        "outputId": "ef087087-0fed-4c31-be66-fd69ba7555ff"
      },
      "execution_count": 17,
      "outputs": [
        {
          "output_type": "execute_result",
          "data": {
            "text/plain": [
              "(1799, 300)"
            ]
          },
          "metadata": {},
          "execution_count": 17
        }
      ]
    },
    {
      "cell_type": "markdown",
      "metadata": {
        "id": "3vKbhjtIwPgM"
      },
      "source": [
        "### 4 - Entrenar el modelo\n",
        "Entrenar un modelo basado en el esquema encoder-decoder utilizando los datos generados en los puntos anteriores. Utilce como referencias los ejemplos vistos en clase."
      ]
    },
    {
      "cell_type": "code",
      "source": [
        "\n",
        "from keras.models import Model\n",
        "from keras.layers import Input, LSTM, Dense, Dropout\n",
        "\n",
        "n_units = 128\n",
        "\n",
        "# define training encoder\n",
        "encoder_inputs = Input(shape=(max_input_len))\n",
        "\n",
        "#encoder_embedding_layer = Embedding(num_words, EMBEDDING_SIZE, weights=[embedding_matrix], input_length=max_input_len)\n",
        "\n",
        "encoder_embedding_layer = Embedding(\n",
        "          input_dim=nb_words,  # definido en el Tokenizador\n",
        "          output_dim=embed_dim,  # dimensión de los embeddings utilizados\n",
        "          input_length=max_input_len, # máxima sentencia de entrada\n",
        "          weights=[embedding_matrix],  # matrix de embeddings\n",
        "          trainable=False)      # marcar como layer no entrenable\n",
        "\n",
        "\n",
        "\n",
        "encoder_inputs_x = encoder_embedding_layer(encoder_inputs)\n",
        "\n",
        "encoder = LSTM(n_units, return_state=True)\n",
        "encoder_outputs, state_h, state_c = encoder(encoder_inputs_x)\n",
        "# dropout encoder\n",
        "dropout_encoder = Dropout(rate=0.2)\n",
        "#encoder_outputs = dropout_encoder(encoder_outputs)\n",
        "#state_h = dropout_encoder(state_h)\n",
        "#state_c = dropout_encoder(state_c)\n",
        "encoder_states = [state_h, state_c]\n",
        "\n",
        "# define training decoder\n",
        "decoder_inputs = Input(shape=(max_out_len))\n",
        "decoder_embedding_layer = Embedding(input_dim=num_words_output, output_dim=n_units, input_length=max_out_len)\n",
        "decoder_inputs_x = decoder_embedding_layer(decoder_inputs)\n",
        "\n",
        "decoder_lstm = LSTM(n_units, return_sequences=True, return_state=True)\n",
        "decoder_outputs, _, _ = decoder_lstm(decoder_inputs_x, initial_state=encoder_states)\n",
        "# dropout decoder\n",
        "dropout_decoder = Dropout(rate=0.2)\n",
        "decoder_outputs = dropout_decoder(decoder_outputs)\n",
        "\n",
        "\n",
        "# Dense\n",
        "decoder_dense = Dense(num_words_output, activation='softmax')\n",
        "decoder_outputs = decoder_dense(decoder_outputs)\n",
        "#model = Model([encoder_inputs, decoder_inputs], decoder_outputs)\n",
        "model = Model([encoder_inputs, decoder_inputs], decoder_outputs)\n",
        "\n",
        "model.compile(loss='categorical_crossentropy', optimizer=\"Adam\", metrics=['accuracy'])\n",
        "model.summary()"
      ],
      "metadata": {
        "colab": {
          "base_uri": "https://localhost:8080/"
        },
        "id": "8S9_VHkpCaOr",
        "outputId": "600022cb-3a6f-4ef9-9a10-92dce04cf53a"
      },
      "execution_count": 18,
      "outputs": [
        {
          "output_type": "stream",
          "name": "stdout",
          "text": [
            "Model: \"model\"\n",
            "__________________________________________________________________________________________________\n",
            " Layer (type)                   Output Shape         Param #     Connected to                     \n",
            "==================================================================================================\n",
            " input_1 (InputLayer)           [(None, 9)]          0           []                               \n",
            "                                                                                                  \n",
            " input_2 (InputLayer)           [(None, 10)]         0           []                               \n",
            "                                                                                                  \n",
            " embedding (Embedding)          (None, 9, 300)       539700      ['input_1[0][0]']                \n",
            "                                                                                                  \n",
            " embedding_1 (Embedding)        (None, 10, 128)      231296      ['input_2[0][0]']                \n",
            "                                                                                                  \n",
            " lstm (LSTM)                    [(None, 128),        219648      ['embedding[0][0]']              \n",
            "                                 (None, 128),                                                     \n",
            "                                 (None, 128)]                                                     \n",
            "                                                                                                  \n",
            " lstm_1 (LSTM)                  [(None, 10, 128),    131584      ['embedding_1[0][0]',            \n",
            "                                 (None, 128),                     'lstm[0][1]',                   \n",
            "                                 (None, 128)]                     'lstm[0][2]']                   \n",
            "                                                                                                  \n",
            " dropout_1 (Dropout)            (None, 10, 128)      0           ['lstm_1[0][0]']                 \n",
            "                                                                                                  \n",
            " dense (Dense)                  (None, 10, 1807)     233103      ['dropout_1[0][0]']              \n",
            "                                                                                                  \n",
            "==================================================================================================\n",
            "Total params: 1,355,331\n",
            "Trainable params: 815,631\n",
            "Non-trainable params: 539,700\n",
            "__________________________________________________________________________________________________\n"
          ]
        }
      ]
    },
    {
      "cell_type": "code",
      "source": [
        "\n",
        "# Modelo completo (encoder+decoder) para poder entrenar\n",
        "from keras.utils.vis_utils import plot_model\n",
        "plot_model(model, to_file='model_plot.png', show_shapes=True, show_layer_names=True)"
      ],
      "metadata": {
        "colab": {
          "base_uri": "https://localhost:8080/",
          "height": 644
        },
        "id": "WGGEudcQCgp6",
        "outputId": "23d602e5-438a-4045-ca39-0d8523f01bca"
      },
      "execution_count": 19,
      "outputs": [
        {
          "output_type": "execute_result",
          "data": {
            "image/png": "[encoded data removed]",
            "text/plain": [
              "<IPython.core.display.Image object>"
            ]
          },
          "metadata": {},
          "execution_count": 19
        }
      ]
    },
    {
      "cell_type": "code",
      "source": [
        "\n",
        "# Modelo solo encoder\n",
        "\n",
        "# define inference encoder\n",
        "encoder_model = Model(encoder_inputs, encoder_states)\n",
        "\n",
        "from keras.utils.vis_utils import plot_model\n",
        "plot_model(encoder_model, to_file='encoder_plot.png', show_shapes=True, show_layer_names=True)"
      ],
      "metadata": {
        "colab": {
          "base_uri": "https://localhost:8080/",
          "height": 312
        },
        "id": "v-M8oyCKCj1Y",
        "outputId": "eb24db01-7e60-45e9-d10b-de48413a2b7a"
      },
      "execution_count": 20,
      "outputs": [
        {
          "output_type": "execute_result",
          "data": {
            "image/png": "[encoded data removed]",
            "text/plain": [
              "<IPython.core.display.Image object>"
            ]
          },
          "metadata": {},
          "execution_count": 20
        }
      ]
    },
    {
      "cell_type": "code",
      "source": [
        "\n",
        "# Modelo solo decoder (para realizar inferencia)\n",
        "from keras.utils.vis_utils import plot_model\n",
        "\n",
        "# define inference decoder\n",
        "decoder_state_input_h = Input(shape=(n_units,))\n",
        "decoder_state_input_c = Input(shape=(n_units,))\n",
        "decoder_states_inputs = [decoder_state_input_h, decoder_state_input_c]\n",
        "\n",
        "# EN cada predicción habrá una sola palabra de entrada al decoder,\n",
        "# que es la realimentación de la palabra anterior\n",
        "# por lo que hay que modificar el input shup de la layer de Embedding\n",
        "decoder_inputs_single = Input(shape=(1,))\n",
        "decoder_inputs_single_x = decoder_embedding_layer(decoder_inputs_single)\n",
        "\n",
        "decoder_outputs, state_h, state_c = decoder_lstm(decoder_inputs_single_x, initial_state=decoder_states_inputs)\n",
        "decoder_states = [state_h, state_c]\n",
        "decoder_outputs = decoder_dense(decoder_outputs)\n",
        "decoder_model = Model([decoder_inputs_single] + decoder_states_inputs, [decoder_outputs] + decoder_states)\n",
        "\n",
        "plot_model(decoder_model, to_file='decoder_plot.png', show_shapes=True, show_layer_names=True)\n",
        ""
      ],
      "metadata": {
        "colab": {
          "base_uri": "https://localhost:8080/",
          "height": 422
        },
        "id": "O_QZOL3jCmCz",
        "outputId": "798bfd04-1bc0-4564-ebef-7c220373ebbf"
      },
      "execution_count": 21,
      "outputs": [
        {
          "output_type": "execute_result",
          "data": {
            "image/png": "[encoded data removed]",
            "text/plain": [
              "<IPython.core.display.Image object>"
            ]
          },
          "metadata": {},
          "execution_count": 21
        }
      ]
    },
    {
      "cell_type": "code",
      "source": [
        "hist = model.fit(\n",
        "    [encoder_input_sequences, decoder_input_sequences],\n",
        "    decoder_targets,\n",
        "    epochs=100,\n",
        "    validation_split=0.2)"
      ],
      "metadata": {
        "colab": {
          "base_uri": "https://localhost:8080/"
        },
        "id": "l3dUufQQCnu6",
        "outputId": "5b14cfc3-6ef8-4149-9235-a2e7f3348fc2"
      },
      "execution_count": 22,
      "outputs": [
        {
          "output_type": "stream",
          "name": "stdout",
          "text": [
            "Epoch 1/100\n",
            "151/151 [==============================] - 21s 65ms/step - loss: 3.0970 - accuracy: 0.5181 - val_loss: 2.2720 - val_accuracy: 0.6297\n",
            "Epoch 2/100\n",
            "151/151 [==============================] - 2s 12ms/step - loss: 2.0959 - accuracy: 0.6231 - val_loss: 2.1046 - val_accuracy: 0.6498\n",
            "Epoch 3/100\n",
            "151/151 [==============================] - 2s 13ms/step - loss: 1.8625 - accuracy: 0.6750 - val_loss: 1.9545 - val_accuracy: 0.6839\n",
            "Epoch 4/100\n",
            "151/151 [==============================] - 2s 13ms/step - loss: 1.6901 - accuracy: 0.7058 - val_loss: 1.8613 - val_accuracy: 0.6959\n",
            "Epoch 5/100\n",
            "151/151 [==============================] - 2s 14ms/step - loss: 1.5789 - accuracy: 0.7183 - val_loss: 1.8001 - val_accuracy: 0.7055\n",
            "Epoch 6/100\n",
            "151/151 [==============================] - 2s 11ms/step - loss: 1.4996 - accuracy: 0.7279 - val_loss: 1.7583 - val_accuracy: 0.7117\n",
            "Epoch 7/100\n",
            "151/151 [==============================] - 2s 10ms/step - loss: 1.4394 - accuracy: 0.7347 - val_loss: 1.7295 - val_accuracy: 0.7136\n",
            "Epoch 8/100\n",
            "151/151 [==============================] - 2s 10ms/step - loss: 1.3949 - accuracy: 0.7386 - val_loss: 1.7113 - val_accuracy: 0.7153\n",
            "Epoch 9/100\n",
            "151/151 [==============================] - 1s 10ms/step - loss: 1.3549 - accuracy: 0.7426 - val_loss: 1.6957 - val_accuracy: 0.7176\n",
            "Epoch 10/100\n",
            "151/151 [==============================] - 2s 10ms/step - loss: 1.3219 - accuracy: 0.7462 - val_loss: 1.6818 - val_accuracy: 0.7193\n",
            "Epoch 11/100\n",
            "151/151 [==============================] - 2s 12ms/step - loss: 1.2924 - accuracy: 0.7491 - val_loss: 1.6728 - val_accuracy: 0.7191\n",
            "Epoch 12/100\n",
            "151/151 [==============================] - 2s 14ms/step - loss: 1.2657 - accuracy: 0.7516 - val_loss: 1.6632 - val_accuracy: 0.7241\n",
            "Epoch 13/100\n",
            "151/151 [==============================] - 2s 12ms/step - loss: 1.2436 - accuracy: 0.7534 - val_loss: 1.6595 - val_accuracy: 0.7243\n",
            "Epoch 14/100\n",
            "151/151 [==============================] - 2s 11ms/step - loss: 1.2214 - accuracy: 0.7567 - val_loss: 1.6561 - val_accuracy: 0.7257\n",
            "Epoch 15/100\n",
            "151/151 [==============================] - 2s 10ms/step - loss: 1.2001 - accuracy: 0.7584 - val_loss: 1.6550 - val_accuracy: 0.7262\n",
            "Epoch 16/100\n",
            "151/151 [==============================] - 2s 11ms/step - loss: 1.1795 - accuracy: 0.7595 - val_loss: 1.6493 - val_accuracy: 0.7292\n",
            "Epoch 17/100\n",
            "151/151 [==============================] - 2s 10ms/step - loss: 1.1604 - accuracy: 0.7618 - val_loss: 1.6525 - val_accuracy: 0.7289\n",
            "Epoch 18/100\n",
            "151/151 [==============================] - 2s 13ms/step - loss: 1.1443 - accuracy: 0.7644 - val_loss: 1.6544 - val_accuracy: 0.7298\n",
            "Epoch 19/100\n",
            "151/151 [==============================] - 2s 13ms/step - loss: 1.1274 - accuracy: 0.7651 - val_loss: 1.6468 - val_accuracy: 0.7292\n",
            "Epoch 20/100\n",
            "151/151 [==============================] - 2s 14ms/step - loss: 1.1120 - accuracy: 0.7681 - val_loss: 1.6482 - val_accuracy: 0.7326\n",
            "Epoch 21/100\n",
            "151/151 [==============================] - 2s 10ms/step - loss: 1.0942 - accuracy: 0.7704 - val_loss: 1.6532 - val_accuracy: 0.7333\n",
            "Epoch 22/100\n",
            "151/151 [==============================] - 2s 12ms/step - loss: 1.0797 - accuracy: 0.7714 - val_loss: 1.6507 - val_accuracy: 0.7343\n",
            "Epoch 23/100\n",
            "151/151 [==============================] - 2s 11ms/step - loss: 1.0635 - accuracy: 0.7736 - val_loss: 1.6521 - val_accuracy: 0.7347\n",
            "Epoch 24/100\n",
            "151/151 [==============================] - 2s 11ms/step - loss: 1.0495 - accuracy: 0.7753 - val_loss: 1.6544 - val_accuracy: 0.7350\n",
            "Epoch 25/100\n",
            "151/151 [==============================] - 1s 10ms/step - loss: 1.0328 - accuracy: 0.7766 - val_loss: 1.6601 - val_accuracy: 0.7334\n",
            "Epoch 26/100\n",
            "151/151 [==============================] - 2s 13ms/step - loss: 1.0231 - accuracy: 0.7788 - val_loss: 1.6620 - val_accuracy: 0.7354\n",
            "Epoch 27/100\n",
            "151/151 [==============================] - 2s 12ms/step - loss: 1.0075 - accuracy: 0.7797 - val_loss: 1.6591 - val_accuracy: 0.7357\n",
            "Epoch 28/100\n",
            "151/151 [==============================] - 2s 11ms/step - loss: 0.9942 - accuracy: 0.7819 - val_loss: 1.6713 - val_accuracy: 0.7354\n",
            "Epoch 29/100\n",
            "151/151 [==============================] - 2s 10ms/step - loss: 0.9828 - accuracy: 0.7839 - val_loss: 1.6708 - val_accuracy: 0.7376\n",
            "Epoch 30/100\n",
            "151/151 [==============================] - 2s 10ms/step - loss: 0.9726 - accuracy: 0.7852 - val_loss: 1.6766 - val_accuracy: 0.7378\n",
            "Epoch 31/100\n",
            "151/151 [==============================] - 2s 12ms/step - loss: 0.9581 - accuracy: 0.7878 - val_loss: 1.6815 - val_accuracy: 0.7356\n",
            "Epoch 32/100\n",
            "151/151 [==============================] - 2s 10ms/step - loss: 0.9485 - accuracy: 0.7885 - val_loss: 1.6876 - val_accuracy: 0.7364\n",
            "Epoch 33/100\n",
            "151/151 [==============================] - 2s 12ms/step - loss: 0.9382 - accuracy: 0.7893 - val_loss: 1.6874 - val_accuracy: 0.7347\n",
            "Epoch 34/100\n",
            "151/151 [==============================] - 2s 14ms/step - loss: 0.9275 - accuracy: 0.7911 - val_loss: 1.6989 - val_accuracy: 0.7363\n",
            "Epoch 35/100\n",
            "151/151 [==============================] - 2s 11ms/step - loss: 0.9165 - accuracy: 0.7927 - val_loss: 1.6980 - val_accuracy: 0.7370\n",
            "Epoch 36/100\n",
            "151/151 [==============================] - 2s 15ms/step - loss: 0.9058 - accuracy: 0.7948 - val_loss: 1.7060 - val_accuracy: 0.7374\n",
            "Epoch 37/100\n",
            "151/151 [==============================] - 2s 10ms/step - loss: 0.8944 - accuracy: 0.7958 - val_loss: 1.7072 - val_accuracy: 0.7363\n",
            "Epoch 38/100\n",
            "151/151 [==============================] - 2s 11ms/step - loss: 0.8854 - accuracy: 0.7967 - val_loss: 1.7153 - val_accuracy: 0.7367\n",
            "Epoch 39/100\n",
            "151/151 [==============================] - 2s 11ms/step - loss: 0.8752 - accuracy: 0.7995 - val_loss: 1.7220 - val_accuracy: 0.7372\n",
            "Epoch 40/100\n",
            "151/151 [==============================] - 2s 11ms/step - loss: 0.8649 - accuracy: 0.8016 - val_loss: 1.7253 - val_accuracy: 0.7365\n",
            "Epoch 41/100\n",
            "151/151 [==============================] - 2s 14ms/step - loss: 0.8580 - accuracy: 0.8015 - val_loss: 1.7344 - val_accuracy: 0.7375\n",
            "Epoch 42/100\n",
            "151/151 [==============================] - 1s 10ms/step - loss: 0.8495 - accuracy: 0.8028 - val_loss: 1.7346 - val_accuracy: 0.7371\n",
            "Epoch 43/100\n",
            "151/151 [==============================] - 1s 10ms/step - loss: 0.8402 - accuracy: 0.8041 - val_loss: 1.7456 - val_accuracy: 0.7367\n",
            "Epoch 44/100\n",
            "151/151 [==============================] - 2s 10ms/step - loss: 0.8308 - accuracy: 0.8058 - val_loss: 1.7501 - val_accuracy: 0.7378\n",
            "Epoch 45/100\n",
            "151/151 [==============================] - 2s 11ms/step - loss: 0.8246 - accuracy: 0.8064 - val_loss: 1.7608 - val_accuracy: 0.7365\n",
            "Epoch 46/100\n",
            "151/151 [==============================] - 2s 10ms/step - loss: 0.8191 - accuracy: 0.8068 - val_loss: 1.7630 - val_accuracy: 0.7374\n",
            "Epoch 47/100\n",
            "151/151 [==============================] - 2s 11ms/step - loss: 0.8090 - accuracy: 0.8094 - val_loss: 1.7757 - val_accuracy: 0.7363\n",
            "Epoch 48/100\n",
            "151/151 [==============================] - 2s 15ms/step - loss: 0.8001 - accuracy: 0.8103 - val_loss: 1.7731 - val_accuracy: 0.7375\n",
            "Epoch 49/100\n",
            "151/151 [==============================] - 2s 12ms/step - loss: 0.7943 - accuracy: 0.8109 - val_loss: 1.7791 - val_accuracy: 0.7370\n",
            "Epoch 50/100\n",
            "151/151 [==============================] - 2s 10ms/step - loss: 0.7858 - accuracy: 0.8122 - val_loss: 1.7834 - val_accuracy: 0.7379\n",
            "Epoch 51/100\n",
            "151/151 [==============================] - 1s 10ms/step - loss: 0.7805 - accuracy: 0.8133 - val_loss: 1.8010 - val_accuracy: 0.7383\n",
            "Epoch 52/100\n",
            "151/151 [==============================] - 1s 10ms/step - loss: 0.7729 - accuracy: 0.8128 - val_loss: 1.8049 - val_accuracy: 0.7360\n",
            "Epoch 53/100\n",
            "151/151 [==============================] - 2s 10ms/step - loss: 0.7657 - accuracy: 0.8155 - val_loss: 1.8082 - val_accuracy: 0.7352\n",
            "Epoch 54/100\n",
            "151/151 [==============================] - 2s 10ms/step - loss: 0.7609 - accuracy: 0.8154 - val_loss: 1.8153 - val_accuracy: 0.7369\n",
            "Epoch 55/100\n",
            "151/151 [==============================] - 2s 12ms/step - loss: 0.7525 - accuracy: 0.8176 - val_loss: 1.8259 - val_accuracy: 0.7364\n",
            "Epoch 56/100\n",
            "151/151 [==============================] - 2s 13ms/step - loss: 0.7494 - accuracy: 0.8170 - val_loss: 1.8356 - val_accuracy: 0.7367\n",
            "Epoch 57/100\n",
            "151/151 [==============================] - 2s 11ms/step - loss: 0.7397 - accuracy: 0.8193 - val_loss: 1.8409 - val_accuracy: 0.7360\n",
            "Epoch 58/100\n",
            "151/151 [==============================] - 2s 10ms/step - loss: 0.7335 - accuracy: 0.8189 - val_loss: 1.8401 - val_accuracy: 0.7358\n",
            "Epoch 59/100\n",
            "151/151 [==============================] - 2s 10ms/step - loss: 0.7287 - accuracy: 0.8216 - val_loss: 1.8518 - val_accuracy: 0.7349\n",
            "Epoch 60/100\n",
            "151/151 [==============================] - 2s 10ms/step - loss: 0.7238 - accuracy: 0.8212 - val_loss: 1.8577 - val_accuracy: 0.7359\n",
            "Epoch 61/100\n",
            "151/151 [==============================] - 1s 10ms/step - loss: 0.7166 - accuracy: 0.8222 - val_loss: 1.8673 - val_accuracy: 0.7345\n",
            "Epoch 62/100\n",
            "151/151 [==============================] - 2s 10ms/step - loss: 0.7104 - accuracy: 0.8245 - val_loss: 1.8770 - val_accuracy: 0.7350\n",
            "Epoch 63/100\n",
            "151/151 [==============================] - 2s 13ms/step - loss: 0.7042 - accuracy: 0.8247 - val_loss: 1.8886 - val_accuracy: 0.7370\n",
            "Epoch 64/100\n",
            "151/151 [==============================] - 2s 13ms/step - loss: 0.6961 - accuracy: 0.8255 - val_loss: 1.8923 - val_accuracy: 0.7338\n",
            "Epoch 65/100\n",
            "151/151 [==============================] - 2s 11ms/step - loss: 0.6911 - accuracy: 0.8279 - val_loss: 1.9027 - val_accuracy: 0.7362\n",
            "Epoch 66/100\n",
            "151/151 [==============================] - 2s 10ms/step - loss: 0.6888 - accuracy: 0.8280 - val_loss: 1.9064 - val_accuracy: 0.7366\n",
            "Epoch 67/100\n",
            "151/151 [==============================] - 2s 10ms/step - loss: 0.6816 - accuracy: 0.8286 - val_loss: 1.9221 - val_accuracy: 0.7355\n",
            "Epoch 68/100\n",
            "151/151 [==============================] - 2s 10ms/step - loss: 0.6756 - accuracy: 0.8298 - val_loss: 1.9227 - val_accuracy: 0.7370\n",
            "Epoch 69/100\n",
            "151/151 [==============================] - 2s 11ms/step - loss: 0.6724 - accuracy: 0.8310 - val_loss: 1.9325 - val_accuracy: 0.7354\n",
            "Epoch 70/100\n",
            "151/151 [==============================] - 2s 11ms/step - loss: 0.6639 - accuracy: 0.8320 - val_loss: 1.9401 - val_accuracy: 0.7336\n",
            "Epoch 71/100\n",
            "151/151 [==============================] - 2s 14ms/step - loss: 0.6616 - accuracy: 0.8319 - val_loss: 1.9448 - val_accuracy: 0.7345\n",
            "Epoch 72/100\n",
            "151/151 [==============================] - 2s 11ms/step - loss: 0.6534 - accuracy: 0.8338 - val_loss: 1.9591 - val_accuracy: 0.7345\n",
            "Epoch 73/100\n",
            "151/151 [==============================] - 1s 10ms/step - loss: 0.6468 - accuracy: 0.8340 - val_loss: 1.9678 - val_accuracy: 0.7336\n",
            "Epoch 74/100\n",
            "151/151 [==============================] - 2s 11ms/step - loss: 0.6435 - accuracy: 0.8357 - val_loss: 1.9791 - val_accuracy: 0.7349\n",
            "Epoch 75/100\n",
            "151/151 [==============================] - 1s 10ms/step - loss: 0.6397 - accuracy: 0.8367 - val_loss: 1.9800 - val_accuracy: 0.7335\n",
            "Epoch 76/100\n",
            "151/151 [==============================] - 2s 11ms/step - loss: 0.6327 - accuracy: 0.8374 - val_loss: 1.9802 - val_accuracy: 0.7317\n",
            "Epoch 77/100\n",
            "151/151 [==============================] - 2s 10ms/step - loss: 0.6288 - accuracy: 0.8395 - val_loss: 1.9889 - val_accuracy: 0.7321\n",
            "Epoch 78/100\n",
            "151/151 [==============================] - 2s 14ms/step - loss: 0.6209 - accuracy: 0.8393 - val_loss: 1.9979 - val_accuracy: 0.7321\n",
            "Epoch 79/100\n",
            "151/151 [==============================] - 2s 12ms/step - loss: 0.6160 - accuracy: 0.8415 - val_loss: 2.0154 - val_accuracy: 0.7335\n",
            "Epoch 80/100\n",
            "151/151 [==============================] - 1s 10ms/step - loss: 0.6125 - accuracy: 0.8413 - val_loss: 2.0151 - val_accuracy: 0.7311\n",
            "Epoch 81/100\n",
            "151/151 [==============================] - 2s 11ms/step - loss: 0.6082 - accuracy: 0.8423 - val_loss: 2.0315 - val_accuracy: 0.7329\n",
            "Epoch 82/100\n",
            "151/151 [==============================] - 2s 10ms/step - loss: 0.6003 - accuracy: 0.8449 - val_loss: 2.0375 - val_accuracy: 0.7320\n",
            "Epoch 83/100\n",
            "151/151 [==============================] - 1s 10ms/step - loss: 0.5994 - accuracy: 0.8428 - val_loss: 2.0515 - val_accuracy: 0.7308\n",
            "Epoch 84/100\n",
            "151/151 [==============================] - 2s 11ms/step - loss: 0.5929 - accuracy: 0.8447 - val_loss: 2.0501 - val_accuracy: 0.7324\n",
            "Epoch 85/100\n",
            "151/151 [==============================] - 2s 11ms/step - loss: 0.5881 - accuracy: 0.8461 - val_loss: 2.0541 - val_accuracy: 0.7309\n",
            "Epoch 86/100\n",
            "151/151 [==============================] - 2s 14ms/step - loss: 0.5826 - accuracy: 0.8465 - val_loss: 2.0709 - val_accuracy: 0.7331\n",
            "Epoch 87/100\n",
            "151/151 [==============================] - 2s 11ms/step - loss: 0.5782 - accuracy: 0.8489 - val_loss: 2.0908 - val_accuracy: 0.7348\n",
            "Epoch 88/100\n",
            "151/151 [==============================] - 2s 11ms/step - loss: 0.5742 - accuracy: 0.8483 - val_loss: 2.0804 - val_accuracy: 0.7306\n",
            "Epoch 89/100\n",
            "151/151 [==============================] - 2s 11ms/step - loss: 0.5689 - accuracy: 0.8502 - val_loss: 2.0840 - val_accuracy: 0.7302\n",
            "Epoch 90/100\n",
            "151/151 [==============================] - 2s 10ms/step - loss: 0.5650 - accuracy: 0.8515 - val_loss: 2.1016 - val_accuracy: 0.7321\n",
            "Epoch 91/100\n",
            "151/151 [==============================] - 1s 10ms/step - loss: 0.5615 - accuracy: 0.8517 - val_loss: 2.1153 - val_accuracy: 0.7322\n",
            "Epoch 92/100\n",
            "151/151 [==============================] - 2s 13ms/step - loss: 0.5572 - accuracy: 0.8532 - val_loss: 2.1171 - val_accuracy: 0.7323\n",
            "Epoch 93/100\n",
            "151/151 [==============================] - 2s 15ms/step - loss: 0.5517 - accuracy: 0.8540 - val_loss: 2.1201 - val_accuracy: 0.7316\n",
            "Epoch 94/100\n",
            "151/151 [==============================] - 2s 12ms/step - loss: 0.5466 - accuracy: 0.8549 - val_loss: 2.1230 - val_accuracy: 0.7330\n",
            "Epoch 95/100\n",
            "151/151 [==============================] - 2s 10ms/step - loss: 0.5438 - accuracy: 0.8554 - val_loss: 2.1357 - val_accuracy: 0.7309\n",
            "Epoch 96/100\n",
            "151/151 [==============================] - 2s 10ms/step - loss: 0.5383 - accuracy: 0.8561 - val_loss: 2.1503 - val_accuracy: 0.7326\n",
            "Epoch 97/100\n",
            "151/151 [==============================] - 2s 11ms/step - loss: 0.5340 - accuracy: 0.8579 - val_loss: 2.1529 - val_accuracy: 0.7326\n",
            "Epoch 98/100\n",
            "151/151 [==============================] - 1s 10ms/step - loss: 0.5304 - accuracy: 0.8584 - val_loss: 2.1646 - val_accuracy: 0.7297\n",
            "Epoch 99/100\n",
            "151/151 [==============================] - 1s 10ms/step - loss: 0.5262 - accuracy: 0.8592 - val_loss: 2.1733 - val_accuracy: 0.7327\n",
            "Epoch 100/100\n",
            "151/151 [==============================] - 2s 11ms/step - loss: 0.5226 - accuracy: 0.8603 - val_loss: 2.1753 - val_accuracy: 0.7308\n"
          ]
        }
      ]
    },
    {
      "cell_type": "code",
      "source": [
        "\n",
        "import matplotlib.pyplot as plt\n",
        "import seaborn as sns\n",
        "\n",
        "# Entrenamiento\n",
        "epoch_count = range(1, len(hist.history['accuracy']) + 1)\n",
        "sns.lineplot(x=epoch_count,  y=hist.history['accuracy'], label='train')\n",
        "sns.lineplot(x=epoch_count,  y=hist.history['val_accuracy'], label='valid')\n",
        "plt.show()"
      ],
      "metadata": {
        "colab": {
          "base_uri": "https://localhost:8080/",
          "height": 430
        },
        "id": "2HOVzIIbCrq6",
        "outputId": "98b980c4-8fb3-4b02-8843-3d2d992f60ce"
      },
      "execution_count": 23,
      "outputs": [
        {
          "output_type": "display_data",
          "data": {
            "text/plain": [
              "<Figure size 640x480 with 1 Axes>"
            ],
            "image/png": "[encoded data removed]"
          },
          "metadata": {}
        }
      ]
    },
    {
      "cell_type": "markdown",
      "metadata": {
        "id": "Zbwn0ekDy_s2"
      },
      "source": [
        "### 5 - Inferencia\n",
        "Experimentar el funcionamiento de su modelo. Recuerde que debe realizar la inferencia de los modelos por separado de encoder y decoder."
      ]
    },
    {
      "cell_type": "code",
      "source": [
        "\n",
        "# Armar lo conversores de indice a palabra:\n",
        "idx2word_input = {v:k for k, v in word2idx_inputs.items()}\n",
        "idx2word_target = {v:k for k, v in word2idx_outputs.items()}"
      ],
      "metadata": {
        "id": "QtdmuvDbCtnp"
      },
      "execution_count": 24,
      "outputs": []
    },
    {
      "cell_type": "code",
      "source": [
        "def translate_sentence(input_seq):\n",
        "    # Se transforma la sequencia de entrada a los estados \"h\" y \"c\" de la LSTM\n",
        "    # para enviar la primera vez al decoder\n",
        "    states_value = encoder_model.predict(input_seq)\n",
        "\n",
        "    # Se inicializa la secuencia de entrada al decoder como \"<sos>\"\n",
        "    target_seq = np.zeros((1, 1))\n",
        "    target_seq[0, 0] = word2idx_outputs['<sos>']\n",
        "\n",
        "    # Se obtiene el índice que finaliza la inferencia\n",
        "    eos = word2idx_outputs['<eos>']\n",
        "\n",
        "    output_sentence = []\n",
        "    for _ in range(max_out_len):\n",
        "        # Predicción del próximo elemento\n",
        "        output_tokens, h, c = decoder_model.predict([target_seq] + states_value)\n",
        "        idx = np.argmax(output_tokens[0, 0, :])\n",
        "\n",
        "        # Si es \"end of sentece <eos>\" se acaba\n",
        "        if eos == idx:\n",
        "            break\n",
        "\n",
        "        # Transformar idx a palabra\n",
        "        word = ''\n",
        "        if idx > 0:\n",
        "            word = idx2word_target[idx]\n",
        "            output_sentence.append(word)\n",
        "\n",
        "        # Actualizar los estados dada la última predicción\n",
        "        states_value = [h, c]\n",
        "\n",
        "        # Actualizar secuencia de entrada con la salida (re-alimentación)\n",
        "        target_seq[0, 0] = idx\n",
        "\n",
        "    return ' '.join(output_sentence)"
      ],
      "metadata": {
        "id": "RfmOhIIrCuF6"
      },
      "execution_count": 28,
      "outputs": []
    },
    {
      "cell_type": "code",
      "source": [
        "i = np.random.choice(len(input_sentences))\n",
        "input_seq = encoder_input_sequences[i:i+1]\n",
        "translation = translate_sentence(input_seq)\n",
        "print('-')\n",
        "print('Input:', input_sentences[i])\n",
        "print('Response:', translation)"
      ],
      "metadata": {
        "colab": {
          "base_uri": "https://localhost:8080/"
        },
        "id": "C36psZ5GCw2b",
        "outputId": "c76c32a9-3451-4901-a25c-a380ad9aa61b"
      },
      "execution_count": 29,
      "outputs": [
        {
          "output_type": "stream",
          "name": "stdout",
          "text": [
            "1/1 [==============================] - 0s 19ms/step\n",
            "1/1 [==============================] - 0s 352ms/step\n",
            "1/1 [==============================] - 0s 19ms/step\n",
            "1/1 [==============================] - 0s 21ms/step\n",
            "1/1 [==============================] - 0s 21ms/step\n",
            "1/1 [==============================] - 0s 21ms/step\n",
            "-\n",
            "Input: i do not know what to say \n",
            "Response: do you know hindi\n"
          ]
        }
      ]
    },
    {
      "cell_type": "code",
      "source": [
        "input_test = \"what do you do for a living?\"\n",
        "print('Input:', input_test)\n",
        "integer_seq_test = input_tokenizer.texts_to_sequences([input_test])[0]\n",
        "print(\"Representacion en vector de tokens de ids\", integer_seq_test)\n",
        "encoder_sequence_test = pad_sequences([integer_seq_test], maxlen=max_input_len)\n",
        "print(\"Padding del vector:\", encoder_sequence_test)\n",
        "\n",
        "print('Input:', input_test)\n",
        "translation = translate_sentence(encoder_sequence_test)\n",
        "print('Response:', translation)"
      ],
      "metadata": {
        "colab": {
          "base_uri": "https://localhost:8080/"
        },
        "id": "5D09LGs9CzVb",
        "outputId": "292d86f1-6428-4d60-fddd-5417536034c2"
      },
      "execution_count": 49,
      "outputs": [
        {
          "output_type": "stream",
          "name": "stdout",
          "text": [
            "Input: what do you do for a living?\n",
            "Representacion en vector de tokens de ids [4, 3, 2, 3, 8, 5, 13]\n",
            "Padding del vector: [[ 0  0  4  3  2  3  8  5 13]]\n",
            "Input: what do you do for a living?\n",
            "1/1 [==============================] - 0s 34ms/step\n",
            "1/1 [==============================] - 0s 36ms/step\n",
            "1/1 [==============================] - 0s 34ms/step\n",
            "1/1 [==============================] - 0s 37ms/step\n",
            "1/1 [==============================] - 0s 34ms/step\n",
            "1/1 [==============================] - 0s 20ms/step\n",
            "Response: i am a student\n"
          ]
        }
      ]
    },
    {
      "cell_type": "code",
      "source": [
        "input_test = \"what do you study?\"\n",
        "print('Input:', input_test)\n",
        "integer_seq_test = input_tokenizer.texts_to_sequences([input_test])[0]\n",
        "print(\"Representacion en vector de tokens de ids\", integer_seq_test)\n",
        "encoder_sequence_test = pad_sequences([integer_seq_test], maxlen=max_input_len)\n",
        "print(\"Padding del vector:\", encoder_sequence_test)\n",
        "\n",
        "print('Input:', input_test)\n",
        "translation = translate_sentence(encoder_sequence_test)\n",
        "print('Response:', translation)"
      ],
      "metadata": {
        "colab": {
          "base_uri": "https://localhost:8080/"
        },
        "id": "nKv8JtUgLQ34",
        "outputId": "bf37258f-07b8-40d9-87f9-1b5d01e05dd8"
      },
      "execution_count": 48,
      "outputs": [
        {
          "output_type": "stream",
          "name": "stdout",
          "text": [
            "Input: what do you study?\n",
            "Representacion en vector de tokens de ids [4, 3, 2, 104]\n",
            "Padding del vector: [[  0   0   0   0   0   4   3   2 104]]\n",
            "Input: what do you study?\n",
            "1/1 [==============================] - 0s 42ms/step\n",
            "1/1 [==============================] - 0s 45ms/step\n",
            "1/1 [==============================] - 0s 31ms/step\n",
            "1/1 [==============================] - 0s 31ms/step\n",
            "1/1 [==============================] - 0s 32ms/step\n",
            "1/1 [==============================] - 0s 31ms/step\n",
            "1/1 [==============================] - 0s 31ms/step\n",
            "Response: i study in the city\n"
          ]
        }
      ]
    },
    {
      "cell_type": "code",
      "source": [
        "input_test = \"what do you do in your free time?\"\n",
        "print('Input:', input_test)\n",
        "integer_seq_test = input_tokenizer.texts_to_sequences([input_test])[0]\n",
        "print(\"Representacion en vector de tokens de ids\", integer_seq_test)\n",
        "encoder_sequence_test = pad_sequences([integer_seq_test], maxlen=max_input_len)\n",
        "print(\"Padding del vector:\", encoder_sequence_test)\n",
        "\n",
        "print('Input:', input_test)\n",
        "translation = translate_sentence(encoder_sequence_test)\n",
        "print('Response:', translation)"
      ],
      "metadata": {
        "colab": {
          "base_uri": "https://localhost:8080/"
        },
        "id": "tyC3qSPoK5Z0",
        "outputId": "cf73e6c0-e5d2-4663-a92b-a5dd095ee482"
      },
      "execution_count": 50,
      "outputs": [
        {
          "output_type": "stream",
          "name": "stdout",
          "text": [
            "Input: what do you do in your free time?\n",
            "Representacion en vector de tokens de ids [4, 3, 2, 3, 33, 21, 1312, 170]\n",
            "Padding del vector: [[   0    4    3    2    3   33   21 1312  170]]\n",
            "Input: what do you do in your free time?\n",
            "1/1 [==============================] - 0s 85ms/step\n",
            "1/1 [==============================] - 0s 69ms/step\n",
            "1/1 [==============================] - 0s 71ms/step\n",
            "1/1 [==============================] - 0s 41ms/step\n",
            "1/1 [==============================] - 0s 35ms/step\n",
            "1/1 [==============================] - 0s 21ms/step\n",
            "Response: from middle of nowhere\n"
          ]
        }
      ]
    },
    {
      "cell_type": "code",
      "source": [
        "input_test = \"what do you like?\"\n",
        "print('Input:', input_test)\n",
        "integer_seq_test = input_tokenizer.texts_to_sequences([input_test])[0]\n",
        "print(\"Representacion en vector de tokens de ids\", integer_seq_test)\n",
        "encoder_sequence_test = pad_sequences([integer_seq_test], maxlen=max_input_len)\n",
        "print(\"Padding del vector:\", encoder_sequence_test)\n",
        "\n",
        "print('Input:', input_test)\n",
        "translation = translate_sentence(encoder_sequence_test)\n",
        "print('Response:', translation)"
      ],
      "metadata": {
        "colab": {
          "base_uri": "https://localhost:8080/"
        },
        "id": "kNJThKE0LB2I",
        "outputId": "91fa69b4-a87d-40be-c643-907f0b91258b"
      },
      "execution_count": 51,
      "outputs": [
        {
          "output_type": "stream",
          "name": "stdout",
          "text": [
            "Input: what do you like?\n",
            "Representacion en vector de tokens de ids [4, 3, 2, 12]\n",
            "Padding del vector: [[ 0  0  0  0  0  4  3  2 12]]\n",
            "Input: what do you like?\n",
            "1/1 [==============================] - 0s 34ms/step\n",
            "1/1 [==============================] - 0s 33ms/step\n",
            "1/1 [==============================] - 0s 48ms/step\n",
            "1/1 [==============================] - 0s 30ms/step\n",
            "1/1 [==============================] - 0s 35ms/step\n",
            "1/1 [==============================] - 0s 43ms/step\n",
            "1/1 [==============================] - 0s 34ms/step\n",
            "1/1 [==============================] - 0s 32ms/step\n",
            "Response: i like to play video games\n"
          ]
        }
      ]
    },
    {
      "cell_type": "code",
      "source": [
        "input_test = \"Do you have feelings?\"\n",
        "print('Input:', input_test)\n",
        "integer_seq_test = input_tokenizer.texts_to_sequences([input_test])[0]\n",
        "print(\"Representacion en vector de tokens de ids\", integer_seq_test)\n",
        "encoder_sequence_test = pad_sequences([integer_seq_test], maxlen=max_input_len)\n",
        "print(\"Padding del vector:\", encoder_sequence_test)\n",
        "\n",
        "print('Input:', input_test)\n",
        "translation = translate_sentence(encoder_sequence_test)\n",
        "print('Response:', translation)"
      ],
      "metadata": {
        "colab": {
          "base_uri": "https://localhost:8080/"
        },
        "id": "ZmZb03TwC0kE",
        "outputId": "22a4ef1b-7b55-4941-cd3b-4bfb0bb02da7"
      },
      "execution_count": 52,
      "outputs": [
        {
          "output_type": "stream",
          "name": "stdout",
          "text": [
            "Input: Do you have feelings?\n",
            "Representacion en vector de tokens de ids [3, 2, 16]\n",
            "Padding del vector: [[ 0  0  0  0  0  0  3  2 16]]\n",
            "Input: Do you have feelings?\n",
            "1/1 [==============================] - 0s 24ms/step\n",
            "1/1 [==============================] - 0s 23ms/step\n",
            "1/1 [==============================] - 0s 22ms/step\n",
            "1/1 [==============================] - 0s 21ms/step\n",
            "1/1 [==============================] - 0s 22ms/step\n",
            "1/1 [==============================] - 0s 28ms/step\n",
            "Response: i love to read\n"
          ]
        }
      ]
    },
    {
      "cell_type": "code",
      "source": [
        "input_test = \"Do you read?\"\n",
        "print('Input:', input_test)\n",
        "integer_seq_test = input_tokenizer.texts_to_sequences([input_test])[0]\n",
        "print(\"Representacion en vector de tokens de ids\", integer_seq_test)\n",
        "encoder_sequence_test = pad_sequences([integer_seq_test], maxlen=max_input_len)\n",
        "print(\"Padding del vector:\", encoder_sequence_test)\n",
        "\n",
        "print('Input:', input_test)\n",
        "translation = translate_sentence(encoder_sequence_test)\n",
        "print('Response:', translation)"
      ],
      "metadata": {
        "colab": {
          "base_uri": "https://localhost:8080/"
        },
        "id": "KUkUagKZC2Yh",
        "outputId": "214196f4-67c4-455a-d81e-c872b1bf4bc9"
      },
      "execution_count": 53,
      "outputs": [
        {
          "output_type": "stream",
          "name": "stdout",
          "text": [
            "Input: Do you read?\n",
            "Representacion en vector de tokens de ids [3, 2, 23]\n",
            "Padding del vector: [[ 0  0  0  0  0  0  3  2 23]]\n",
            "Input: Do you read?\n",
            "1/1 [==============================] - 0s 22ms/step\n",
            "1/1 [==============================] - 0s 21ms/step\n",
            "1/1 [==============================] - 0s 21ms/step\n",
            "1/1 [==============================] - 0s 22ms/step\n",
            "1/1 [==============================] - 0s 20ms/step\n",
            "1/1 [==============================] - 0s 23ms/step\n",
            "Response: i love to read\n"
          ]
        }
      ]
    },
    {
      "cell_type": "code",
      "source": [
        "input_test = \"Do you have any pet?\"\n",
        "print('Input:', input_test)\n",
        "integer_seq_test = input_tokenizer.texts_to_sequences([input_test])[0]\n",
        "print(\"Representacion en vector de tokens de ids\", integer_seq_test)\n",
        "encoder_sequence_test = pad_sequences([integer_seq_test], maxlen=max_input_len)\n",
        "print(\"Padding del vector:\", encoder_sequence_test)\n",
        "\n",
        "print('Input:', input_test)\n",
        "translation = translate_sentence(encoder_sequence_test)\n",
        "print('Response:', translation)\n",
        ""
      ],
      "metadata": {
        "colab": {
          "base_uri": "https://localhost:8080/"
        },
        "id": "BWr2EaQ-C4Ay",
        "outputId": "fd0ced45-91a9-4270-c3dd-aeca74f77f99"
      },
      "execution_count": 54,
      "outputs": [
        {
          "output_type": "stream",
          "name": "stdout",
          "text": [
            "Input: Do you have any pet?\n",
            "Representacion en vector de tokens de ids [3, 2, 16, 31, 252]\n",
            "Padding del vector: [[  0   0   0   0   3   2  16  31 252]]\n",
            "Input: Do you have any pet?\n",
            "1/1 [==============================] - 0s 19ms/step\n",
            "1/1 [==============================] - 0s 22ms/step\n",
            "1/1 [==============================] - 0s 20ms/step\n",
            "Response: no\n"
          ]
        }
      ]
    },
    {
      "cell_type": "code",
      "source": [
        "input_test = \"How old are you?\"\n",
        "print('Input:', input_test)\n",
        "integer_seq_test = input_tokenizer.texts_to_sequences([input_test])[0]\n",
        "print(\"Representacion en vector de tokens de ids\", integer_seq_test)\n",
        "encoder_sequence_test = pad_sequences([integer_seq_test], maxlen=max_input_len)\n",
        "print(\"Padding del vector:\", encoder_sequence_test)\n",
        "\n",
        "print('Input:', input_test)\n",
        "translation = translate_sentence(encoder_sequence_test)\n",
        "print('Response:', translation)\n",
        ""
      ],
      "metadata": {
        "colab": {
          "base_uri": "https://localhost:8080/"
        },
        "id": "g-gvlhg7KXNA",
        "outputId": "132500a6-08fb-4593-ced7-fa88ba8d3852"
      },
      "execution_count": 55,
      "outputs": [
        {
          "output_type": "stream",
          "name": "stdout",
          "text": [
            "Input: How old are you?\n",
            "Representacion en vector de tokens de ids [10, 64, 7, 2]\n",
            "Padding del vector: [[ 0  0  0  0  0 10 64  7  2]]\n",
            "Input: How old are you?\n",
            "1/1 [==============================] - 0s 19ms/step\n",
            "1/1 [==============================] - 0s 22ms/step\n",
            "1/1 [==============================] - 0s 21ms/step\n",
            "1/1 [==============================] - 0s 22ms/step\n",
            "1/1 [==============================] - 0s 21ms/step\n",
            "1/1 [==============================] - 0s 37ms/step\n",
            "1/1 [==============================] - 0s 51ms/step\n",
            "1/1 [==============================] - 0s 38ms/step\n",
            "Response: i am 32 i am 32\n"
          ]
        }
      ]
    }
  ],
  "metadata": {
    "accelerator": "GPU",
    "colab": {
      "provenance": [],
      "gpuType": "T4",
      "include_colab_link": true
    },
    "kernelspec": {
      "display_name": "Python 3",
      "name": "python3"
    },
    "language_info": {
      "name": "python",
      "version": "3.10.6"
    },
    "vscode": {
      "interpreter": {
        "hash": "916dbcbb3f70747c44a77c7bcd40155683ae19c65e1c03b4aa3499c5328201f1"
      }
    }
  },
  "nbformat": 4,
  "nbformat_minor": 0
}